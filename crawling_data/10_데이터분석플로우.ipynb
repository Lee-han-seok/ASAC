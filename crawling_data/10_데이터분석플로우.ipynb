{
  "nbformat": 4,
  "nbformat_minor": 0,
  "metadata": {
    "colab": {
      "provenance": [],
      "toc_visible": true
    },
    "kernelspec": {
      "name": "python3",
      "display_name": "Python 3"
    },
    "language_info": {
      "name": "python"
    }
  },
  "cells": [
    {
      "cell_type": "markdown",
      "source": [
        "# 1. 데이터 종류\n"
      ],
      "metadata": {
        "id": "0Y7j44vrQecP"
      }
    },
    {
      "cell_type": "markdown",
      "source": [],
      "metadata": {
        "id": "OdQnjcUQRQ1l"
      }
    },
    {
      "cell_type": "markdown",
      "source": [
        "### 1-1. 정형\n",
        "\n",
        "- 구조화된 데이터\n",
        "- **데이터베이스(RDBMS)**라는 곳에서 추출된 데이터일 확률이 높다\n",
        "    - MSSQL, MYSQL, Oracle ....\n",
        "- **데이터와 구조정보(스키마)가 분리되어 있다.**\n",
        "    - 파이썬으로 가지고 와서 처리도 가능"
      ],
      "metadata": {
        "id": "9ngsGP_jRQ3c"
      }
    },
    {
      "cell_type": "markdown",
      "source": [
        "### 1-2. 비정형"
      ],
      "metadata": {
        "id": "kvvI80crRW6F"
      }
    },
    {
      "cell_type": "markdown",
      "source": [
        "- 구조가 없는 데이터\n",
        "- 바이너리 데이터\n",
        "    - 비디오, 오디오, 문서파일(doc..), 이미지\n",
        "- NoSQL\n",
        "    - 몽고DB, 레디스, ...\n",
        "    - 로그"
      ],
      "metadata": {
        "id": "Lg8U2c26R98e"
      }
    },
    {
      "cell_type": "markdown",
      "source": [
        "### 1-3. 반정형\n"
      ],
      "metadata": {
        "id": "XvcJaZYeRXF9"
      }
    },
    {
      "cell_type": "markdown",
      "source": [
        "- JSON, XML\n",
        "    - 텍스트 기반, 이기종/플랫폼에 독립적인 데이터 포멧\n",
        "- HTML\n",
        "- 데이터안에, 구조정보(스키마)가 들어있다. (같이 존재한다.)"
      ],
      "metadata": {
        "id": "mzdUatfsSaLd"
      }
    },
    {
      "cell_type": "markdown",
      "source": [
        "# 2. 데이터 분석 플로우"
      ],
      "metadata": {
        "id": "1h-apYPETAwO"
      }
    },
    {
      "cell_type": "markdown",
      "source": [
        "## 2-0. 연구 목표 수립\n",
        "\n",
        "- 6단계 시스템 통합을 목표로 기획/설계 진행\n",
        "- 내용\n",
        "    - 타겟 : 누구를 위한 서비스/분석/레포트/... <= 대상이 명확하게 제시, 특징, 분석(숫자 => 분포 등등)\n",
        "    - 목표 : 정량적인 제시\n",
        "        - 모델 : 기존 정확도가 92% -> 95%까지 올리시오?\n",
        "        - 신규 서비스\n",
        "            - 서비스상에서 사용되는 모델의 정확도는 x%를 목표로 한다.\n",
        "        - xx 분석, xx레포트 => 의사결정에 영향을 미치는 자료를 생성"
      ],
      "metadata": {
        "id": "45p7lBOTTldO"
      }
    },
    {
      "cell_type": "markdown",
      "source": [
        "## 2-1. 데이터 수집(획득)"
      ],
      "metadata": {
        "id": "48XdTMsTTD5V"
      }
    },
    {
      "cell_type": "markdown",
      "source": [
        "- 4차 산업에 핵심 코어는 데이터\n",
        "- 데이터가 없어도 가능한 분야\n",
        "    - 머신러닝의 강화학습은 데이터가 없어도 학습이 가능함. (초기 데이터가 없어도 된다.)\n",
        "- 수집 전략 (난이도 기반)\n",
        "    - Level 1\n",
        "        - 사내 데이터\n",
        "        - 공공 데이터(국가, 민간, 연구기관, 대학, 지자체)\n",
        "        - 경연시 제공 데이터(캐글, 데이콘, 지자체, 기관 등등...) -> 제약\n",
        "        - 국책기관\n",
        "            - AI허브, 모두의 말뭉치 등 ...\n",
        "            - github 공개적 제공\n",
        "        - 바우처 사업\n",
        "            - 국가/지자체 사업 편성 및 공고 -> 기업 제안 => 바우처 제공(데이터 구매 비용 제공)\n",
        "\n",
        "\n",
        "---\n",
        "\n",
        "- 위의 방법으로 구할 수 없다면 인터넷을 통해 구하는 방법 (Level 2 ~ 4)\n",
        "    - 사업용이 아닌 교육용이면 문제 없음\n",
        "\n",
        "    - Level 2\n",
        "        - open api 활용\n",
        "        - 특정 기업 API를 활용\n",
        "            - 일일 쿼터 제한이 보통 있음.\n",
        "        - 데이터는 xml이나 json으로 제공\n",
        "        - 대표적인 라이브러리 : request\n",
        "    - Level 3\n",
        "        - web scrapping(웹스크래핑)\n",
        "        - 웹사이트 접속 후 어떤 액션도 없이 로딩된 html을 긁어서 파싱 후 데이터 추출\n",
        "        - 대표적인 라이브러리 : BS4\n",
        "    - Level 4\n",
        "        - web crawling(웹 크롤링)\n",
        "            - 사이트에 대한 분석/파악이 가장 먼저 선행되어야 함!\n",
        "                - 이를 바탕으로 접근 방식을 수립\n",
        "            - 데이터 전송 방식의 이해\n",
        "                - ajax 방식\n",
        "                - form 전송 방식인지 체크\n",
        "                    - 화면이 깜빡임 -> X자(주소창앞에)가 순간적으로 바뀌었는지 점검\n",
        "        - 사용자의 인터렉션이 가미되는 사이트\n",
        "            - 로그인, 스크롤, 버튼 클릭\n",
        "            - ajax 기술 사용된\n",
        "            - 방화벽 적용(cloudflare)\n",
        "        - 원래부터 존재하던 기술\n",
        "            - 과거 php 사용해서 많이 수행함 -> 매크로로 불렸음, 예매, 점프, 글쓰기, 검색, 리뷰/댓글 ... 행위 진행\n",
        "        - 대표적인 라이브러리 : selenium\n",
        "        - 기타 백그라운드 지식\n",
        "            - 웹의 이해, 프런트 구성요소 이해\n",
        "                - html, css, javascript\n",
        "                - 데이터 전송방식에 대한 이해\n",
        "                    - form, ajax, 웹소켓\n",
        "        - JS를 이용한 스크립트 처리도 필요\n",
        "            - selenium에서 js로 코드를 수행할 수 있다 -> 스크롤 처리\n",
        "            - 클릭시 마우스의 위치를 계싼해서 비정상 접근을 막는 곳도 존재\n",
        "                - 클릭시 위치 정보를 수정해서 클릭\n",
        "    - level5\n",
        "        - 패킷 분석으로 추출하는 방식\n",
        "            - 와이어샤크 등 네트워크 레벨에서 통신 패킷을 인터셉트나 추적해서 추출"
      ],
      "metadata": {
        "id": "K1vv22fRUYzF"
      }
    },
    {
      "cell_type": "markdown",
      "source": [
        "- 자동화\n",
        "    - 모듈 형식(*.py)으로 데이터 수집행위를 진행하고 필요하면 전처리, 데이터 적제(파일 or 데이터베이스)\n",
        "    - os 레벨에서 자동화 작성\n",
        "        - 윈도우\n",
        "            - 작업 스케줄러 활용\n",
        "        - 리눅스\n",
        "            - cron\n",
        "    - sw레벨에서 스케줄 작성 가능\n",
        "        - 단, 메모리 관리 및 일정이 밀릴 수 있다.\n",
        "        "
      ],
      "metadata": {
        "id": "L1BhCoNXYAqO"
      }
    },
    {
      "cell_type": "markdown",
      "source": [
        "- 주의사항\n",
        "    - 같은 IP에서 지속적으로 수집행위\n",
        "        - 빈도에 따라서는 디도스 공격으로 인지하여 차단 가능함\n",
        "        - cloudFlare 사용한 사이트 등 디도스 디펜스가 적용된 사이트\n",
        "    - 프록시를 활용한 우회 접근법\n",
        "        - 해외 프록시 사용 => 금전적인 비용이 발생함\n",
        "    - User-Agent라는 헤더값을 변조하여 특정 브라우저에서 지속적인 접속이 있음을 숨길 필요가 있다.\n",
        "    - 접속 시간의 변조, 에이전트 변조, IP 우회 등등 여러 조치들이 필요함\n",
        "    - 지속이고, 주기가 짧을수록 걸릴 가능성 있음."
      ],
      "metadata": {
        "id": "0j2R8U9fcH9w"
      }
    },
    {
      "cell_type": "markdown",
      "source": [
        "## 2-2. 데이터 준비(전처리/정제)\n",
        "- 데이터의 품질을 높인다\n",
        "- 라이브러리\n",
        "    - numpy\n",
        "        - ndarray\n",
        "    - pandas\n",
        "        - Series, DataFrame\n",
        "\n",
        "- 처리사항\n",
        "    - 결측치, 이상치\n",
        "    - 라벨링\n",
        "    - 피처 엔지니어링\n",
        "    - 정규식 사용(전처리 과정)"
      ],
      "metadata": {
        "id": "vIbWYioUTD7k"
      }
    },
    {
      "cell_type": "markdown",
      "source": [
        "## 2-3. 데이터 분석\n",
        "\n",
        "- 주요 기법\n",
        "    - **설명 분석**\n",
        "        - 기초 통계량 기반 분석\n",
        "    - **탐색 분석**\n",
        "        - EDA, 시각화\n",
        "    - 추론 분석\n",
        "        - 통계\n",
        "    - **예측 분석**\n",
        "        - 머신러닝, 딥러닝\n",
        "        **- 5단계 모델 구축에서 진행**\n",
        "    - 인과 분석\n",
        "        - 통계\n",
        "    - 규범 분석\n",
        "        - 통계\n",
        "- 결론\n",
        "    - **데이터에 대한 통찰을 얻는것**\n",
        "\n",
        "    "
      ],
      "metadata": {
        "id": "aqgXq2vfTD90"
      }
    },
    {
      "cell_type": "markdown",
      "source": [
        "## 2-4. 모델 구축"
      ],
      "metadata": {
        "id": "MemZW3tyTEAM"
      }
    },
    {
      "cell_type": "markdown",
      "source": [
        "## 2-5. 시스템 통합/모델서빙 후 서비스 구축"
      ],
      "metadata": {
        "id": "DWlK-yoGTECM"
      }
    }
  ]
}