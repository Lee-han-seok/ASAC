{
 "cells": [
  {
   "cell_type": "code",
   "execution_count": null,
   "metadata": {},
   "outputs": [],
   "source": [
    "'''\n",
    "    - 유튜브 -> 대부분의 정보들이 가장 많이 유통되는 플랫폼\n",
    "    - 정보획득 방법\n",
    "        - level2 : 구글에 API 신청 -> 심사 후 -> OK 사용가능(쿼터 제한 존재), 기능의 제한성\n",
    "        - level4 : selenium을 통한 직접 수집\n",
    "            - 여러 영상의 썸네일 수집 => 텍스트 추출(OCR) => 집계, 분석, 통계 => 그냥의 이슈, 핵심, 뜨는 종목 등등 예측 \n",
    "            - 리뷰 -> 감정 분석, 악플 분석, 등등 ...\n",
    "            - 영상 => 요약\n",
    "                - 영상의 전체 길이 중 가장 피크가 올라간 지점 => 정보 추출 ...\n",
    "    - 메타 정보 추출\n",
    "        - 썸네일 저장\n",
    "            - 웹상에 존재하는 이미지를 내가 원하는 위치에 저장하는 방식\n",
    "        - 메타 정보\n",
    "            - 제목, 유투버, 조회수, 등등 저장\n",
    "    '''"
   ]
  },
  {
   "cell_type": "markdown",
   "metadata": {},
   "source": [
    "## 0. 필요 모듈 호출"
   ]
  },
  {
   "cell_type": "code",
   "execution_count": 3,
   "metadata": {},
   "outputs": [],
   "source": [
    "from selenium import webdriver as wd\n",
    "import time\n",
    "import random\n",
    "from selenium.webdriver.common.by import By\n",
    "import pandas as pd\n",
    "import urllib"
   ]
  },
  {
   "cell_type": "code",
   "execution_count": 2,
   "metadata": {},
   "outputs": [],
   "source": [
    "driver = wd.Chrome()"
   ]
  },
  {
   "cell_type": "markdown",
   "metadata": {},
   "source": [
    "## 1. 사이트 접속"
   ]
  },
  {
   "cell_type": "code",
   "execution_count": 4,
   "metadata": {},
   "outputs": [],
   "source": [
    "# 접속 주소, 검색어 : 카눈, 게시일 : 오늘, 정렬 : 최신순\n",
    "keyword = urllib.parse.quote('카눈')\n",
    "# get 방식 요청 => https://도메인/경로?키1=값1&키2=값2...\n",
    "target_site = f'https://www.youtube.com/results?search_query={keyword}&sp=CAISBAgCEAE%253D'\n",
    "driver.get(target_site)"
   ]
  },
  {
   "cell_type": "markdown",
   "metadata": {},
   "source": [
    "## 2. 데이터 더 불러오기\n",
    "- 더보기(스크롤바를 맨 밑으로 내린다)\n",
    "     - 특정 회수만큼 지정하여 수행(설정)\n",
    "     - javascript 활용\n",
    "     - 여기는 30회만 지정 (설정)"
   ]
  },
  {
   "cell_type": "code",
   "execution_count": 5,
   "metadata": {},
   "outputs": [],
   "source": [
    "for n in range(30):\n",
    "    driver.execute_script('''script=\n",
    "        window.scrollBy(0, 2000)                                         \n",
    "     ''')\n",
    "    time.sleep(1*5)"
   ]
  },
  {
   "cell_type": "code",
   "execution_count": null,
   "metadata": {},
   "outputs": [],
   "source": []
  },
  {
   "cell_type": "markdown",
   "metadata": {},
   "source": [
    "## 3. 영상 요소 분석"
   ]
  },
  {
   "cell_type": "code",
   "execution_count": 8,
   "metadata": {},
   "outputs": [
    {
     "data": {
      "text/plain": [
       "229"
      ]
     },
     "execution_count": 8,
     "metadata": {},
     "output_type": "execute_result"
    }
   ],
   "source": [
    "# 전체 영상 목록 #contents > ytd-video-renderer\n",
    "# 영상 1개는 <ytd-video-renderer ..>\n",
    "\n",
    "videos = driver.find_elements(By.CSS_SELECTOR, '#contents > ytd-video-renderer')\n",
    "len(videos)"
   ]
  },
  {
   "cell_type": "code",
   "execution_count": 16,
   "metadata": {},
   "outputs": [
    {
     "data": {
      "text/plain": [
       "'uzVPvOzWtU4_hq720.jpg'"
      ]
     },
     "execution_count": 16,
     "metadata": {},
     "output_type": "execute_result"
    }
   ],
   "source": [
    "# 아래 데이터를 이용하여 동적으로 파일명을 만드시오\n",
    "# 원하는값 uzVPvOzWtU4\n",
    "test = 'https://i.ytimg.com/vi/uzVPvOzWtU4/hq720.jpg?sqp=-oaymwEcCNAFEJQDSFXyq4qpAw4IARUAAIhCGAFwAcABBg==&rs=AOn4CLC0ZsvXe6bRV7KXIU7qgy1sfOibxA'\n",
    "tmp = test.split('?')[0].split('/')\n",
    "f'{tmp[-2]}_{tmp[-1]}'"
   ]
  },
  {
   "cell_type": "code",
   "execution_count": 17,
   "metadata": {},
   "outputs": [
    {
     "name": "stdout",
     "output_type": "stream",
     "text": [
      "https://i.ytimg.com/vi/HNpQgcBrzVE/hq720.jpg?sqp=-oaymwEcCOgCEMoBSFXyq4qpAw4IARUAAIhCGAFwAcABBg==&rs=AOn4CLDBTIgtsR2BxPOa2aTZDGjcLavHGA\n"
     ]
    }
   ],
   "source": [
    "# 썸네일 이미지 링크 접속 -> 이미지 다운로드\n",
    "# 서버에 이미지를 요청한다 => request\n",
    "import urllib.request as req\n",
    "import os, os.path\n",
    "def thumbnail_download(src : str, save_path='./data/youtube/thumbnail') -> None :\n",
    "    # 0.이미지 소스가 없을 경우\n",
    "    if not src: return # 함수 종료\n",
    "    \n",
    "    # 1. 해당 디렉토리가 존재하나?\n",
    "    if not os.path.exists(save_path):\n",
    "        print('해당 디렉토리가 없다 -> 자동으로 만든다')\n",
    "        os.makedirs(save_path)\n",
    "    \n",
    "    # 2. 저장할 파일명 생성(획득) -> 원래 경로에서 파일명을 추출하겠다.\n",
    "    print(src)\n",
    "    '''\n",
    "        영상 고유 번호.확장자 -> 이름 구성\n",
    "    '''\n",
    "    tmp = src.split('?')[0].split('/')\n",
    "    filename = f'{tmp[-2]}_{tmp[-1]}'\n",
    "\n",
    "    # 3. 저장 (원격지에 있는 리소스를 내 PC 원하는 위치에 저장하기)\n",
    "    req.urlretrieve(src, f'{save_path}/{filename}')\n",
    "    pass\n",
    "\n",
    "# 개별 영상물에서 썸네일 획득\n",
    "# 썸네일 정보 #thumbnail > yt-image > img\n",
    "for video in videos :\n",
    "    img = video.find_element(By.CSS_SELECTOR, '#thumbnail > yt-image > img')\n",
    "    # 이미지의 주소 확인\n",
    "    # print(img.get_attribute('src'))\n",
    "    # 썸네일을 로컬 PC에 저장\n",
    "    thumbnail_download(img.get_attribute('src'))\n",
    "    # 영상 제목, 유튜브 아이디, 영상 공개일, 조회수, 좋아요 수, ..... 필요하면 추가로 개별적으로 해보자!\n",
    "    break "
   ]
  },
  {
   "cell_type": "code",
   "execution_count": 18,
   "metadata": {},
   "outputs": [
    {
     "name": "stdout",
     "output_type": "stream",
     "text": [
      "https://i.ytimg.com/vi/str_kwo-ctA/hq720.jpg?sqp=-oaymwEcCNAFEJQDSFXyq4qpAw4IARUAAIhCGAFwAcABBg==&rs=AOn4CLBkJUK2w1uUUjF3f3OFnGaFRvvl8g\n"
     ]
    }
   ],
   "source": [
    "# 최종 유튜브 섬네일 이미지를 가져오는 절차\n",
    "from selenium import webdriver as wd\n",
    "import time\n",
    "import random\n",
    "from selenium.webdriver.common.by import By\n",
    "import pandas as pd\n",
    "import urllib\n",
    "\n",
    "driver = wd.Chrome()\n",
    "\n",
    "# 접속 주소, 검색어 : 카눈, 게시일 : 오늘, 정렬 : 최신순\n",
    "keyword = urllib.parse.quote('카눈')\n",
    "# get 방식 요청 => https://도메인/경로?키1=값1&키2=값2...\n",
    "target_site = f'https://www.youtube.com/results?search_query={keyword}&sp=CAISBAgCEAE%253D'\n",
    "driver.get(target_site)\n",
    "\n",
    "keyword = urllib.parse.quote('카눈')\n",
    "# get 방식 요청 => https://도메인/경로?키1=값1&키2=값2...\n",
    "target_site = f'https://www.youtube.com/results?search_query={keyword}&sp=CAISBAgCEAE%253D'\n",
    "driver.get(target_site)\n",
    "\n",
    "for n in range(30):\n",
    "    driver.execute_script('''script=\n",
    "        window.scrollBy(0, 2000)                                         \n",
    "     ''')\n",
    "    time.sleep(1*5)\n",
    "\n",
    "videos = driver.find_elements(By.CSS_SELECTOR, '#contents > ytd-video-renderer')\n",
    "\n",
    "\n",
    "# 썸네일 이미지 링크 접속 -> 이미지 다운로드\n",
    "# 서버에 이미지를 요청한다 => request\n",
    "import urllib.request as req\n",
    "import os, os.path\n",
    "def thumbnail_download(src : str, save_path='./data/youtube/thumbnail') -> None :\n",
    "    # 0.이미지 소스가 없을 경우\n",
    "    if not src: return # 함수 종료\n",
    "    \n",
    "    # 1. 해당 디렉토리가 존재하나?\n",
    "    if not os.path.exists(save_path):\n",
    "        print('해당 디렉토리가 없다 -> 자동으로 만든다')\n",
    "        os.makedirs(save_path)\n",
    "    \n",
    "    # 2. 저장할 파일명 생성(획득) -> 원래 경로에서 파일명을 추출하겠다.\n",
    "    print(src)\n",
    "    '''\n",
    "        영상 고유 번호.확장자 -> 이름 구성\n",
    "    '''\n",
    "    tmp = src.split('?')[0].split('/')\n",
    "    filename = f'{tmp[-2]}_{tmp[-1]}'\n",
    "\n",
    "    # 3. 저장 (원격지에 있는 리소스를 내 PC 원하는 위치에 저장하기)\n",
    "    req.urlretrieve(src, f'{save_path}/{filename}')\n",
    "    pass\n",
    "\n",
    "# 개별 영상물에서 썸네일 획득\n",
    "# 썸네일 정보 #thumbnail > yt-image > img\n",
    "for video in videos :\n",
    "    img = video.find_element(By.CSS_SELECTOR, '#thumbnail > yt-image > img')\n",
    "    # 이미지의 주소 확인\n",
    "    # print(img.get_attribute('src'))\n",
    "    # 썸네일을 로컬 PC에 저장\n",
    "    thumbnail_download(img.get_attribute('src'))\n",
    "    break"
   ]
  },
  {
   "cell_type": "code",
   "execution_count": null,
   "metadata": {},
   "outputs": [],
   "source": [
    "# 최종 마무리 작업\n",
    "# 웹드라이버 반드시 종료, 제거 => 메모리 누적이 안됨\n",
    "driver.close()\n",
    "driver.quit()\n",
    "\n",
    "# s/w 레벨로 자동화 수행\n",
    "import sys\n",
    "sys.exit(0)"
   ]
  }
 ],
 "metadata": {
  "kernelspec": {
   "display_name": "Python 3",
   "language": "python",
   "name": "python3"
  },
  "language_info": {
   "codemirror_mode": {
    "name": "ipython",
    "version": 3
   },
   "file_extension": ".py",
   "mimetype": "text/x-python",
   "name": "python",
   "nbconvert_exporter": "python",
   "pygments_lexer": "ipython3",
   "version": "3.10.11"
  },
  "orig_nbformat": 4
 },
 "nbformat": 4,
 "nbformat_minor": 2
}
