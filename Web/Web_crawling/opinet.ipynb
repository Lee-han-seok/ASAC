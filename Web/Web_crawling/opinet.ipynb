{
 "cells": [
  {
   "cell_type": "markdown",
   "metadata": {},
   "source": [
    "# Step1 기초 작업"
   ]
  },
  {
   "cell_type": "code",
   "execution_count": 68,
   "metadata": {},
   "outputs": [
    {
     "data": {
      "text/plain": [
       "'4.11.2'"
      ]
     },
     "execution_count": 68,
     "metadata": {},
     "output_type": "execute_result"
    }
   ],
   "source": [
    "import pandas as pd\n",
    "import os\n",
    "import sys\n",
    "from selenium import webdriver as wd\n",
    "import time\n",
    "import random # 엑셀을 다운받는 행위에 대한 시간 간격을 변조\n",
    "import selenium\n",
    "from selenium.webdriver.common.by import By\n",
    "\n",
    "\n",
    "selenium.__version__"
   ]
  },
  {
   "cell_type": "code",
   "execution_count": 69,
   "metadata": {},
   "outputs": [],
   "source": [
    "# 사이트 : https://www.opinet.co.kr/searRgSelect.do\n",
    "# 전국 주유소 가격 정보(일단위) 수집 : 24:00 수집 목표 (1일 1회) -> 변동시간 확인 후 추가 설정\n",
    "# 시도 > 시군구 > 엑셀다운로드 -> *.XLSX 다운(윈도우 다운로드 폴더) -> 다 모아서 DF로 구성(pandas) -> 엑셀 삭제(OS 모듈) -> db로\n"
   ]
  },
  {
   "cell_type": "code",
   "execution_count": 70,
   "metadata": {},
   "outputs": [],
   "source": [
    "# 브라우저 가동\n",
    "driver = wd.Chrome()"
   ]
  },
  {
   "cell_type": "code",
   "execution_count": 71,
   "metadata": {},
   "outputs": [],
   "source": [
    "# 초기 페이지 접속\n",
    "target_site = 'https://www.opinet.co.kr/searRgSelect.do#'\n",
    "driver.get(target_site)\n",
    "time.sleep(2) # 사이트가 늦게 뜨면 대기, 디도스 방어코드 (cloudflare => 10초)\n"
   ]
  },
  {
   "cell_type": "markdown",
   "metadata": {},
   "source": [
    "# STEP 2 지역 정보 획득\n",
    "- 지역 정보 획득 - select 태그"
   ]
  },
  {
   "cell_type": "code",
   "execution_count": 72,
   "metadata": {},
   "outputs": [
    {
     "data": {
      "text/plain": [
       "18"
      ]
     },
     "execution_count": 72,
     "metadata": {},
     "output_type": "execute_result"
    }
   ],
   "source": [
    "# 좌측 지역 (서울...) 등 지역(17<지역> + 1<프럼프트>)이 담겨 있는 태그 => select#SIDO_NM0 > option\n",
    "sidos = driver.find_elements(By.CSS_SELECTOR, 'select#SIDO_NM0 > option')\n",
    "len(sidos)"
   ]
  },
  {
   "cell_type": "code",
   "execution_count": 73,
   "metadata": {},
   "outputs": [
    {
     "name": "stdout",
     "output_type": "stream",
     "text": [
      "서울특별시, 부산광역시, 대구광역시, 인천광역시, 광주광역시, 대전광역시, 울산광역시, 세종특별자치시, 경기도, 충청북도, 충청남도, 전라북도, 전라남도, 경상북도, 경상남도, 제주특별자치도, 강원특별자치도, "
     ]
    }
   ],
   "source": [
    "for sido in sidos[1:] : # 프람프트 제외\n",
    "    value = sido.get_attribute('value').strip()\n",
    "    print(value, end = ', ')"
   ]
  },
  {
   "cell_type": "code",
   "execution_count": 74,
   "metadata": {},
   "outputs": [
    {
     "name": "stdout",
     "output_type": "stream",
     "text": [
      "['서울특별시', '부산광역시', '대구광역시', '인천광역시', '광주광역시', '대전광역시', '울산광역시', '세종특별자치시', '경기도', '충청북도', '충청남도', '전라북도', '전라남도', '경상북도', '경상남도', '제주특별자치도', '강원특별자치도']\n"
     ]
    }
   ],
   "source": [
    "sido_values = [sido.get_attribute('value').strip() for sido in sidos[1:]]\n",
    "print(sido_values) # 최상위 카테고리"
   ]
  },
  {
   "cell_type": "code",
   "execution_count": 75,
   "metadata": {},
   "outputs": [],
   "source": [
    "# 사용자가 경기를 클릭했다 -> select 태그를 특정해서, 부산값을 넣고, send_keys() 하는 방식으로 이해할 수 있음.\n",
    "# 자동 위치 완성때문에 다른 지역으로 가는듯함\n",
    "SIDO_NM0_SEL = driver.find_element(By.ID, 'SIDO_NM0')\n",
    "# 값 입력 -> 샘플로 부산(1)\n",
    "SIDO_NM0_SEL.send_keys(sido_values[2])"
   ]
  },
  {
   "cell_type": "code",
   "execution_count": 76,
   "metadata": {},
   "outputs": [
    {
     "data": {
      "text/plain": [
       "['서울특별시',\n",
       " '부산광역시',\n",
       " '대구광역시',\n",
       " '인천광역시',\n",
       " '광주광역시',\n",
       " '대전광역시',\n",
       " '울산광역시',\n",
       " '세종특별자치시',\n",
       " '경기도',\n",
       " '충청북도',\n",
       " '충청남도',\n",
       " '전라북도',\n",
       " '전라남도',\n",
       " '경상북도',\n",
       " '경상남도',\n",
       " '제주특별자치도',\n",
       " '강원특별자치도']"
      ]
     },
     "execution_count": 76,
     "metadata": {},
     "output_type": "execute_result"
    }
   ],
   "source": [
    "sido_values"
   ]
  },
  {
   "cell_type": "code",
   "execution_count": 77,
   "metadata": {},
   "outputs": [],
   "source": [
    "# 연습 -> 순환(서울~강원) 로테이션 진행, 1초 대기 -> 정말 지역만 바뀜! 주유소 목록은 바뀌지 않음.\n",
    "for value in sido_values[:1]:\n",
    "    # value : 서울특별시, 부산광역시, ...\n",
    "    # 지역 변경\n",
    "    SIDO_NM0_SEL = driver.find_element(By.ID, 'SIDO_NM0')\n",
    "    SIDO_NM0_SEL.send_keys(value)\n",
    "    time.sleep(1)\n",
    "# 이제 시/군/구를 찍어봐야겠다!"
   ]
  },
  {
   "cell_type": "code",
   "execution_count": 78,
   "metadata": {},
   "outputs": [
    {
     "data": {
      "text/plain": [
       "['강남구',\n",
       " '강동구',\n",
       " '강북구',\n",
       " '강서구',\n",
       " '관악구',\n",
       " '광진구',\n",
       " '구로구',\n",
       " '금천구',\n",
       " '노원구',\n",
       " '도봉구',\n",
       " '동대문구',\n",
       " '동작구',\n",
       " '마포구',\n",
       " '서대문구',\n",
       " '서초구',\n",
       " '성동구',\n",
       " '성북구',\n",
       " '송파구',\n",
       " '양천구',\n",
       " '영등포구',\n",
       " '용산구',\n",
       " '은평구',\n",
       " '종로구',\n",
       " '중구',\n",
       " '중랑구']"
      ]
     },
     "execution_count": 78,
     "metadata": {},
     "output_type": "execute_result"
    }
   ],
   "source": [
    "# 시/군/구 선택(for) -> 잠시 대기 -> 엑셀 저장 클릭\n",
    "# 시/군/구 값 획득\n",
    "# 시군구 select 요소 id = SIGUNGU_NM0\n",
    "# 시군구 select 요소 id 밑 모든 option = SIGUNGU_NM0 > option\n",
    "sigungus = driver.find_elements(By.CSS_SELECTOR, '#SIGUNGU_NM0 > option')\n",
    "len(sigungus) # 프럼프트 1 + 나머지\n",
    "[opt.get_attribute('value') for opt in sigungus[1:]]\n"
   ]
  },
  {
   "cell_type": "code",
   "execution_count": 81,
   "metadata": {},
   "outputs": [],
   "source": [
    "# 시군구값 획득\n",
    "\n",
    "# 1. 시군구 값 획득\n",
    "sigungus = driver.find_elements(By.CSS_SELECTOR, '#SIGUNGU_NM0 > option')\n",
    "sigungus = [opt.get_attribute('value') for opt in sigungus[1:]]\n",
    "\n",
    "# sigungus : ['강남구', '강동구' ... ]\n",
    "for sigungu in sigungus[:3] :\n",
    "    # 2. 시군구 요소 획득 -> 시군구가 선택되면 메모리가 변경됨 (화면갱신)\n",
    "    tmp = driver.find_element(By.CSS_SELECTOR, '#SIGUNGU_NM0')\n",
    "    \n",
    "    # 3. 시군구 선택(하나씩) -> form전송(화면 반짝, X자 발견) -> 화면 갱신\n",
    "    tmp.send_keys(sigungu)\n",
    "\n",
    "    # 4. 잠시 대기 (화면 껌뻑, 새로 화면이 모두 랜더링이 된다)\n",
    "    time.sleep(1*5)\n",
    "\n",
    "    # 5. 엑셀 저장 버튼 클릭\n",
    "    driver.find_element(By.ID, 'glopopd_excel').click()"
   ]
  },
  {
   "cell_type": "code",
   "execution_count": 82,
   "metadata": {},
   "outputs": [],
   "source": [
    "# 최종코드\n",
    "# 최종코드 \n",
    "# step 1\n",
    "target_site = 'https://www.opinet.co.kr/searRgSelect.do'\n",
    "driver.get( target_site )\n",
    "time.sleep(2) # 사이트가 늦게 뜨면 대기, 디도그 방어코드 (cloudflare => 10초)\n",
    "\n",
    "# step 2\n",
    "sidos = driver.find_elements(By.CSS_SELECTOR, 'select#SIDO_NM0 > option')\n",
    "sido_values = [ sido.get_attribute('value').strip() for sido in sidos[1:] ]\n",
    "\n",
    "# step 3\n",
    "for value in sido_values[:1]:#sidos[1:]:\n",
    "    # value : 서울특별시 -> 부산광역시 -> ...\n",
    "    # 지역변경 \n",
    "    # 하위 시군구에서 화면이 갱신되기 때문에 매번 새로 구한다\n",
    "    SIDO_NM0_SEL = driver.find_element(By.ID,'SIDO_NM0')\n",
    "    SIDO_NM0_SEL.send_keys( value )\n",
    "    # 1초 대기\n",
    "    time.sleep(1)\n",
    "    \n",
    "    # 시군구 값 획득 -> 시군구 선택(for) -> 잠시대기 -> 엑셀저장 클릭\n",
    "    # 1. 시군구 값 획득\n",
    "    sigungus = driver.find_elements(By.CSS_SELECTOR, '#SIGUNGU_NM0 > option')\n",
    "    sigungus = [ opt.get_attribute('value') for opt in sigungus[1:] ]\n",
    "    #print( sigungus )\n",
    "\n",
    "    for sigungu in sigungus:#[:3]: # ['강남구', '강동구', ...]\n",
    "        # 2. 시군구 요소 획득 -> 시군구가 선택되면 메모리가 변경됨(화면갱신)\n",
    "        tmp = driver.find_element(By.CSS_SELECTOR, '#SIGUNGU_NM0')\n",
    "\n",
    "        # 3. 시군구 선택(햐나씩) -> form 전송 발생 : 화면 껌벅 : X자 발견 -> 화면갱신\n",
    "        #    이 결과로 새로운 지역의 주유소 정보가 내려온다\n",
    "        tmp.send_keys( sigungu )\n",
    "\n",
    "        # 4. 잠시 대기 (화면껌벅, 새로 화면이 모드 렌더링이 된다)\n",
    "        time.sleep(1*5)\n",
    "\n",
    "        # 5. 엑셀 저장 버튼 클릭\n",
    "        driver.find_element(By.ID, 'glopopd_excel').click()"
   ]
  },
  {
   "cell_type": "markdown",
   "metadata": {},
   "source": [
    "# Step3 : 엑셀파일 모아서 DF로 구성\n"
   ]
  },
  {
   "cell_type": "code",
   "execution_count": 87,
   "metadata": {},
   "outputs": [
    {
     "data": {
      "text/plain": [
       "(25, 'C://Users//NT551XCJ//Downloads\\\\지역_위치별(주유소) (1).xls')"
      ]
     },
     "execution_count": 87,
     "metadata": {},
     "output_type": "execute_result"
    }
   ],
   "source": [
    "# 특정 폴더 내에 필요로 하는 파일들이 존재한다.\n",
    "# 이 파일들을 모아 하나의 목록(리스트)으로 구성 -> glob\n",
    "import glob\n",
    "\n",
    "files = glob.glob('C://Users//NT551XCJ//Downloads//*.xls')\n",
    "len(files), files[0]"
   ]
  },
  {
   "cell_type": "code",
   "execution_count": 106,
   "metadata": {},
   "outputs": [
    {
     "name": "stdout",
     "output_type": "stream",
     "text": [
      "<class 'pandas.core.frame.DataFrame'>\n",
      "<class 'pandas.core.frame.DataFrame'>\n",
      "<class 'pandas.core.frame.DataFrame'>\n",
      "<class 'pandas.core.frame.DataFrame'>\n",
      "<class 'pandas.core.frame.DataFrame'>\n",
      "<class 'pandas.core.frame.DataFrame'>\n",
      "<class 'pandas.core.frame.DataFrame'>\n",
      "<class 'pandas.core.frame.DataFrame'>\n",
      "<class 'pandas.core.frame.DataFrame'>\n",
      "<class 'pandas.core.frame.DataFrame'>\n",
      "<class 'pandas.core.frame.DataFrame'>\n",
      "<class 'pandas.core.frame.DataFrame'>\n",
      "<class 'pandas.core.frame.DataFrame'>\n",
      "<class 'pandas.core.frame.DataFrame'>\n",
      "<class 'pandas.core.frame.DataFrame'>\n",
      "<class 'pandas.core.frame.DataFrame'>\n",
      "<class 'pandas.core.frame.DataFrame'>\n",
      "<class 'pandas.core.frame.DataFrame'>\n",
      "<class 'pandas.core.frame.DataFrame'>\n",
      "<class 'pandas.core.frame.DataFrame'>\n",
      "<class 'pandas.core.frame.DataFrame'>\n",
      "<class 'pandas.core.frame.DataFrame'>\n",
      "<class 'pandas.core.frame.DataFrame'>\n",
      "<class 'pandas.core.frame.DataFrame'>\n",
      "<class 'pandas.core.frame.DataFrame'>\n"
     ]
    }
   ],
   "source": [
    "# 요구사항\n",
    "# 25개의 xls => 25개의 df => 리스트에 담았다 => 1개의 df로 통합(병합) -> db에 1번 입력\n",
    "import pandas as pd\n",
    "\n",
    "dfs = list()\n",
    "for file in files:\n",
    "    df = pd.read_excel(file, header = 2) # header는 위에서 부터 행\n",
    "    print(type(df))\n",
    "    # 리스트의 맴버가 DataFrame이 된다.\n",
    "    dfs.append(df)"
   ]
  },
  {
   "cell_type": "code",
   "execution_count": 107,
   "metadata": {},
   "outputs": [
    {
     "data": {
      "text/plain": [
       "(441, 10)"
      ]
     },
     "execution_count": 107,
     "metadata": {},
     "output_type": "execute_result"
    }
   ],
   "source": [
    "# 1개의 df로 병합\n",
    "all_df = pd.concat(dfs)\n",
    "all_df.shape\n",
    "# 서울시 주요소의 개수는 441개"
   ]
  },
  {
   "cell_type": "code",
   "execution_count": 108,
   "metadata": {},
   "outputs": [
    {
     "data": {
      "text/html": [
       "<div>\n",
       "<style scoped>\n",
       "    .dataframe tbody tr th:only-of-type {\n",
       "        vertical-align: middle;\n",
       "    }\n",
       "\n",
       "    .dataframe tbody tr th {\n",
       "        vertical-align: top;\n",
       "    }\n",
       "\n",
       "    .dataframe thead th {\n",
       "        text-align: right;\n",
       "    }\n",
       "</style>\n",
       "<table border=\"1\" class=\"dataframe\">\n",
       "  <thead>\n",
       "    <tr style=\"text-align: right;\">\n",
       "      <th></th>\n",
       "      <th>지역</th>\n",
       "      <th>상호</th>\n",
       "      <th>주소</th>\n",
       "      <th>상표</th>\n",
       "      <th>전화번호</th>\n",
       "      <th>셀프여부</th>\n",
       "      <th>고급휘발유</th>\n",
       "      <th>휘발유</th>\n",
       "      <th>경유</th>\n",
       "      <th>실내등유</th>\n",
       "    </tr>\n",
       "  </thead>\n",
       "  <tbody>\n",
       "    <tr>\n",
       "      <th>0</th>\n",
       "      <td>서울특별시</td>\n",
       "      <td>재건에너지 재정제2주유소 고속셀프지점</td>\n",
       "      <td>서울특별시 강동구  천호대로 1246 (둔촌제2동)</td>\n",
       "      <td>HD현대오일뱅크</td>\n",
       "      <td>02-487-2030</td>\n",
       "      <td>Y</td>\n",
       "      <td>-</td>\n",
       "      <td>1719</td>\n",
       "      <td>1579</td>\n",
       "      <td>-</td>\n",
       "    </tr>\n",
       "    <tr>\n",
       "      <th>1</th>\n",
       "      <td>서울특별시</td>\n",
       "      <td>구천면주유소</td>\n",
       "      <td>서울 강동구 구천면로 357 (암사동)</td>\n",
       "      <td>HD현대오일뱅크</td>\n",
       "      <td>02-441-0536</td>\n",
       "      <td>N</td>\n",
       "      <td>-</td>\n",
       "      <td>1734</td>\n",
       "      <td>1615</td>\n",
       "      <td>-</td>\n",
       "    </tr>\n",
       "    <tr>\n",
       "      <th>2</th>\n",
       "      <td>서울특별시</td>\n",
       "      <td>(주)삼표에너지 고덕주유소</td>\n",
       "      <td>서울 강동구 고덕로 39 (암사동)</td>\n",
       "      <td>GS칼텍스</td>\n",
       "      <td>02-441-3327</td>\n",
       "      <td>Y</td>\n",
       "      <td>1945</td>\n",
       "      <td>1745</td>\n",
       "      <td>1625</td>\n",
       "      <td>1635</td>\n",
       "    </tr>\n",
       "    <tr>\n",
       "      <th>3</th>\n",
       "      <td>서울특별시</td>\n",
       "      <td>(주)소모 신월주유소</td>\n",
       "      <td>서울 강동구 양재대로 1323 (성내동)</td>\n",
       "      <td>GS칼텍스</td>\n",
       "      <td>02-6956-6674</td>\n",
       "      <td>Y</td>\n",
       "      <td>1946</td>\n",
       "      <td>1746</td>\n",
       "      <td>1638</td>\n",
       "      <td>1590</td>\n",
       "    </tr>\n",
       "    <tr>\n",
       "      <th>4</th>\n",
       "      <td>서울특별시</td>\n",
       "      <td>명일주유소</td>\n",
       "      <td>서울 강동구 고덕로 168 (명일동)</td>\n",
       "      <td>SK에너지</td>\n",
       "      <td>02-3428-1739</td>\n",
       "      <td>Y</td>\n",
       "      <td>1995</td>\n",
       "      <td>1748</td>\n",
       "      <td>1625</td>\n",
       "      <td>-</td>\n",
       "    </tr>\n",
       "  </tbody>\n",
       "</table>\n",
       "</div>"
      ],
      "text/plain": [
       "      지역                    상호                            주소        상표  \\\n",
       "0  서울특별시  재건에너지 재정제2주유소 고속셀프지점  서울특별시 강동구  천호대로 1246 (둔촌제2동)  HD현대오일뱅크   \n",
       "1  서울특별시                구천면주유소         서울 강동구 구천면로 357 (암사동)  HD현대오일뱅크   \n",
       "2  서울특별시        (주)삼표에너지 고덕주유소           서울 강동구 고덕로 39 (암사동)     GS칼텍스   \n",
       "3  서울특별시           (주)소모 신월주유소        서울 강동구 양재대로 1323 (성내동)     GS칼텍스   \n",
       "4  서울특별시                 명일주유소          서울 강동구 고덕로 168 (명일동)     SK에너지   \n",
       "\n",
       "           전화번호 셀프여부 고급휘발유   휘발유    경유  실내등유  \n",
       "0   02-487-2030    Y     -  1719  1579     -  \n",
       "1   02-441-0536    N     -  1734  1615     -  \n",
       "2   02-441-3327    Y  1945  1745  1625  1635  \n",
       "3  02-6956-6674    Y  1946  1746  1638  1590  \n",
       "4  02-3428-1739    Y  1995  1748  1625     -  "
      ]
     },
     "execution_count": 108,
     "metadata": {},
     "output_type": "execute_result"
    }
   ],
   "source": [
    "# 최종 통합된 데이터\n",
    "all_df.head()"
   ]
  },
  {
   "cell_type": "code",
   "execution_count": null,
   "metadata": {},
   "outputs": [],
   "source": [
    "# 사용자로부터 입력을 받아서 서버로 전송하는 태그들\n",
    "'''\n",
    "    <input name='xxx'\n",
    "    <select\n",
    "    <radio\n",
    "    <checkbox\n",
    "    <textarea\n",
    "\n",
    "    xxx가 키가 되고 사용자가 입력(선택,체크)한 값 value가 된다\n",
    "\n",
    "    selenium에서 값을 세팅하는 방법 => send_keys('값')\n",
    "'''"
   ]
  },
  {
   "cell_type": "markdown",
   "metadata": {},
   "source": [
    "# 번외 : Naver 로그인"
   ]
  },
  {
   "cell_type": "code",
   "execution_count": 18,
   "metadata": {},
   "outputs": [],
   "source": [
    "'''\n",
    "driver.get('https://nid.naver.com/nidlogin.login?mode=form&url=https://www.naver.com/')\n",
    "# 아이디 입력창 획득\n",
    "id_input = driver.find_element(By.ID, 'id')\n",
    "# 아이디 입력!\n",
    "id_input.send_keys('t-academy')\n",
    "# PW 입력창 획득\n",
    "pw_input = driver.find_element(By.ID, 'pw')\n",
    "# PW 입력!\n",
    "pw_input.send_keys('12345678')\n",
    "# 로그인\n",
    "driver.find_element(By.ID, \"log.login\").click() # 매크로로 감지해버림 -> 비정상 처리\n",
    "# 만약 이용하려면 마우스 위치까지 조정해야함!\n",
    "'''"
   ]
  },
  {
   "cell_type": "code",
   "execution_count": 19,
   "metadata": {},
   "outputs": [],
   "source": [
    "# 최종 마무리 작업\n",
    "# 웹드라이버 반드시 종료, 제거 => 메모리 누적이 안됨\n",
    "driver.close()\n",
    "driver.quit()\n",
    "\n",
    "# s/w 레벨로 자동화 수행\n",
    "import sys\n",
    "sys.exit(0)"
   ]
  }
 ],
 "metadata": {
  "kernelspec": {
   "display_name": "Python 3",
   "language": "python",
   "name": "python3"
  },
  "language_info": {
   "codemirror_mode": {
    "name": "ipython",
    "version": 3
   },
   "file_extension": ".py",
   "mimetype": "text/x-python",
   "name": "python",
   "nbconvert_exporter": "python",
   "pygments_lexer": "ipython3",
   "version": "3.10.11"
  },
  "orig_nbformat": 4
 },
 "nbformat": 4,
 "nbformat_minor": 2
}
