{
 "cells": [
  {
   "cell_type": "code",
   "execution_count": null,
   "metadata": {},
   "outputs": [],
   "source": [
    "# 사용자로부터 입력을 받아서 서버로 전송하는 태그들\n",
    "'''\n",
    "    <input name='xxx'\n",
    "    <select name='xxx'\n",
    "    <radio name='xxx'\n",
    "    <checkbox name='xxx'\n",
    "    <textarea name='xxx'\n",
    "\n",
    "    xxx가 key가 되고 사용자가 입력(선택, 체크)한값 value가 된다\n",
    "\n",
    "    selenium에서 값을 세팅하는 방법 => send_keys('값')\n",
    "\n",
    "    # 네이버 예시\n",
    "    driver.get('https://nid.naver.com/nidlogin.login?mode=form&url=https://www.naver.com/')\n",
    "    # 아이디 입력창 획득\n",
    "    id_input = driver.find_element(By.ID, 'id')\n",
    "    id_input.send_keys('a-academy')\n",
    "    pw_input = driver.find_element(By.ID, 'pw')\n",
    "    pw_input.send_keys('12341234')\n",
    "    # 로그인\n",
    "    driver.find_element(By.ID,\"log.login\").click()\n",
    "'''"
   ]
  },
  {
   "cell_type": "markdown",
   "metadata": {},
   "source": [
    "# 기초 작업 "
   ]
  },
  {
   "cell_type": "code",
   "execution_count": 4,
   "metadata": {},
   "outputs": [
    {
     "data": {
      "text/plain": [
       "'4.11.2'"
      ]
     },
     "execution_count": 4,
     "metadata": {},
     "output_type": "execute_result"
    }
   ],
   "source": [
    "# 타겟사이트 \n",
    "# https://www.opinet.co.kr/searRgSelect.do\n",
    "\n",
    "# 전국 주요소 가격 정보(일단위) 수집 : 24:00 수집 목표 (1일 1회)-> 변동시간 확인후 주기 설정\n",
    "# 시도 > 시군구 > 엑셀다운로드 -> *.xlsx  다운(윈도우 다운로드폴더) -> 다 모아서 df로구성(pandas) -> 엑셀삭제(os 모듈) -> 디비 삽입\n",
    "\n",
    "import pandas as pd\n",
    "import os\n",
    "import sys\n",
    "from selenium import webdriver as wd\n",
    "import time\n",
    "import random # 엑셀을 다운받는 행위에 대한 시간 간격을 변조\n",
    "import selenium\n",
    "from selenium.webdriver.common.by import By\n",
    "\n",
    "selenium.__version__"
   ]
  },
  {
   "cell_type": "code",
   "execution_count": 2,
   "metadata": {},
   "outputs": [],
   "source": [
    "# 브라우저 가동\n",
    "driver = wd.Chrome()"
   ]
  },
  {
   "cell_type": "code",
   "execution_count": 20,
   "metadata": {},
   "outputs": [],
   "source": [
    "# 초기 페이지 접속\n",
    "target_site = 'https://www.opinet.co.kr/searRgSelect.do'\n",
    "driver.get( target_site )\n",
    "time.sleep(2) # 사이트가 늦게 뜨면 대기, 디도그 방어코드 (cloudflare => 10초)"
   ]
  },
  {
   "cell_type": "markdown",
   "metadata": {},
   "source": [
    "# STEP 1 \n",
    "\n",
    "- 지역 정보 획득 - select 태그"
   ]
  },
  {
   "cell_type": "code",
   "execution_count": 29,
   "metadata": {},
   "outputs": [
    {
     "data": {
      "text/plain": [
       "18"
      ]
     },
     "execution_count": 29,
     "metadata": {},
     "output_type": "execute_result"
    }
   ],
   "source": [
    "# select#SIDO_NM0 > option => 시도 존재하는 모든 데이터 17(시도) + 1(프럼프트)\n",
    "sidos = driver.find_elements(By.CSS_SELECTOR, 'select#SIDO_NM0 > option')\n",
    "len(sidos) # 18"
   ]
  },
  {
   "cell_type": "code",
   "execution_count": 30,
   "metadata": {},
   "outputs": [
    {
     "name": "stdout",
     "output_type": "stream",
     "text": [
      "서울특별시, 부산광역시, 대구광역시, 인천광역시, 광주광역시, 대전광역시, 울산광역시, 세종특별자치시, 경기도, 충청북도, 충청남도, 전라북도, 전라남도, 경상북도, 경상남도, 제주특별자치도, 강원특별자치도, "
     ]
    }
   ],
   "source": [
    "for sido in sidos[1:]: # 프럼프트 제외한 나머지 실제 시도(17개)\n",
    "    value = sido.get_attribute('value').strip()\n",
    "    print( value, end=', ' )\n",
    "    #break    "
   ]
  },
  {
   "cell_type": "code",
   "execution_count": 31,
   "metadata": {},
   "outputs": [
    {
     "name": "stdout",
     "output_type": "stream",
     "text": [
      "['서울특별시', '부산광역시', '대구광역시', '인천광역시', '광주광역시', '대전광역시', '울산광역시', '세종특별자치시', '경기도', '충청북도', '충청남도', '전라북도', '전라남도', '경상북도', '경상남도', '제주특별자치도', '강원특별자치도']\n"
     ]
    }
   ],
   "source": [
    "sido_values = [ sido.get_attribute('value').strip() for sido in sidos[1:] ]\n",
    "print( sido_values )"
   ]
  },
  {
   "cell_type": "code",
   "execution_count": 23,
   "metadata": {},
   "outputs": [],
   "source": [
    "# 사용자가 경기를 클릭햇다 -> select 태그를 특정해서, 부산값을 넣고, send_keys()\n",
    "SIDO_NM0_SEL = driver.find_element(By.ID,'SIDO_NM0')\n",
    "# 값입력 -> 샘플로 부산(1)\n",
    "SIDO_NM0_SEL.send_keys( sido_values[2] )\n"
   ]
  },
  {
   "cell_type": "code",
   "execution_count": 46,
   "metadata": {},
   "outputs": [],
   "source": [
    "# 최종코드 \n",
    "# step 1\n",
    "target_site = 'https://www.opinet.co.kr/searRgSelect.do'\n",
    "driver.get( target_site )\n",
    "time.sleep(2) # 사이트가 늦게 뜨면 대기, 디도그 방어코드 (cloudflare => 10초)\n",
    "\n",
    "# step 2\n",
    "sidos = driver.find_elements(By.CSS_SELECTOR, 'select#SIDO_NM0 > option')\n",
    "sido_values = [ sido.get_attribute('value').strip() for sido in sidos[1:] ]\n",
    "\n",
    "# step 3\n",
    "for value in sido_values[:1]:#sidos[1:]:\n",
    "    # value : 서울특별시 -> 부산광역시 -> ...\n",
    "    # 지역변경 \n",
    "    # 하위 시군구에서 화면이 갱신되기 때문에 매번 새로 구한다\n",
    "    SIDO_NM0_SEL = driver.find_element(By.ID,'SIDO_NM0')\n",
    "    SIDO_NM0_SEL.send_keys( value )\n",
    "    # 1초 대기\n",
    "    time.sleep(1)\n",
    "    \n",
    "    # 시군구 값 획득 -> 시군구 선택(for) -> 잠시대기 -> 엑셀저장 클릭\n",
    "    # 1. 시군구 값 획득\n",
    "    sigungus = driver.find_elements(By.CSS_SELECTOR, '#SIGUNGU_NM0 > option')\n",
    "    sigungus = [ opt.get_attribute('value') for opt in sigungus[1:] ]\n",
    "    #print( sigungus )\n",
    "\n",
    "    for sigungu in sigungus:#[:3]: # ['강남구', '강동구', ...]\n",
    "        # 2. 시군구 요소 획득 -> 시군구가 선택되면 메모리가 변경됨(화면갱신)\n",
    "        tmp = driver.find_element(By.CSS_SELECTOR, '#SIGUNGU_NM0')\n",
    "\n",
    "        # 3. 시군구 선택(햐나씩) -> form 전송 발생 : 화면 껌벅 : X자 발견 -> 화면갱신\n",
    "        #    이 결과로 새로운 지역의 주유소 정보가 내려온다\n",
    "        tmp.send_keys( sigungu )\n",
    "\n",
    "        # 4. 잠시 대기 (화면껌벅, 새로 화면이 모드 렌더링이 된다)\n",
    "        time.sleep(1*5)\n",
    "\n",
    "        # 5. 엑셀 저장 버튼 클릭\n",
    "        driver.find_element(By.ID, 'glopopd_excel').click()\n"
   ]
  },
  {
   "cell_type": "code",
   "execution_count": null,
   "metadata": {},
   "outputs": [],
   "source": []
  }
 ],
 "metadata": {
  "kernelspec": {
   "display_name": "Python 3",
   "language": "python",
   "name": "python3"
  },
  "language_info": {
   "codemirror_mode": {
    "name": "ipython",
    "version": 3
   },
   "file_extension": ".py",
   "mimetype": "text/x-python",
   "name": "python",
   "nbconvert_exporter": "python",
   "pygments_lexer": "ipython3",
   "version": "3.10.11"
  },
  "orig_nbformat": 4
 },
 "nbformat": 4,
 "nbformat_minor": 2
}
