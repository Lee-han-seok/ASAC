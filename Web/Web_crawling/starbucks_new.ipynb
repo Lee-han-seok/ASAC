{
 "cells": [
  {
   "cell_type": "markdown",
   "metadata": {},
   "source": [
    "# 데이터 수집 Level4\n",
    "\n",
    "- 스타벅스의 지점 정보를 모두 뽑아보자!"
   ]
  },
  {
   "cell_type": "markdown",
   "metadata": {},
   "source": [
    "- selenium 패키지를 활용하여 데이터 수집을 진행\n",
    "    - https://www.selenium.dev/\n",
    "    - https://www.selenium.dev/selenium/docs/api/py/index.html (api 사용법)\n",
    "\n",
    "- 세팅\n",
    "    - selenium 설치 \n",
    "    - webdriver s/w 다운로드 (대부분 브라우저 밴더가 제공)\n",
    "        - https://chromedriver.chromium.org/downloads\n",
    "            - 주의사항 : PC에 설치된 Chrome의 버전과 일치된 버전을 다운로드\n",
    "            - https://edgedl.me.gvt1.com/edgedl/chrome/chrome-for-testing/115.0.5790.170/win64/chromedriver-win64.zip"
   ]
  },
  {
   "cell_type": "code",
   "execution_count": 1,
   "metadata": {},
   "outputs": [
    {
     "data": {
      "text/plain": [
       "'4.11.2'"
      ]
     },
     "execution_count": 1,
     "metadata": {},
     "output_type": "execute_result"
    }
   ],
   "source": [
    "# 셀레니움 모듈 가져오기\n",
    "\n",
    "import selenium\n",
    "selenium.__version__"
   ]
  },
  {
   "cell_type": "code",
   "execution_count": 2,
   "metadata": {},
   "outputs": [],
   "source": [
    "from selenium import webdriver as wd\n",
    "# 시간 -> 명시적으로 코드 진행을 지연시키겠다 (sleep(5))\n",
    "import time"
   ]
  },
  {
   "cell_type": "code",
   "execution_count": 3,
   "metadata": {},
   "outputs": [],
   "source": [
    "# 드라이버 로드\n",
    "driver = wd.Chrome()"
   ]
  },
  {
   "cell_type": "code",
   "execution_count": 29,
   "metadata": {},
   "outputs": [],
   "source": [
    "# 접속\n",
    "target_site= 'https://www.starbucks.co.kr/store/store_map.do?disp=locale'\n",
    "driver.get(target_site)"
   ]
  },
  {
   "cell_type": "code",
   "execution_count": 5,
   "metadata": {},
   "outputs": [
    {
     "data": {
      "text/plain": [
       "<selenium.webdriver.remote.webelement.WebElement (session=\"959c0a469b0a13955e0861a36dd57907\", element=\"3CAAA5E7607B94B669FFABF85F5F3433_element_20\")>"
      ]
     },
     "execution_count": 5,
     "metadata": {},
     "output_type": "execute_result"
    }
   ],
   "source": [
    "# 탐색시 사용할 도구를 지정\n",
    "# css selector, xpath, ID, class, ...\n",
    "from selenium.webdriver.common.by import By\n",
    "\n",
    "# 지역 中 서울\n",
    "# div.loca_step1_cont > ul > li:nth-child(1) > a \n",
    "# 1 ~ 17 까지 숫자가 바뀌면 지역이 바뀐다.\n",
    "css_selector_str = 'div.loca_step1_cont > ul > li:nth-child(1) > a'\n",
    "# 요소찾기가 3.x - 4.x로 변경될 때 함수가 바뀜\n",
    "sido = driver.find_element(By.CSS_SELECTOR, css_selector_str)\n",
    "sido # 정상 입력 확인"
   ]
  },
  {
   "cell_type": "code",
   "execution_count": 31,
   "metadata": {},
   "outputs": [],
   "source": [
    "# 서울을 클릭 > 구군이 등장\n",
    "sido.click()\n",
    "# 잠시 대기 -> 암묵적 대기, 명시적 대기 -> API로 제공\n",
    "time.sleep(1*3) # 3초 대기"
   ]
  },
  {
   "cell_type": "code",
   "execution_count": 33,
   "metadata": {},
   "outputs": [
    {
     "data": {
      "text/plain": [
       "<selenium.webdriver.remote.webelement.WebElement (session=\"b9389639ca2154fd18eff6dab721dc43\", element=\"1A5308FF40DE3AEE59C1E285769E600D_element_22\")>"
      ]
     },
     "execution_count": 33,
     "metadata": {},
     "output_type": "execute_result"
    }
   ],
   "source": [
    "# 서울에 있는 모든 지점 정보?\n",
    "# 군구 페이지에서 타겟팅 지정-마포구-클릭 => 지점 목록 리스트가 나타난다.\n",
    "gun_gu_css_selector_str = '.gugun_arae_box > li:nth-child(1) > a'\n",
    "# 요소찾기가 3.x - 4.x로 변경될 때 함수가 바뀜\n",
    "gungu = driver.find_element(By.CSS_SELECTOR, gun_gu_css_selector_str)\n",
    "gungu # 정상 입력 확인"
   ]
  },
  {
   "cell_type": "code",
   "execution_count": 34,
   "metadata": {},
   "outputs": [],
   "source": [
    "# 마포구를 클릭 > 마포구 점포 목록 등장\n",
    "gungu.click()\n",
    "# 잠시 대기 -> 암묵적 대기, 명시적 대기 -> API로 제공\n",
    "time.sleep(1*3) # 3초 대기"
   ]
  },
  {
   "cell_type": "code",
   "execution_count": 36,
   "metadata": {},
   "outputs": [
    {
     "name": "stdout",
     "output_type": "stream",
     "text": [
      "601\n"
     ]
    }
   ],
   "source": [
    "# 세부 정보\n",
    "info_css_selector = '.quickSearchResultBoxSidoGugun > li' # 서울시 -> 전체 -> 전체 지점 정보 데이터 (601개)\n",
    "stores = driver.find_elements(By.CSS_SELECTOR, info_css_selector)\n",
    "print(len(stores))"
   ]
  },
  {
   "cell_type": "code",
   "execution_count": 41,
   "metadata": {},
   "outputs": [
    {
     "name": "stdout",
     "output_type": "stream",
     "text": [
      "{'lat': '37.501087', 'long': '127.043069', 'name': '역삼아레나빌딩', 'code': '3762', 'stored': None, 'addr': '서울특별시 강남구 언주로 425 (역삼동)', 'tel': '1522-3232', 'level': '리저브 매장 2번'}\n"
     ]
    }
   ],
   "source": [
    "# 서울시 전체 점포 추출\n",
    "# 필요한 속성 추출\n",
    "'''\n",
    "<li class=\"quickResultLstCon\" \n",
    "style=\"background:#fff\" data-lat=\"37.501087\" \n",
    "data-long=\"127.043069\" data-index=\"0\" \n",
    "data-name=\"역삼아레나빌딩\" data-code=\"3762\" \n",
    "data-storecd=\"1509\" data-hlytag=\"null\">\t\n",
    "    <strong data-store=\"1509\" data-yn=\"N\" \n",
    "    data-name=\"역삼아레나빌딩\" data-my_siren_order_store_yn=\"N\">역삼아레나빌딩  </strong>\t\n",
    "    <p class=\"result_details\">서울특별시 강남구 언주로 425 (역삼동)<br>1522-3232</p>\t\n",
    "    <i class=\"pin_general\">리저브 매장 2번</i>\n",
    "</li>\n",
    "'''\n",
    "# store => li 1개 데이터\n",
    "for store in stores :\n",
    "    # p는 store 하위에서 탐색\n",
    "    p = store.find_element(By.CSS_SELECTOR, 'p') # 요소명\n",
    "    # print(p.text.strip().split('\\n'))\n",
    "    ps = p.text.strip().split('\\n') # 주소와 전화번호가 줄바꿈으로 표현됨 => 조치 필요\n",
    "    # i class : 해당 매장이 reserve 매장인가? DT 매장인가? => 특징 정보 포힘\n",
    "    i = store.find_element(By.CLASS_NAME, 'pin_general')\n",
    "    # print(i.text.strip()) \n",
    "    data = {\n",
    "    'lat'    : store.get_attribute('data-lat'),\n",
    "    'long'   : store.get_attribute('data-long'),\n",
    "    'name'   : store.get_attribute('data-name'),\n",
    "    'code'   : store.get_attribute('data-code'),\n",
    "    'stored' : store.get_attribute('data-stored'),\n",
    "    'addr'   : ps[0],\n",
    "    'tel'    : ps[1],\n",
    "    'level'   : i.text.strip(), \n",
    "    }\n",
    "    print(data)\n",
    "    break"
   ]
  },
  {
   "cell_type": "code",
   "execution_count": 42,
   "metadata": {},
   "outputs": [
    {
     "name": "stdout",
     "output_type": "stream",
     "text": [
      "<selenium.webdriver.remote.webelement.WebElement (session=\"b9389639ca2154fd18eff6dab721dc43\", element=\"1A5308FF40DE3AEE59C1E285769E600D_element_628\")>\n",
      "['서울특별시 강남구 언주로 425 (역삼동)', '1522-3232']\n",
      "<selenium.webdriver.remote.webelement.WebElement (session=\"b9389639ca2154fd18eff6dab721dc43\", element=\"1A5308FF40DE3AEE59C1E285769E600D_element_630\")>\n",
      "['서울특별시 강남구 강남대로 538 (논현동)', '1522-3232']\n",
      "<selenium.webdriver.remote.webelement.WebElement (session=\"b9389639ca2154fd18eff6dab721dc43\", element=\"1A5308FF40DE3AEE59C1E285769E600D_element_632\")>\n",
      "['서울특별시 강남구 강남대로 584 (논현동)', '1522-3232']\n",
      "<selenium.webdriver.remote.webelement.WebElement (session=\"b9389639ca2154fd18eff6dab721dc43\", element=\"1A5308FF40DE3AEE59C1E285769E600D_element_634\")>\n",
      "['']\n"
     ]
    },
    {
     "ename": "IndexError",
     "evalue": "list index out of range",
     "output_type": "error",
     "traceback": [
      "\u001b[1;31m---------------------------------------------------------------------------\u001b[0m",
      "\u001b[1;31mIndexError\u001b[0m                                Traceback (most recent call last)",
      "Cell \u001b[1;32mIn[42], line 17\u001b[0m\n\u001b[0;32m      8\u001b[0m \u001b[39mprint\u001b[39m(ps)\n\u001b[0;32m      9\u001b[0m i \u001b[39m=\u001b[39m store\u001b[39m.\u001b[39mfind_element(By\u001b[39m.\u001b[39mCLASS_NAME, \u001b[39m'\u001b[39m\u001b[39mpin_general\u001b[39m\u001b[39m'\u001b[39m)\n\u001b[0;32m     10\u001b[0m data \u001b[39m=\u001b[39m {\n\u001b[0;32m     11\u001b[0m \u001b[39m'\u001b[39m\u001b[39mlat\u001b[39m\u001b[39m'\u001b[39m    : store\u001b[39m.\u001b[39mget_attribute(\u001b[39m'\u001b[39m\u001b[39mdata-lat\u001b[39m\u001b[39m'\u001b[39m),\n\u001b[0;32m     12\u001b[0m \u001b[39m'\u001b[39m\u001b[39mlong\u001b[39m\u001b[39m'\u001b[39m   : store\u001b[39m.\u001b[39mget_attribute(\u001b[39m'\u001b[39m\u001b[39mdata-long\u001b[39m\u001b[39m'\u001b[39m),\n\u001b[0;32m     13\u001b[0m \u001b[39m'\u001b[39m\u001b[39mname\u001b[39m\u001b[39m'\u001b[39m   : store\u001b[39m.\u001b[39mget_attribute(\u001b[39m'\u001b[39m\u001b[39mdata-name\u001b[39m\u001b[39m'\u001b[39m),\n\u001b[0;32m     14\u001b[0m \u001b[39m'\u001b[39m\u001b[39mcode\u001b[39m\u001b[39m'\u001b[39m   : store\u001b[39m.\u001b[39mget_attribute(\u001b[39m'\u001b[39m\u001b[39mdata-code\u001b[39m\u001b[39m'\u001b[39m),\n\u001b[0;32m     15\u001b[0m \u001b[39m'\u001b[39m\u001b[39mstored\u001b[39m\u001b[39m'\u001b[39m : store\u001b[39m.\u001b[39mget_attribute(\u001b[39m'\u001b[39m\u001b[39mdata-stored\u001b[39m\u001b[39m'\u001b[39m),\n\u001b[0;32m     16\u001b[0m \u001b[39m'\u001b[39m\u001b[39maddr\u001b[39m\u001b[39m'\u001b[39m   : ps[\u001b[39m0\u001b[39m],\n\u001b[1;32m---> 17\u001b[0m \u001b[39m'\u001b[39m\u001b[39mtel\u001b[39m\u001b[39m'\u001b[39m    : ps[\u001b[39m1\u001b[39;49m],\n\u001b[0;32m     18\u001b[0m \u001b[39m'\u001b[39m\u001b[39mlevel\u001b[39m\u001b[39m'\u001b[39m   : i\u001b[39m.\u001b[39mtext\u001b[39m.\u001b[39mstrip(), \n\u001b[0;32m     19\u001b[0m }\n\u001b[0;32m     20\u001b[0m \u001b[39m#print(data)\u001b[39;00m\n\u001b[0;32m     21\u001b[0m infos\u001b[39m.\u001b[39mappend(data)\n",
      "\u001b[1;31mIndexError\u001b[0m: list index out of range"
     ]
    }
   ],
   "source": [
    "# 601개를 모으는 문장\n",
    "infos = list()\n",
    "\n",
    "for store in stores :\n",
    "    p = store.find_element(By.CSS_SELECTOR, 'p')\n",
    "    print(p)\n",
    "    ps = p.text.strip().split('\\n') \n",
    "    print(ps)\n",
    "    i = store.find_element(By.CLASS_NAME, 'pin_general')\n",
    "    data = {\n",
    "    'lat'    : store.get_attribute('data-lat'),\n",
    "    'long'   : store.get_attribute('data-long'),\n",
    "    'name'   : store.get_attribute('data-name'),\n",
    "    'code'   : store.get_attribute('data-code'),\n",
    "    'stored' : store.get_attribute('data-stored'),\n",
    "    'addr'   : ps[0],\n",
    "    'tel'    : ps[1],\n",
    "    'level'   : i.text.strip(), \n",
    "    }\n",
    "    #print(data)\n",
    "    infos.append(data)\n",
    "    #break\n",
    "\n",
    "len(infos)\n",
    "# 화면에 3개씩만 보임. 그 이상 못내려가는거 아닐까? 라는 추측"
   ]
  },
  {
   "cell_type": "code",
   "execution_count": 44,
   "metadata": {},
   "outputs": [
    {
     "ename": "KeyboardInterrupt",
     "evalue": "",
     "output_type": "error",
     "traceback": [
      "\u001b[1;31m---------------------------------------------------------------------------\u001b[0m",
      "\u001b[1;31mKeyboardInterrupt\u001b[0m                         Traceback (most recent call last)",
      "Cell \u001b[1;32mIn[44], line 20\u001b[0m\n\u001b[0;32m     13\u001b[0m \u001b[39mfor\u001b[39;00m n \u001b[39min\u001b[39;00m \u001b[39mrange\u001b[39m(\u001b[39m100\u001b[39m) :\n\u001b[0;32m     14\u001b[0m     driver\u001b[39m.\u001b[39mexecute_script(\u001b[39m'''\u001b[39m\n\u001b[0;32m     15\u001b[0m \u001b[39m        // 자바스크립트 구동 => 순수 자바스크립트만 가능\u001b[39m\n\u001b[0;32m     16\u001b[0m \u001b[39m        // y축 방향으로 100px 이동\u001b[39m\n\u001b[0;32m     17\u001b[0m \u001b[39m        // document.querySelector(\u001b[39m\u001b[39m'\u001b[39m\u001b[39mcss셀렉터\u001b[39m\u001b[39m'\u001b[39m\u001b[39m).scrollBy(0, 100)\u001b[39m\n\u001b[0;32m     18\u001b[0m \u001b[39m        document.querySelector(\u001b[39m\u001b[39m'\u001b[39m\u001b[39m#mCSB_3\u001b[39m\u001b[39m'\u001b[39m\u001b[39m).scrollBy(0, 100+1) // 데이터 여백 100px, 경계선 1px\u001b[39m\n\u001b[0;32m     19\u001b[0m \u001b[39m    \u001b[39m\u001b[39m'''\u001b[39m)\n\u001b[1;32m---> 20\u001b[0m     time\u001b[39m.\u001b[39;49msleep(\u001b[39m1\u001b[39;49m)\n\u001b[0;32m     22\u001b[0m \u001b[39m# ok 여기까지 이해, 그럼 스크롤을 작동시키는 css요소는 무엇인가?\u001b[39;00m\n\u001b[0;32m     23\u001b[0m \u001b[39m# 보통 이런건 div 태그일 가능성이 높음\u001b[39;00m\n\u001b[0;32m     24\u001b[0m \u001b[39m# 캡처 사진 참고\u001b[39;00m\n",
      "\u001b[1;31mKeyboardInterrupt\u001b[0m: "
     ]
    }
   ],
   "source": [
    "'''\n",
    "    문제점\n",
    "    화면에 보이는 3개만 주소와 전화번호, 지점 특성이 세팅되어 있다.\n",
    "        - 지점 정보를 1개 추출하고 \n",
    "        - 강제 스크롤 (예상은 100px) 수행하여 다음 데이터 올려주고\n",
    "            - 100px는 css를 분석해서 확인 (?)\n",
    "            - 라인 1개 점검 필요함 (우선 1을 더 넣어주지)\n",
    "            - 방식, selenium에서 javascript를 강제 발동시켜야함\n",
    "    다시 데이터 추출(반복)하는 과정을 거쳐야할듯\n",
    "'''\n",
    "# 스크립트 구동\n",
    "# scrollby(x, y) : 우리는 수직으로 움직이니까 y만큼 이동\n",
    "for n in range(100) :\n",
    "    driver.execute_script('''\n",
    "        // 자바스크립트 구동 => 순수 자바스크립트만 가능\n",
    "        // y축 방향으로 100px 이동\n",
    "        // document.querySelector('css셀렉터').scrollBy(0, 100)\n",
    "        document.querySelector('#mCSB_3').scrollBy(0, 100+1) // 데이터 여백 100px, 경계선 1px\n",
    "    ''')\n",
    "    time.sleep(1)\n",
    "\n",
    "# ok 여기까지 이해, 그럼 스크롤을 작동시키는 css요소는 무엇인가?\n",
    "# 보통 이런건 div 태그일 가능성이 높음\n",
    "# 캡처 사진 참고\n",
    "# 확인 완료! 정상적으로 이동됨"
   ]
  },
  {
   "cell_type": "code",
   "execution_count": 46,
   "metadata": {},
   "outputs": [
    {
     "name": "stdout",
     "output_type": "stream",
     "text": [
      "<selenium.webdriver.remote.webelement.WebElement (session=\"b9389639ca2154fd18eff6dab721dc43\", element=\"1A5308FF40DE3AEE59C1E285769E600D_element_628\")>\n",
      "['서울특별시 강남구 언주로 425 (역삼동)', '1522-3232']\n",
      "<selenium.webdriver.remote.webelement.WebElement (session=\"b9389639ca2154fd18eff6dab721dc43\", element=\"1A5308FF40DE3AEE59C1E285769E600D_element_630\")>\n",
      "['서울특별시 강남구 강남대로 538 (논현동)', '1522-3232']\n",
      "<selenium.webdriver.remote.webelement.WebElement (session=\"b9389639ca2154fd18eff6dab721dc43\", element=\"1A5308FF40DE3AEE59C1E285769E600D_element_632\")>\n",
      "['서울특별시 강남구 강남대로 584 (논현동)', '1522-3232']\n",
      "<selenium.webdriver.remote.webelement.WebElement (session=\"b9389639ca2154fd18eff6dab721dc43\", element=\"1A5308FF40DE3AEE59C1E285769E600D_element_634\")>\n",
      "['서울특별시 강남구 테헤란로 125 (역삼동)', '1522-3232']\n",
      "<selenium.webdriver.remote.webelement.WebElement (session=\"b9389639ca2154fd18eff6dab721dc43\", element=\"1A5308FF40DE3AEE59C1E285769E600D_element_644\")>\n",
      "['서울특별시 강남구 남부순환로 2947 (대치동)', '1522-3232']\n",
      "<selenium.webdriver.remote.webelement.WebElement (session=\"b9389639ca2154fd18eff6dab721dc43\", element=\"1A5308FF40DE3AEE59C1E285769E600D_element_646\")>\n",
      "['서울특별시 강남구 봉은사로 619 (삼성동)', '1522-3232']\n"
     ]
    },
    {
     "data": {
      "text/plain": [
       "6"
      ]
     },
     "execution_count": 46,
     "metadata": {},
     "output_type": "execute_result"
    }
   ],
   "source": [
    "# 601개를 모으는 문장\n",
    "infos = list()\n",
    "\n",
    "for store in stores[:6] :\n",
    "    p = store.find_element(By.CSS_SELECTOR, 'p')\n",
    "    print(p)\n",
    "    ps = p.text.strip().split('\\n') \n",
    "    print(ps)\n",
    "    #i = store.find_element(By.CLASS_NAME, 'pin_general') 지점별로 class가 달라서 사용 불가함!\n",
    "    i = store.find_element(By.TAG_NAME, 'i')\n",
    "\n",
    "    data = {\n",
    "    'lat'    : store.get_attribute('data-lat'),\n",
    "    'long'   : store.get_attribute('data-long'),\n",
    "    'name'   : store.get_attribute('data-name'),\n",
    "    'code'   : store.get_attribute('data-code'),\n",
    "    'stored' : store.get_attribute('data-stored'),\n",
    "    'addr'   : ps[0],\n",
    "    'tel'    : ps[1],\n",
    "    'level'   : i.text.strip(), \n",
    "    }\n",
    "    #print(data)\n",
    "    infos.append(data)\n",
    "    # 하위에 새로운 정보 1개 로드\n",
    "    driver.execute_script('''\n",
    "        document.querySelector('#mCSB_3').scrollBy(0, 100+1) // 데이터 여백 100px, 경계선 1px\n",
    "    ''')\n",
    "    time.sleep(1*0.2)\n",
    "    #break\n",
    "\n",
    "len(infos)\n",
    "\n",
    "# 리저브 색이 다르네! 오류 발생 (다른건 다 초록색, 일부 검은색) 코드 수정"
   ]
  },
  {
   "cell_type": "code",
   "execution_count": null,
   "metadata": {},
   "outputs": [],
   "source": [
    "# 17개 지역 case별로 하부에서 지점 정보 총 획득 완료\n",
    "# 한개씩은 ok, 각 지역 모두 모으려면 들어갔다가 나오는 과정들 필요함!\n",
    "# 601개를 모으는 문장 (최종)\n",
    "infos = list()\n",
    "\n",
    "for store in stores[:6] :\n",
    "    p = store.find_element(By.CSS_SELECTOR, 'p')\n",
    "    #print(p)\n",
    "    ps = p.text.strip().split('\\n') \n",
    "    #print(ps)\n",
    "    #i = store.find_element(By.CLASS_NAME, 'pin_general') 지점별로 class가 달라서 사용 불가함!\n",
    "    i = store.find_element(By.TAG_NAME, 'i')\n",
    "\n",
    "    data = {\n",
    "    'lat'    : store.get_attribute('data-lat'),\n",
    "    'long'   : store.get_attribute('data-long'),\n",
    "    'name'   : store.get_attribute('data-name'),\n",
    "    'code'   : store.get_attribute('data-code'),\n",
    "    'stored' : store.get_attribute('data-stored'),\n",
    "    'addr'   : ps[0],\n",
    "    'tel'    : ps[1],\n",
    "    'level'   : i.text.strip(), \n",
    "    }\n",
    "    #print(data)\n",
    "    infos.append(data)\n",
    "    # 하위에 새로운 정보 1개 로드\n",
    "    driver.execute_script('''\n",
    "        document.querySelector('#mCSB_3').scrollBy(0, 100+1) // 데이터 여백 100px, 경계선 1px\n",
    "    ''')\n",
    "    time.sleep(1*0.2)\n",
    "    #break\n",
    "\n",
    "len(infos)"
   ]
  },
  {
   "cell_type": "code",
   "execution_count": null,
   "metadata": {},
   "outputs": [],
   "source": [
    "# 지역 검색 누르면 지역으로 다시 돌아감"
   ]
  },
  {
   "cell_type": "code",
   "execution_count": 6,
   "metadata": {},
   "outputs": [],
   "source": [
    "# 전체 데이터 수집을 위한 로테이션 시뮬레이션 <최종>\n",
    "import selenium\n",
    "from selenium import webdriver as wd\n",
    "import time\n",
    "from selenium.webdriver.common.by import By\n",
    "\n",
    "# 1. 사이트 접속\n",
    "driver = wd.Chrome()\n",
    "target_site = 'https://www.starbucks.co.kr/store/store_map.do?disp=locale'\n",
    "driver.get(target_site)\n",
    "\n",
    "# 2. 17번 반복    \n",
    "MAX_SIDO_NUM = 17\n",
    "for n in range(1, MAX_SIDO_NUM):\n",
    "    # 지역 검색 클릭 -> 시도 클릭 -> 전체 클릭 -> 저점정보획득(시뮬레이션상 생략)\n",
    "\n",
    "    # 2-1. 지역 검색 클릭\n",
    "    area_search_btn = driver.find_element(By.CSS_SELECTOR, '.loca_search a')\n",
    "    area_search_btn.click()\n",
    "    time.sleep(1*0.5)\n",
    "\n",
    "    # 2-2. 시도 클릭\n",
    "    sido_btn = driver.find_element(By.CSS_SELECTOR, f'div.loca_step1_cont > ul > li:nth-child({n}) > a')\n",
    "    sido_btn.click()\n",
    "    time.sleep(1)\n",
    "\n",
    "    # 2-3. 전체 클릭\n",
    "    all_btn = driver.find_element(By.CSS_SELECTOR, '.set_gugun_cd_btn')\n",
    "    all_btn.click()\n",
    "    time.sleep(1*7)\n",
    "\n",
    "    # 2-4. 저점정보획득(시뮬레이션상 생략)\n",
    "    pass"
   ]
  },
  {
   "cell_type": "code",
   "execution_count": null,
   "metadata": {},
   "outputs": [],
   "source": [
    "# 최종 마무리 작업\n",
    "# 웹드라이버 반드시 종료, 제거 => 메모리 누적이 안됨\n",
    "driver.close()\n",
    "driver.quit()\n",
    "\n",
    "# s/w 레벨로 자동화 수행\n",
    "import sys\n",
    "sys.exit(0)"
   ]
  }
 ],
 "metadata": {
  "kernelspec": {
   "display_name": "Python 3",
   "language": "python",
   "name": "python3"
  },
  "language_info": {
   "codemirror_mode": {
    "name": "ipython",
    "version": 3
   },
   "file_extension": ".py",
   "mimetype": "text/x-python",
   "name": "python",
   "nbconvert_exporter": "python",
   "pygments_lexer": "ipython3",
   "version": "3.10.11"
  },
  "orig_nbformat": 4
 },
 "nbformat": 4,
 "nbformat_minor": 2
}
