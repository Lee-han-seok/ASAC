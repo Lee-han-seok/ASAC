{
  "nbformat": 4,
  "nbformat_minor": 0,
  "metadata": {
    "colab": {
      "provenance": [],
      "toc_visible": true
    },
    "kernelspec": {
      "name": "python3",
      "display_name": "Python 3"
    },
    "language_info": {
      "name": "python"
    }
  },
  "cells": [
    {
      "cell_type": "markdown",
      "source": [
        "#0. 개요"
      ],
      "metadata": {
        "id": "mcTNOVa51PbI"
      }
    },
    {
      "cell_type": "markdown",
      "source": [
        "- 데이터 전처리시 시사용, 데이터 클리닝시 사용\n",
        "- 주로 텍스트 데이터 대상\n",
        "- 텍스트 데이터 -> 정규식 -> 원하는 데이터만 추출\n",
        "- 정규식은 언어별로 모두 기법이 존재한다"
      ],
      "metadata": {
        "id": "I5kujMon25p2"
      }
    },
    {
      "cell_type": "markdown",
      "source": [
        "# 1. 메인 패키지"
      ],
      "metadata": {
        "id": "fBVqI0Hz4QdX"
      }
    },
    {
      "cell_type": "markdown",
      "source": [
        "## 1-1. 문제제기\n",
        "\n",
        "- 아래 말뭉치에서 영어를 제외한 모든 문자, 화이트스페이스(공백, 줄바꿈...)를 제거하고 순수한 영어만 남긴다"
      ],
      "metadata": {
        "id": "lumRwxWG4WBp"
      }
    },
    {
      "cell_type": "code",
      "source": [
        "import re"
      ],
      "metadata": {
        "id": "ffF2Hk3R4byy"
      },
      "execution_count": null,
      "outputs": []
    },
    {
      "cell_type": "code",
      "source": [
        "# re.compile\n",
        "# re.match()\n",
        "# re.search()\n",
        "# re.fullmatch()\n",
        "# re.findall()\n",
        "# re.finditer()\n",
        "# re.sub(), re.subn\n",
        "# re.split()"
      ],
      "metadata": {
        "id": "rK08C8xIGTol"
      },
      "execution_count": null,
      "outputs": []
    },
    {
      "cell_type": "code",
      "source": [
        "text = '''\n",
        "BTS (Korean: 방탄소년단; RR: Bangtan Sonyeondan; lit. Bulletproof Boy Scouts), also known as the Bangtan Boys, is a South Korean boy band formed in 2010. The band consists of Jin, Suga, J-Hope, RM, Jimin, V, and Jungkook, who co-write or co-produce much of their material. Originally a hip hop group, they expanded their musical style to incorporate a wide range of genres, while their lyrics have focused on subjects including mental health, the troubles of school-age youth and coming of age, loss, the journey towards self-love, individualism, and the consequences of fame and recognition. Their discography and adjacent work has also referenced literature, philosophy and psychology, and includes an alternate universe storyline.\n",
        "'''\n",
        "\n",
        "text"
      ],
      "metadata": {
        "colab": {
          "base_uri": "https://localhost:8080/",
          "height": 91
        },
        "id": "Ge57nr0z4b03",
        "outputId": "93cb82d5-434d-414c-cccc-bc89125dc39b"
      },
      "execution_count": null,
      "outputs": [
        {
          "output_type": "execute_result",
          "data": {
            "text/plain": [
              "'\\nBTS (Korean: 방탄소년단; RR: Bangtan Sonyeondan; lit. Bulletproof Boy Scouts), also known as the Bangtan Boys, is a South Korean boy band formed in 2010. The band consists of Jin, Suga, J-Hope, RM, Jimin, V, and Jungkook, who co-write or co-produce much of their material. Originally a hip hop group, they expanded their musical style to incorporate a wide range of genres, while their lyrics have focused on subjects including mental health, the troubles of school-age youth and coming of age, loss, the journey towards self-love, individualism, and the consequences of fame and recognition. Their discography and adjacent work has also referenced literature, philosophy and psychology, and includes an alternate universe storyline.\\n'"
            ],
            "application/vnd.google.colaboratory.intrinsic+json": {
              "type": "string"
            }
          },
          "metadata": {},
          "execution_count": 5
        }
      ]
    },
    {
      "cell_type": "code",
      "source": [
        "# 정규식을 통해서 처리해보자 (맛보기)\n",
        "# [] : 문자 한개\n",
        "# * : 0~무한대로 반복한다\n",
        "# []* : 문자 한개가 무한대로 반복한다\n",
        "# ^ : 제외\n",
        "# [a-z] : 소문자 전체\n",
        "# [A-Z] : 대문자 전체\n",
        "# [^기호] : 기호를 제외하고\n",
        "\n",
        "p = re.compile('[^a-zA-Z]*')"
      ],
      "metadata": {
        "id": "V9_beXtn4b3P"
      },
      "execution_count": null,
      "outputs": []
    },
    {
      "cell_type": "code",
      "source": [
        "# 알파벳이 아닌 모든 문자를 찾아서 빈문자로 대체\n",
        "p.sub('', text)"
      ],
      "metadata": {
        "id": "thIGgFGq_2F_",
        "colab": {
          "base_uri": "https://localhost:8080/",
          "height": 72
        },
        "outputId": "9906c106-dd76-4612-ef21-c2a6bbd1997f"
      },
      "execution_count": null,
      "outputs": [
        {
          "output_type": "execute_result",
          "data": {
            "text/plain": [
              "'BTSKoreanRRBangtanSonyeondanlitBulletproofBoyScoutsalsoknownastheBangtanBoysisaSouthKoreanboybandformedinThebandconsistsofJinSugaJHopeRMJiminVandJungkookwhocowriteorcoproducemuchoftheirmaterialOriginallyahiphopgrouptheyexpandedtheirmusicalstyletoincorporateawiderangeofgenreswhiletheirlyricshavefocusedonsubjectsincludingmentalhealththetroublesofschoolageyouthandcomingofagelossthejourneytowardsselfloveindividualismandtheconsequencesoffameandrecognitionTheirdiscographyandadjacentworkhasalsoreferencedliteraturephilosophyandpsychologyandincludesanalternateuniversestoryline'"
            ],
            "application/vnd.google.colaboratory.intrinsic+json": {
              "type": "string"
            }
          },
          "metadata": {},
          "execution_count": 7
        }
      ]
    },
    {
      "cell_type": "code",
      "source": [
        "# 알파벳이 아닌 모든 문자를 찾아서 빈문자로 대체 후 소문자로\n",
        "p.sub('', text).lower()"
      ],
      "metadata": {
        "id": "8iTGN6tn4b5R",
        "colab": {
          "base_uri": "https://localhost:8080/",
          "height": 72
        },
        "outputId": "2ab5943f-d3c1-474b-9169-1120a3b3a982"
      },
      "execution_count": null,
      "outputs": [
        {
          "output_type": "execute_result",
          "data": {
            "text/plain": [
              "'btskoreanrrbangtansonyeondanlitbulletproofboyscoutsalsoknownasthebangtanboysisasouthkoreanboybandformedinthebandconsistsofjinsugajhopermjiminvandjungkookwhocowriteorcoproducemuchoftheirmaterialoriginallyahiphopgrouptheyexpandedtheirmusicalstyletoincorporateawiderangeofgenreswhiletheirlyricshavefocusedonsubjectsincludingmentalhealththetroublesofschoolageyouthandcomingofagelossthejourneytowardsselfloveindividualismandtheconsequencesoffameandrecognitiontheirdiscographyandadjacentworkhasalsoreferencedliteraturephilosophyandpsychologyandincludesanalternateuniversestoryline'"
            ],
            "application/vnd.google.colaboratory.intrinsic+json": {
              "type": "string"
            }
          },
          "metadata": {},
          "execution_count": 8
        }
      ]
    },
    {
      "cell_type": "markdown",
      "source": [
        "# 2. 정규식 항목\n",
        "- 메타 문자\n",
        "    - 일반형 : |, ^, $, *, +, ?, {}, (), [], -\n",
        "    - 이스케이프 문자 : \\d, \\D, \\s, \\S, \\w, \\W, \\b, \\B\n",
        "- 함수\n",
        "    - **match**()\n",
        "    - **search**()\n",
        "    - findall()\n",
        "    - finditer()\n",
        "    - **sub**()\n",
        "\n",
        "- 그룹핑\n",
        "    - ()\n",
        "\n",
        "- 컴파일 옵션\n",
        "\n",
        "- 전방탐색\n",
        "    - 긍정형\n",
        "    - 부정형\n",
        "\n",
        "- 컴파일옵션\n",
        "    - 단축표현"
      ],
      "metadata": {
        "id": "i5QV0RLh4WEE"
      }
    },
    {
      "cell_type": "markdown",
      "source": [
        "# 3. 메타문자"
      ],
      "metadata": {
        "id": "2mqQL0f5Bv1f"
      }
    },
    {
      "cell_type": "markdown",
      "source": [
        "### 3-1. |\n",
        "\n",
        "- 의미 : or, ~이거나"
      ],
      "metadata": {
        "id": "FjXJwuVxByff"
      }
    },
    {
      "cell_type": "code",
      "source": [
        "# re.match(정규식, 데이터) => T or F : 문자열의 앞 부분이 match 되는가?\n",
        "\n",
        "# 시작글자가 a거나 b거나 c이면 매치된다\n",
        "if re.match('a|b|c', 'a') : print('1. 매치된다')\n",
        "if re.match('a|b|c', 'b') : print('2. 매치된다')\n",
        "if re.match('a|b|c', 'c') : print('3. 매치된다')\n",
        "if re.match('a|b|c', 'd') : print('4. 매치된다')\n",
        "if re.match('a|b|c', 'ad') : print('5. 매치된다')\n",
        "if re.match('a|b|c', 'da') : print('6. 매치된다')"
      ],
      "metadata": {
        "id": "V3_psIKz1QPa",
        "colab": {
          "base_uri": "https://localhost:8080/"
        },
        "outputId": "03f2c834-9d99-4d6a-9463-8d521698f1a6"
      },
      "execution_count": null,
      "outputs": [
        {
          "output_type": "stream",
          "name": "stdout",
          "text": [
            "1. 매치된다\n",
            "2. 매치된다\n",
            "3. 매치된다\n",
            "5. 매치된다\n"
          ]
        }
      ]
    },
    {
      "cell_type": "markdown",
      "source": [
        "### 3-2 [ ]\n",
        "\n",
        "- 문자 클레스\n",
        "- 대괄호 사이 [       ] 에는 어떤 문자도 올 수 있다\n",
        "- []는 한개의 문장을 표현함\n",
        "- 한개의 문자를 여러개로 표현\n",
        "    - + : 1 ~ 무한대\n",
        "    - * : 0 ~ 무한대\n",
        "    - ex) [문자]* or [문자]+"
      ],
      "metadata": {
        "id": "X9EUP57IC4bP"
      }
    },
    {
      "cell_type": "code",
      "source": [
        "# 문자가 1개 올 수 있고 그 1개는 a혹은 b혹은 c중에 하나이다.\n",
        "if re.match('[abc]', 'a') : print('1. 매치된다')\n",
        "if re.match('[abc]', 'efz') : print('2. 매치된다') # 안됨\n",
        "\n",
        "# 첫글자가 a이므로 ok\n",
        "if re.match('[abc]', 'abd') : print('3. 매치된다')\n",
        "if re.match('[abc]', 'b56') : print('4. 매치된다')\n",
        "\n",
        "# 첫글자와 상관없이 있기만 하면 ok -> search 함수\n",
        "if re.search('[abc]', '56b'): print('5, 매치된다')"
      ],
      "metadata": {
        "id": "hghWnf-M1QRj",
        "colab": {
          "base_uri": "https://localhost:8080/"
        },
        "outputId": "3cf5cccb-c1fc-4949-fb89-3a819a4f9795"
      },
      "execution_count": null,
      "outputs": [
        {
          "output_type": "stream",
          "name": "stdout",
          "text": [
            "1. 매치된다\n",
            "3. 매치된다\n",
            "4. 매치된다\n",
            "5, 매치된다\n"
          ]
        }
      ]
    },
    {
      "cell_type": "markdown",
      "source": [
        "### 3-3. -\n",
        "\n",
        "- []문자 클래스 내부에서는 두 문자 사이의 범위를 표현\n",
        "- from-to, a-z"
      ],
      "metadata": {
        "id": "Ooj_h1pYEp-R"
      }
    },
    {
      "cell_type": "code",
      "source": [
        "if re.match('[0123456789]', '1') : print('1. 매치된다')\n",
        "\n",
        "# -을 통해서 유연하게 범위를 지정할 수 있다.\n",
        "if re.match('[0-9]', '1') : print('2. 매치된다')\n",
        "\n",
        "# 알파벳 소문자  a-z\n",
        "if re.match('[a-z]', 'v') : print('3. 매치된다')\n",
        "\n",
        "# 숫자와 알파벳 소문자  범위 나열\n",
        "if re.match('[0-9a-z]', 'v') : print('4. 매치된다')\n",
        "\n",
        "# 한글 완성형 코드 사용 -> 1 Byte, utf-8, 문자 1개에 값이 고정세팅되어 있다.\n",
        "# ㄱ ~ ㅎ, ㅏ ~ㅣ(모음), 가 ~ 힣\n",
        "# ㄱ ~ 힣 : 한글의 시작과 끝\n",
        "if re.match('[ㄱ-힣]', '가1234') : print('5. 매치된다')"
      ],
      "metadata": {
        "id": "uxpwhtEx1QTw",
        "colab": {
          "base_uri": "https://localhost:8080/"
        },
        "outputId": "23c9dc42-ea5d-4b49-b48e-2622786640a8"
      },
      "execution_count": null,
      "outputs": [
        {
          "output_type": "stream",
          "name": "stdout",
          "text": [
            "1. 매치된다\n",
            "2. 매치된다\n",
            "3. 매치된다\n",
            "4. 매치된다\n",
            "5. 매치된다\n"
          ]
        }
      ]
    },
    {
      "cell_type": "markdown",
      "source": [
        "### 3-4. .\n",
        "\n",
        "- 줄바꿈 기호(\\n)를 제외한 모든 문자를 대변한다.\n",
        "- [ ]문자 클레스에서는 .은 문자 한개를 의미한다."
      ],
      "metadata": {
        "id": "zmRIILGHGaCZ"
      }
    },
    {
      "cell_type": "code",
      "source": [
        "# 시작문자로 a혹은 .혹은 b가 올 수 있다. {.이 하나의 문자로 인식됨}\n",
        "if re.match('[a.b]', 'a') : print('1. 매치된다')\n",
        "if re.match('[a.b]', 'b') : print('2. 매치된다')\n",
        "if re.match('[a.b]', 'c') : print('3. 매치된다')\n",
        "\n",
        "if re.match('[a.b]', 'ab') : print('4. 매치된다')\n",
        "if re.match('[a.b]', 'a1b') : print('5. 매치된다')\n",
        "if re.match('[a.b]', 'azb') : print('6. 매치된다')\n",
        "if re.match('[a.b]', '.zb') : print('7. 매치된다')"
      ],
      "metadata": {
        "id": "kWj2cPHN1Qcp",
        "colab": {
          "base_uri": "https://localhost:8080/"
        },
        "outputId": "2f7fc32a-f525-4130-d516-f3da25e42581"
      },
      "execution_count": null,
      "outputs": [
        {
          "output_type": "stream",
          "name": "stdout",
          "text": [
            "1. 매치된다\n",
            "2. 매치된다\n",
            "4. 매치된다\n",
            "5. 매치된다\n",
            "6. 매치된다\n",
            "7. 매치된다\n"
          ]
        }
      ]
    },
    {
      "cell_type": "markdown",
      "source": [
        "### 3-5. ^\n",
        "\n",
        "- [ ^문자... ] : 해당 문자는 배제(제외)한다.\n",
        "- ^[ 문자 ] : 문자열에서 맨 처음 부분과 일치함을 체크\n",
        "    - re.MULTILINE 옵션과 같이 사용해서, 각 라인의 처음 부분을 검사할수 있다."
      ],
      "metadata": {
        "id": "E6Y6O1QhHg55"
      }
    },
    {
      "cell_type": "code",
      "source": [
        "# 시작문자가 숫자거나 .으로 시작하는지 검사 코드\n",
        "if re.match('^[0-9.]', '1') : print('1. 매치된다')"
      ],
      "metadata": {
        "id": "196yhqNbNR9L",
        "colab": {
          "base_uri": "https://localhost:8080/"
        },
        "outputId": "0cea18e0-8cca-4b53-bbec-f17ca3ef33a4"
      },
      "execution_count": null,
      "outputs": [
        {
          "output_type": "stream",
          "name": "stdout",
          "text": [
            "1. 매치된다\n"
          ]
        }
      ]
    },
    {
      "cell_type": "markdown",
      "source": [
        "### 3-6. $\n",
        "\n",
        "- 문자열의 맨끝과 일치"
      ],
      "metadata": {
        "id": "SzvQIvf8MD42"
      }
    },
    {
      "cell_type": "code",
      "source": [
        "# 시작문자가 숫자|. 끝문자도 숫자|.\n",
        "if re.match('^[0-9\\.]$', '1') : print('1. 매치된다')\n",
        "if re.match('^[0-9\\.]$', '1abcdef') : print('2. 매치된다')\n",
        "\n",
        "# [] => 문자열 1개를 의미 1개의 문자열이 시작과 끝이 되야 한다.\n",
        "if re.match('^[0-9\\.]$', '11') : print('3. 매치된다')\n",
        "if re.match('^[0-9\\.]$', '.') : print('4. 매치된다')"
      ],
      "metadata": {
        "id": "BKzJJHlv1Qji",
        "colab": {
          "base_uri": "https://localhost:8080/"
        },
        "outputId": "d21560df-05ea-4f6f-f3d0-780372f8c594"
      },
      "execution_count": null,
      "outputs": [
        {
          "output_type": "stream",
          "name": "stdout",
          "text": [
            "1. 매치된다\n",
            "4. 매치된다\n"
          ]
        }
      ]
    },
    {
      "cell_type": "code",
      "source": [
        "# 시작문자는 0-9까지 나올 수 있다. 이후 숫자는 무한대까지 반복 가능.\n",
        "# 끝문자는 a-z까지 나올 수 있다. 이후 무한대 반복 가능\n",
        "if re.match('^[0-9]+[a-z]+$', '1') : print('1. 매치된다') # 문자수가 최소 2개 이상 되어야함\n",
        "if re.match('^[0-9]+[a-z]+$', '11') : print('2. 매치된다') # 숫자로 끝나서 X\n",
        "if re.match('^[0-9]+[a-z]+$', '11111111111111A') : print('3. 매치된다') # 대문자로 끝남\n",
        "if re.match('^[0-9]+[a-z]+$', '11111111111111a') : print('4. 매치된다') # 굿"
      ],
      "metadata": {
        "id": "6LPAF1oV1Qly",
        "colab": {
          "base_uri": "https://localhost:8080/"
        },
        "outputId": "4bf1b101-3a8d-43e6-9c03-c835d88a5d44"
      },
      "execution_count": null,
      "outputs": [
        {
          "output_type": "stream",
          "name": "stdout",
          "text": [
            "4. 매치된다\n"
          ]
        }
      ]
    },
    {
      "cell_type": "markdown",
      "source": [
        "### 3-7. +, *\n",
        "```\n",
        "- + : 1부터 무한대\n",
        "```\n",
        "```\n",
        "- * : 0부터 무한대\n",
        "```\n",
        "```\n",
        "- [] : 내부에서는 단순 문자로 해석\n",
        "```"
      ],
      "metadata": {
        "id": "7pTCy1v8PI1P"
      }
    },
    {
      "cell_type": "code",
      "source": [
        "if re.match('^[0-9\\.]+$', '11') : print('1. 매치된다')\n",
        "if re.match('^[0-9\\.]+$', '1') : print('2. 매치된다')\n",
        "if re.match('^[0-9\\.]*$', '.1') : print('3. 매치된다')\n",
        "if re.match('^[0-9\\.]*$', '.') : print('4. 매치된다')"
      ],
      "metadata": {
        "id": "e8iPfU-D1Qn_",
        "colab": {
          "base_uri": "https://localhost:8080/"
        },
        "outputId": "b4c5264c-73e0-4582-c8f8-56bc9cb36b02"
      },
      "execution_count": null,
      "outputs": [
        {
          "output_type": "stream",
          "name": "stdout",
          "text": [
            "1. 매치된다\n",
            "2. 매치된다\n",
            "3. 매치된다\n",
            "4. 매치된다\n"
          ]
        }
      ]
    },
    {
      "cell_type": "code",
      "source": [
        "# 문자 클래스내에서 특정 문자 배제\n",
        "if re.match('[^0-9]', '1') : print('1. 매치된다')\n",
        "if re.match('[^0-9]', '가') : print('2. 매치된다')\n",
        "if re.match('[^0-9]', 'a') : print('3. 매치된다')"
      ],
      "metadata": {
        "id": "p-d8zAMw1Qqj",
        "colab": {
          "base_uri": "https://localhost:8080/"
        },
        "outputId": "9a6bd75b-7688-49d7-de8d-2e5293314278"
      },
      "execution_count": null,
      "outputs": [
        {
          "output_type": "stream",
          "name": "stdout",
          "text": [
            "2. 매치된다\n",
            "3. 매치된다\n"
          ]
        }
      ]
    },
    {
      "cell_type": "code",
      "source": [
        "# 문자열 내에서 *, + 사용\n",
        "# * : 바로 앞에 문자가 0 ~ 무한대까지 올 수 있다.\n",
        "if re.match('seo*ul', 'seul') : print('1. 매치된다')\n",
        "if re.match('seo*ul', 'seoul') : print('2. 매치된다')\n",
        "if re.match('seo*ul', 'seoooul') : print('3. 매치된다')"
      ],
      "metadata": {
        "colab": {
          "base_uri": "https://localhost:8080/"
        },
        "id": "omLMcuDTQi79",
        "outputId": "7a141eac-818d-4eb3-e83c-5f2cab207a55"
      },
      "execution_count": null,
      "outputs": [
        {
          "output_type": "stream",
          "name": "stdout",
          "text": [
            "1. 매치된다\n",
            "2. 매치된다\n",
            "3. 매치된다\n"
          ]
        }
      ]
    },
    {
      "cell_type": "code",
      "source": [
        "# 문자열 내에서 *, + 사용\n",
        "# + : 바로 앞에 문자가 1 ~ 무한대까지 올 수 있다.\n",
        "if re.match('seo+ul', 'seul') : print('1. 매치된다')\n",
        "if re.match('seo+ul', 'seoul') : print('2. 매치된다')\n",
        "if re.match('seo+ul', 'seoooul') : print('3. 매치된다')"
      ],
      "metadata": {
        "colab": {
          "base_uri": "https://localhost:8080/"
        },
        "id": "dp66ePaYRAH3",
        "outputId": "0ac2b795-d4a9-4e45-826f-abb711691d3d"
      },
      "execution_count": null,
      "outputs": [
        {
          "output_type": "stream",
          "name": "stdout",
          "text": [
            "2. 매치된다\n",
            "3. 매치된다\n"
          ]
        }
      ]
    },
    {
      "cell_type": "markdown",
      "source": [
        "## 3-8. {}"
      ],
      "metadata": {
        "id": "lLZlzCrlRy-N"
      }
    },
    {
      "cell_type": "markdown",
      "source": [
        "- 반복 횟수를 지정하는 표현\n",
        "    - 문자 클레스에서는 무의미하다 [ ] <= X\n",
        "- 예시\n",
        "    - {2} : 2회 반복\n",
        "    - {2,3} : 2~3회까지 반복 가능, 내부에 간격 x"
      ],
      "metadata": {
        "id": "jdBkn2RHR9W0"
      }
    },
    {
      "cell_type": "code",
      "source": [
        "if re.match('seo{2}ul', 'seul') : print('1. 매치된다')\n",
        "if re.match('seo{2}ul', 'seoul') : print('2. 매치된다')\n",
        "if re.match('seo{2}ul', 'seooul') : print('3. 매치된다') # 2회만 반복된것만 OK\n",
        "if re.match('seo{2}ul', 'seoooul') : print('4. 매치된다')"
      ],
      "metadata": {
        "colab": {
          "base_uri": "https://localhost:8080/"
        },
        "id": "facE1nDzRXIi",
        "outputId": "b47fb194-683e-4d74-b38f-0d0155e792a2"
      },
      "execution_count": null,
      "outputs": [
        {
          "output_type": "stream",
          "name": "stdout",
          "text": [
            "3. 매치된다\n"
          ]
        }
      ]
    },
    {
      "cell_type": "code",
      "source": [
        "if re.match('seo{2,3}ul', 'seul') : print('1. 매치된다')\n",
        "if re.match('seo{2,3}ul', 'seoul') : print('2. 매치된다')\n",
        "if re.match('seo{2,3}ul', 'seooul') : print('3. 매치된다') # 2번 반복 OK\n",
        "if re.match('seo{2,3}ul', 'seoooul') : print('4. 매치된다') # 3번 반복 OK\n",
        "if re.match('seo{2,3}ul', 'seooooul') : print('5. 매치된다')"
      ],
      "metadata": {
        "colab": {
          "base_uri": "https://localhost:8080/"
        },
        "id": "g_GX1zbcSMor",
        "outputId": "15e3af26-c245-4414-931e-6dd0603e4b9b"
      },
      "execution_count": null,
      "outputs": [
        {
          "output_type": "stream",
          "name": "stdout",
          "text": [
            "3. 매치된다\n",
            "4. 매치된다\n"
          ]
        }
      ]
    },
    {
      "cell_type": "markdown",
      "source": [
        "##3-9. ?\n",
        "\n",
        "- 해당 문자는 안나와도 OK, 나와도 OK(무조건 1회만)"
      ],
      "metadata": {
        "id": "azBf_MgCTEys"
      }
    },
    {
      "cell_type": "code",
      "source": [
        "if re.match('seo?ul', 'seul') : print('1. 매치된다')\n",
        "if re.match('seo?ul', 'seoul') : print('2. 매치된다')\n",
        "if re.match('seo?ul', 'seoooul') : print('3. 매치된다') # 1번 이상 등장해서 매치안됨"
      ],
      "metadata": {
        "colab": {
          "base_uri": "https://localhost:8080/"
        },
        "id": "ph6pCPwvSn_Y",
        "outputId": "c152fa6c-4c64-4c28-e7ef-3de1214224bf"
      },
      "execution_count": null,
      "outputs": [
        {
          "output_type": "stream",
          "name": "stdout",
          "text": [
            "1. 매치된다\n",
            "2. 매치된다\n"
          ]
        }
      ]
    },
    {
      "cell_type": "code",
      "source": [
        "# 핸드폰 번호 예시\n",
        "if re.match('^010-[0-9]{4}-[0-9]{4}$', '010-1111-2222') : print('1. 매치된다')\n",
        "if re.match('^010-[0-9]{3,4}-[0-9]{4}$', '010-1111-2222') : print('2. 매치된다') # 두번째 자리 3자리 혹은 4자리"
      ],
      "metadata": {
        "colab": {
          "base_uri": "https://localhost:8080/"
        },
        "id": "C-bLXgoTTWHV",
        "outputId": "40136688-59ad-4f64-aa01-c96152abb168"
      },
      "execution_count": null,
      "outputs": [
        {
          "output_type": "stream",
          "name": "stdout",
          "text": [
            "1. 매치된다\n",
            "2. 매치된다\n"
          ]
        }
      ]
    },
    {
      "cell_type": "markdown",
      "source": [
        "# 4. 메타문자 - 이스케이프 문자\n",
        "\n",
        "- 형식\n",
        "    - \\일반문자 -> 문자클래스 내부에서는 문자로 인식\n",
        "    - \\예약된문자 -> \\t, \\n, \\r... -> 화이트스페이스\n",
        "    - \\정규식용도 (상호간 반대 극성을 표방한다)\n",
        "        - \\d, \\s, \\w, \\b\n",
        "        - \\D, \\S, \\W, \\B"
      ],
      "metadata": {
        "id": "tJatSlJTUqXf"
      }
    },
    {
      "cell_type": "markdown",
      "source": [
        "### 4-1. \\d, \\D"
      ],
      "metadata": {
        "id": "JNvOqhsTq5ya"
      }
    },
    {
      "cell_type": "code",
      "source": [
        "# [\\d] 숫자 => [0-9]\n",
        "if re.match('[\\d]', '1') : print('1. 매치된다')\n",
        "if re.match('[\\d]', 'a') : print('2. 매치된다')"
      ],
      "metadata": {
        "colab": {
          "base_uri": "https://localhost:8080/"
        },
        "id": "sYv9RPOYT021",
        "outputId": "efc6b5f8-811f-44d6-c8d0-face45d81cc7"
      },
      "execution_count": null,
      "outputs": [
        {
          "output_type": "stream",
          "name": "stdout",
          "text": [
            "1. 매치된다\n"
          ]
        }
      ]
    },
    {
      "cell_type": "code",
      "source": [
        "# \\D 숫자 아닌 나머지 => [^0-9]\n",
        "if re.match('[\\D]', '1') : print('1. 매치된다')\n",
        "if re.match('[\\D]', 'a') : print('2. 매치된다')\n",
        "if re.match('[\\D]', '@') : print('3. 매치된다')"
      ],
      "metadata": {
        "id": "SIsO9ZNeUpv7",
        "colab": {
          "base_uri": "https://localhost:8080/"
        },
        "outputId": "37f1fc0e-67e9-44ef-fd55-2653729d7aaf"
      },
      "execution_count": null,
      "outputs": [
        {
          "output_type": "stream",
          "name": "stdout",
          "text": [
            "2. 매치된다\n",
            "3. 매치된다\n"
          ]
        }
      ]
    },
    {
      "cell_type": "markdown",
      "source": [
        "### 4-2. \\s, \\S"
      ],
      "metadata": {
        "id": "smmY0T27q8MU"
      }
    },
    {
      "cell_type": "code",
      "source": [
        "# \\s => 화이트 스페이스, \\, \\t, \\r, ...\n",
        "# 문자열내에 포함되면서, 출력시 어떤 기능(메타정보)를 수행, 화면에는 보이지 않는다(대체적으로 공백으로 보임)\n",
        "if re.match('[\\s]', '\\n') : print('1. 매치된다')\n",
        "if re.match('[\\s]', 'a') : print('2. 매치된다')\n"
      ],
      "metadata": {
        "colab": {
          "base_uri": "https://localhost:8080/"
        },
        "id": "iAc71r37WS1Q",
        "outputId": "8917979c-800a-4ab5-bfd3-37716d4df2c5"
      },
      "execution_count": null,
      "outputs": [
        {
          "output_type": "stream",
          "name": "stdout",
          "text": [
            "1. 매치된다\n"
          ]
        }
      ]
    },
    {
      "cell_type": "code",
      "source": [
        "# \\S => 화이트스페이스가 아닌 문자\n",
        "if re.match('[\\S]', '\\n') : print('1. 매치된다')\n",
        "if re.match('[\\S]', 'a') : print('2. 매치된다')"
      ],
      "metadata": {
        "colab": {
          "base_uri": "https://localhost:8080/"
        },
        "id": "26eaK8UNXagj",
        "outputId": "01e7b10c-c581-4111-d5fe-dd918214b0ba"
      },
      "execution_count": null,
      "outputs": [
        {
          "output_type": "stream",
          "name": "stdout",
          "text": [
            "2. 매치된다\n"
          ]
        }
      ]
    },
    {
      "cell_type": "markdown",
      "source": [
        "### 4-3 \\w, \\W"
      ],
      "metadata": {
        "id": "KapT60QLrCJh"
      }
    },
    {
      "cell_type": "code",
      "source": [
        "# \\w => 문자, 숫자 매치 (특수문자, 화이트 스페이스는 배제)\n",
        "\n",
        "if re.match('[\\w]', 'a') : print('1. 매치된다')\n",
        "if re.match('[\\w]', 'A') : print('2. 매치된다')\n",
        "if re.match('[\\w]', '가') : print('3. 매치된다')\n",
        "if re.match('[\\w]', '1') : print('4. 매치된다')\n",
        "if re.match('[\\w]', '@') : print('5. 매치된다')\n",
        "if re.match('[\\w]', '\\n') : print('6. 매치된다')"
      ],
      "metadata": {
        "colab": {
          "base_uri": "https://localhost:8080/"
        },
        "id": "MsIKLi1RXjE4",
        "outputId": "cf682265-1d97-431d-ed6c-cae7b4ccc1b4"
      },
      "execution_count": null,
      "outputs": [
        {
          "output_type": "stream",
          "name": "stdout",
          "text": [
            "1. 매치된다\n",
            "2. 매치된다\n",
            "3. 매치된다\n",
            "4. 매치된다\n"
          ]
        }
      ]
    },
    {
      "cell_type": "code",
      "source": [
        "# \\W => 특수문자, 화이트 스페이스\n",
        "\n",
        "if re.match('[\\W]', 'a') : print('1. 매치된다')\n",
        "if re.match('[\\W]', 'A') : print('2. 매치된다')\n",
        "if re.match('[\\W]', '가') : print('3. 매치된다')\n",
        "if re.match('[\\W]', '1') : print('4. 매치된다')\n",
        "if re.match('[\\W]', '@') : print('5. 매치된다')\n",
        "if re.match('[\\W]', '\\n') : print('6. 매치된다')"
      ],
      "metadata": {
        "colab": {
          "base_uri": "https://localhost:8080/"
        },
        "id": "EBMiMM-IX5rD",
        "outputId": "63a97ae1-8de6-4e4f-a194-52f9a1138f38"
      },
      "execution_count": null,
      "outputs": [
        {
          "output_type": "stream",
          "name": "stdout",
          "text": [
            "5. 매치된다\n",
            "6. 매치된다\n"
          ]
        }
      ]
    },
    {
      "cell_type": "markdown",
      "source": [
        "### 4-4. raw string"
      ],
      "metadata": {
        "id": "3LXxd1r2rOMJ"
      }
    },
    {
      "cell_type": "code",
      "source": [
        "# raw string => r''\n",
        "# 화이트스페이스르 하나의 문자로 보장받고 싶다면 r''으로 표현'\n",
        "a = '[ABab가나\\t]\\n12!@'\n",
        "a # 대화형 툴에서 바로 출력 -> 화이트 스페이스 문자로 취급"
      ],
      "metadata": {
        "colab": {
          "base_uri": "https://localhost:8080/"
        },
        "id": "7aCk08cKYJCU",
        "outputId": "de400102-59b0-4482-f9ed-1651c909803c"
      },
      "execution_count": null,
      "outputs": [
        {
          "output_type": "stream",
          "name": "stdout",
          "text": [
            "[ABab가나\t]\n",
            "12!@\n"
          ]
        }
      ]
    },
    {
      "cell_type": "code",
      "source": [
        "# print함수 => 화이트 스페이스 제거\n",
        "print(a)"
      ],
      "metadata": {
        "id": "flHVBOo_YzlR"
      },
      "execution_count": null,
      "outputs": []
    },
    {
      "cell_type": "code",
      "source": [
        "# 대화형 툴이 아닌 IDE에서나 print() 함수 내에서 화이트스페이스 보장받고 싶다면\n",
        "a = r'[ABab가나\\t]\\n12!@'\n",
        "print(a, type(a))"
      ],
      "metadata": {
        "colab": {
          "base_uri": "https://localhost:8080/"
        },
        "id": "5DP9AitZZHJI",
        "outputId": "ac622f1f-a690-4c82-bbf3-95a85a986f76"
      },
      "execution_count": null,
      "outputs": [
        {
          "output_type": "stream",
          "name": "stdout",
          "text": [
            "[ABab가나\\t]\\n12!@ <class 'str'>\n"
          ]
        }
      ]
    },
    {
      "cell_type": "code",
      "source": [
        "# raw string 에서 일반적으로 \\b를 사용한다 => 단어 구분자 용도\n",
        "# 일반적으로는 백키(화이트스페이스로 해석)\n",
        "p = re.compile(r'\\bclass\\b')\n",
        "# 말뭉치 안에서 앞에 어떤 문자도 없고(화이트스페이스 제외)\n",
        "# 뒤에도 없고 오로지 순수한 class란 단어로만 존재하는 경우"
      ],
      "metadata": {
        "id": "tvEvW1WNZRcQ"
      },
      "execution_count": null,
      "outputs": []
    },
    {
      "cell_type": "code",
      "source": [
        "res = p.search('ab a not class at 12345 가나다') # search : 하나만 매칭되도 OK\n",
        "print(res)\n",
        "print(res.group())"
      ],
      "metadata": {
        "colab": {
          "base_uri": "https://localhost:8080/"
        },
        "id": "TgDIeckUZnFw",
        "outputId": "b6516566-4bf6-48bc-8d9f-24bc005d249e"
      },
      "execution_count": null,
      "outputs": [
        {
          "output_type": "stream",
          "name": "stdout",
          "text": [
            "<re.Match object; span=(9, 14), match='class'>\n",
            "class\n"
          ]
        }
      ]
    },
    {
      "cell_type": "code",
      "source": [
        "res = res = p.search('ab a not classifier at 12345 가나다') # search : 하나만 매칭되도 OK\n",
        "print(res)\n",
        "if res :\n",
        " print(res.group())"
      ],
      "metadata": {
        "colab": {
          "base_uri": "https://localhost:8080/"
        },
        "id": "Kxm4B7Voae7G",
        "outputId": "4e2fad15-2126-4308-be22-9d4b0cfba758"
      },
      "execution_count": null,
      "outputs": [
        {
          "output_type": "stream",
          "name": "stdout",
          "text": [
            "None\n"
          ]
        }
      ]
    },
    {
      "cell_type": "markdown",
      "source": [
        "# 5. 주요 함수"
      ],
      "metadata": {
        "id": "G5dL2PiMbCEt"
      }
    },
    {
      "cell_type": "markdown",
      "source": [
        "- 해당 정규식이 문자열내에 패턴으로 존재하는가 중요\n",
        "    - match() : 문자열의 처음(시작)부터 정규식과 매칭되는지를 조사\n",
        "        - 매칭이 되면 매치된 내용 리턴\n",
        "    - search() : 문자열의 전체를 검색하여 정규식과 매칭되는지 조사\n",
        "        - 매칭이 되면 매치된 내용을 리턴\n",
        "        - 매칭이 되면 매치된 내용 리턴\n",
        "\n",
        "- 데이터 추출, 클리닝\n",
        "    - sub() : 정규식에 일치되는 부분을 특정 문자열로 대체(제거, 교체)\n",
        "\n",
        "- 정규식에 일치된 문자열을 가져온다.\n",
        "    - findall() : 정규식에 매칭된 모든 문장열을 리스트로 반환\n",
        "    - finditer() : 정규식에 매칭된 모든 문자열을 이터레이터(순환형)로 반환"
      ],
      "metadata": {
        "id": "tXnwOVOvbED7"
      }
    },
    {
      "cell_type": "markdown",
      "source": [
        "#### 5-1. match"
      ],
      "metadata": {
        "id": "tTU9BinGdQZf"
      }
    },
    {
      "cell_type": "code",
      "source": [
        "p = re.compile('[0-9]+')\n",
        "res = p.match('abc5')\n",
        "print(res)"
      ],
      "metadata": {
        "colab": {
          "base_uri": "https://localhost:8080/"
        },
        "id": "PmdUJeoCcYf2",
        "outputId": "a527d64f-d85b-449c-c2dd-3e12c0597408"
      },
      "execution_count": null,
      "outputs": [
        {
          "output_type": "stream",
          "name": "stdout",
          "text": [
            "None\n"
          ]
        }
      ]
    },
    {
      "cell_type": "code",
      "source": [
        "p = re.compile('[0-9]+')\n",
        "res = p.match('5abc')\n",
        "print(res)"
      ],
      "metadata": {
        "colab": {
          "base_uri": "https://localhost:8080/"
        },
        "id": "4XyRkCIdcwkk",
        "outputId": "679e65c3-9cd5-4433-9f29-42040e6f28d8"
      },
      "execution_count": null,
      "outputs": [
        {
          "output_type": "stream",
          "name": "stdout",
          "text": [
            "<re.Match object; span=(0, 1), match='5'>\n"
          ]
        }
      ]
    },
    {
      "cell_type": "code",
      "source": [
        "p = re.compile('[0-9]+')\n",
        "res = p.match('54321abc')\n",
        "print(res)"
      ],
      "metadata": {
        "colab": {
          "base_uri": "https://localhost:8080/"
        },
        "id": "7nsmSSLodW_l",
        "outputId": "57401644-a368-485b-eb24-58d24d297744"
      },
      "execution_count": null,
      "outputs": [
        {
          "output_type": "stream",
          "name": "stdout",
          "text": [
            "<re.Match object; span=(0, 5), match='54321'>\n"
          ]
        }
      ]
    },
    {
      "cell_type": "markdown",
      "source": [
        "### 5-2. search()"
      ],
      "metadata": {
        "id": "nz23tnMRdXoV"
      }
    },
    {
      "cell_type": "code",
      "source": [
        "p = re.compile('[0-9]+')\n",
        "res = p.search('abcd5 4efnjksb 1234 sdfbsj45')\n",
        "print(res)"
      ],
      "metadata": {
        "colab": {
          "base_uri": "https://localhost:8080/"
        },
        "id": "naM-MBDdc0X0",
        "outputId": "b8999894-35db-4389-c5f5-8f7d4936f8b0"
      },
      "execution_count": null,
      "outputs": [
        {
          "output_type": "stream",
          "name": "stdout",
          "text": [
            "<re.Match object; span=(4, 5), match='5'>\n"
          ]
        }
      ]
    },
    {
      "cell_type": "code",
      "source": [
        "# 최초 패턴이 발견되면 종료 => 최초 단계만 갖는다\n",
        "if res:\n",
        "    print(res.group())\n",
        "    print(res.groups())\n",
        "    print(res.group(0))\n",
        "    print(res.groupdict())\n",
        "    print(res.group()) # 에러"
      ],
      "metadata": {
        "colab": {
          "base_uri": "https://localhost:8080/"
        },
        "id": "LCsfQgVHdv-X",
        "outputId": "ec7cafcb-3240-49f7-a8a5-5ed8bb6effff"
      },
      "execution_count": null,
      "outputs": [
        {
          "output_type": "stream",
          "name": "stdout",
          "text": [
            "5\n",
            "()\n",
            "5\n",
            "{}\n",
            "5\n"
          ]
        }
      ]
    },
    {
      "cell_type": "markdown",
      "source": [
        "### 5-3.findall(), finditer()"
      ],
      "metadata": {
        "id": "j7fWLdyphFb3"
      }
    },
    {
      "cell_type": "code",
      "source": [
        "|# 정규식 구성, 변수 p, 요구사항 : 알파벳소문자로만 1~무한대\n",
        "text = 'abcd5 13132 5sdbjkc sdcnsdjk 12346 12csdnjk,mcns45 dsncjknas45 a'\n",
        "p = re.compile('[a-z]+')"
      ],
      "metadata": {
        "id": "2xqK2GYBhEvW"
      },
      "execution_count": null,
      "outputs": []
    },
    {
      "cell_type": "code",
      "source": [
        "# 말뭉치에서 소문자로만 구성된 부분을 다 찾아서 리스트로 리턴한다\n",
        "res = p.findall(text)\n",
        "if res :\n",
        "    print(res) # 리스트로 반환된 결과"
      ],
      "metadata": {
        "colab": {
          "base_uri": "https://localhost:8080/"
        },
        "id": "s0uIMi2Vhrhe",
        "outputId": "8cd325e8-a696-4ab9-b2dd-bad158baeaf6"
      },
      "execution_count": null,
      "outputs": [
        {
          "output_type": "stream",
          "name": "stdout",
          "text": [
            "['abcd', 'sdbjkc', 'sdcnsdjk', 'csdnjk', 'mcns', 'dsncjknas', 'a']\n"
          ]
        }
      ]
    },
    {
      "cell_type": "code",
      "source": [
        "res = p.finditer(text)\n",
        "if res :\n",
        "    # 이터레이터는 for문하고 통상 같이 사용, 요청할 때 마다 데이터를 던져준다\n",
        "    for word in res:\n",
        "        # 매칭객체, 매칭된 문자열, 말뭉치상에 시작위치, 끝위치, 시작과 끝 위치정보 묶음\n",
        "        print(word.group(), word.start(),word.end(), word.span()) # 리스트로 반환된 결과"
      ],
      "metadata": {
        "colab": {
          "base_uri": "https://localhost:8080/"
        },
        "id": "pgsqbIh0iNIb",
        "outputId": "ca45a846-48ca-4412-c4be-09a7d24fc558"
      },
      "execution_count": null,
      "outputs": [
        {
          "output_type": "stream",
          "name": "stdout",
          "text": [
            "abcd 0 4 (0, 4)\n",
            "sdbjkc 13 19 (13, 19)\n",
            "sdcnsdjk 20 28 (20, 28)\n",
            "csdnjk 37 43 (37, 43)\n",
            "mcns 44 48 (44, 48)\n",
            "dsncjknas 51 60 (51, 60)\n",
            "a 63 64 (63, 64)\n"
          ]
        }
      ]
    },
    {
      "cell_type": "markdown",
      "source": [
        "### 5-4. sub()"
      ],
      "metadata": {
        "id": "_3gLb08JkwZq"
      }
    },
    {
      "cell_type": "markdown",
      "source": [
        "- 특정 단어와 매칭\n",
        "\n",
        "- 의미있는 단어를 활용\n",
        "\n",
        "\n"
      ],
      "metadata": {
        "id": "g4x0oeiojQAu"
      }
    },
    {
      "cell_type": "code",
      "source": [
        "# 색상을 나열(후보군)\n",
        "p = re.compile('(blue|red|white)')\n",
        "p.sub('칼라', 'white로 보이는 스펀지 케이크, 그리고 red 와인, blue 보틀 아이스크림 떠있는 라떼') # 특정 단어를 대체\n",
        "# 후보군에 있는 단어와 매칭이 되면 대체된다."
      ],
      "metadata": {
        "colab": {
          "base_uri": "https://localhost:8080/",
          "height": 36
        },
        "id": "WCBdFY_giU8A",
        "outputId": "c3f2c8c2-ad74-40ce-fa9e-9af9a81eec9a"
      },
      "execution_count": null,
      "outputs": [
        {
          "output_type": "execute_result",
          "data": {
            "text/plain": [
              "'칼라로 보이는 스펀지 케이크, 그리고 칼라 와인, 칼라 보틀 아이스크림 떠있는 라떼'"
            ],
            "application/vnd.google.colaboratory.intrinsic+json": {
              "type": "string"
            }
          },
          "metadata": {},
          "execution_count": 75
        }
      ]
    },
    {
      "cell_type": "markdown",
      "source": [
        "# 6. 그룹핑 - ()"
      ],
      "metadata": {
        "id": "QFjfelvDk-4I"
      }
    },
    {
      "cell_type": "markdown",
      "source": [
        "### 6-1. 기본형"
      ],
      "metadata": {
        "id": "VF7q16djqXOh"
      }
    },
    {
      "cell_type": "markdown",
      "source": [
        "- 정보를 그룹화한다.\n",
        "    - 편의성 개선, 매칭된 정보 활용 손쉬워진다.\n",
        "- res.group(0)\n",
        "    - 매칭된 문자열 출력\n",
        "    - match\n",
        "    - 0번은 매칭 전체를 표현하는 자리\n",
        "- res.group(1 or 2, ...)\n",
        "    - search\n",
        "    - 그룹화된 결과는 1번부터 조회 가능함"
      ],
      "metadata": {
        "id": "fKSqRz1XlBwh"
      }
    },
    {
      "cell_type": "code",
      "source": [
        "# 데이터 준비\n",
        "text = 'A빌딩 010-1234-5678 급매'\n",
        "text"
      ],
      "metadata": {
        "colab": {
          "base_uri": "https://localhost:8080/",
          "height": 36
        },
        "id": "ww9ZTL9clfIm",
        "outputId": "0425e61a-0398-451c-b288-4fde37820e69"
      },
      "execution_count": null,
      "outputs": [
        {
          "output_type": "execute_result",
          "data": {
            "text/plain": [
              "'A빌딩 010-1234-5678 급매'"
            ],
            "application/vnd.google.colaboratory.intrinsic+json": {
              "type": "string"
            }
          },
          "metadata": {},
          "execution_count": 77
        }
      ]
    },
    {
      "cell_type": "code",
      "source": [
        "p = re.compile(r'\\w+\\s+\\d+[-]\\d+[-]\\d+\\s+\\w+')"
      ],
      "metadata": {
        "id": "RwP7sPt0mLi4"
      },
      "execution_count": null,
      "outputs": []
    },
    {
      "cell_type": "code",
      "source": [
        "res = p.search(text)\n",
        "res"
      ],
      "metadata": {
        "colab": {
          "base_uri": "https://localhost:8080/"
        },
        "id": "XX5J5Mb2nyKS",
        "outputId": "eef76928-0176-432d-d1a3-2d4e2fbc9f0e"
      },
      "execution_count": null,
      "outputs": [
        {
          "output_type": "execute_result",
          "data": {
            "text/plain": [
              "<re.Match object; span=(0, 20), match='A빌딩 010-1234-5678 급매'>"
            ]
          },
          "metadata": {},
          "execution_count": 83
        }
      ]
    },
    {
      "cell_type": "code",
      "source": [
        "res.group(0)\n",
        "# 더 긴 데이터에서 뽑은 형태가 아래와 같다\n",
        "# => 전화번호, 매물명, 행위 정보를 뽑기 위해서 또 2차 작업 진행된다."
      ],
      "metadata": {
        "colab": {
          "base_uri": "https://localhost:8080/",
          "height": 36
        },
        "id": "g7wB_5Fbn_Ps",
        "outputId": "d2aa58d2-d71e-408e-d9f0-af5d7ca047e2"
      },
      "execution_count": null,
      "outputs": [
        {
          "output_type": "execute_result",
          "data": {
            "text/plain": [
              "'A빌딩 010-1234-5678 급매'"
            ],
            "application/vnd.google.colaboratory.intrinsic+json": {
              "type": "string"
            }
          },
          "metadata": {},
          "execution_count": 84
        }
      ]
    },
    {
      "cell_type": "markdown",
      "source": [
        "- 전화번호, 매물, 행위 등에 대해 그룹화 처리를 수행하여 추출과 동시에 정보를 쉽게 획득한다."
      ],
      "metadata": {
        "id": "PdIn6WKEoSBB"
      }
    },
    {
      "cell_type": "code",
      "source": [
        "p = re.compile(r'(\\w+)\\s+(\\d+[-]\\d+[-]\\d+)\\s+(\\w+)')\n",
        "res = p.search(text)\n",
        "res.group(), res.group(0)"
      ],
      "metadata": {
        "colab": {
          "base_uri": "https://localhost:8080/"
        },
        "id": "x23RNnmIa3Qn",
        "outputId": "42f6d957-75af-4900-cad3-06763ca2fcb5"
      },
      "execution_count": null,
      "outputs": [
        {
          "output_type": "execute_result",
          "data": {
            "text/plain": [
              "('A빌딩 010-1234-5678 급매', 'A빌딩 010-1234-5678 급매')"
            ]
          },
          "metadata": {},
          "execution_count": 88
        }
      ]
    },
    {
      "cell_type": "code",
      "source": [
        "res.group(1), res.group(2), res.group(3) # 그룹은 1번부터 확인 가능"
      ],
      "metadata": {
        "colab": {
          "base_uri": "https://localhost:8080/"
        },
        "id": "G2IngV6To7Or",
        "outputId": "dd8e657a-a972-4f78-a752-3bd1e627dde7"
      },
      "execution_count": null,
      "outputs": [
        {
          "output_type": "execute_result",
          "data": {
            "text/plain": [
              "('A빌딩', '010-1234-5678', '급매')"
            ]
          },
          "metadata": {},
          "execution_count": 91
        }
      ]
    },
    {
      "cell_type": "code",
      "source": [
        "# groups를 이용하여 그룹이 존재하는 만큼만 출력\n",
        "for i, n in enumerate(res.groups()): # 인덱스 사용\n",
        "    print(i+1, n)"
      ],
      "metadata": {
        "colab": {
          "base_uri": "https://localhost:8080/"
        },
        "id": "yE3nM7vgpAx3",
        "outputId": "00f47e90-2643-48df-deed-6dd7f473f4e1"
      },
      "execution_count": null,
      "outputs": [
        {
          "output_type": "stream",
          "name": "stdout",
          "text": [
            "1 A빌딩\n",
            "2 010-1234-5678\n",
            "3 급매\n"
          ]
        }
      ]
    },
    {
      "cell_type": "markdown",
      "source": [
        "### 6-2. 그룹핑된 문자열의 자기참조\n",
        "\n",
        "- 중복된 표현이 자주 등장한다면\n",
        "    - 자기참조 기법을 이용하여 참조하여 표현\n",
        "    - \\1, \\2 ... \\n\n",
        "        - \\n : n번째 그룹을 참조하는 표현\n",
        "- 자기참조식\n",
        "    - 정규식 일치\n",
        "    - 매칭되서 나온 값도 일치해야함"
      ],
      "metadata": {
        "id": "EtgkyL2Mqawf"
      }
    },
    {
      "cell_type": "code",
      "source": [
        "p = re.compile(r'(\\b\\w+)\\s+\\1') # 1번 그룹 참조\n",
        "res = p.search('python numpy pandas pandas sklearn tensorflow')\n",
        "res.groups(), res.group()"
      ],
      "metadata": {
        "colab": {
          "base_uri": "https://localhost:8080/"
        },
        "id": "PybYjDuJplpa",
        "outputId": "3dae59c0-3cd9-4363-a190-3300f08c60eb"
      },
      "execution_count": null,
      "outputs": [
        {
          "output_type": "execute_result",
          "data": {
            "text/plain": [
              "(('pandas',), 'pandas pandas')"
            ]
          },
          "metadata": {},
          "execution_count": 99
        }
      ]
    },
    {
      "cell_type": "markdown",
      "source": [
        "### 6-3. 그룹 네이밍\n",
        "\n",
        "- 그룹 추출시 이름으로 추출한다\n",
        "- (?P<이름>정규식)"
      ],
      "metadata": {
        "id": "SDDd0svZvOUR"
      }
    },
    {
      "cell_type": "code",
      "source": [
        "text\n",
        "# 이름 부여 : goods hp1, hp2, hp3, act"
      ],
      "metadata": {
        "colab": {
          "base_uri": "https://localhost:8080/",
          "height": 36
        },
        "id": "pEvqOX1hrhcJ",
        "outputId": "2bf943f8-87cc-46a2-d87c-88f0a79f3a0a"
      },
      "execution_count": null,
      "outputs": [
        {
          "output_type": "execute_result",
          "data": {
            "text/plain": [
              "'A빌딩 010-1234-5678 급매'"
            ],
            "application/vnd.google.colaboratory.intrinsic+json": {
              "type": "string"
            }
          },
          "metadata": {},
          "execution_count": 100
        }
      ]
    },
    {
      "cell_type": "code",
      "source": [
        "p = re.compile(r'(?P<goods>(\\w+))\\s+(?P<hp>(\\d+[-]\\d+[-]\\d+))\\s+(?P<act>(\\w+))')\n",
        "res = p.search(text)\n",
        "res.group(1), res.group(3), res.group('goods')"
      ],
      "metadata": {
        "colab": {
          "base_uri": "https://localhost:8080/"
        },
        "id": "VcyVZXlHvopk",
        "outputId": "aa6a5c84-0513-4fc7-f4bc-fcda211edbfa"
      },
      "execution_count": null,
      "outputs": [
        {
          "output_type": "execute_result",
          "data": {
            "text/plain": [
              "('A빌딩', '010-1234-5678', 'A빌딩')"
            ]
          },
          "metadata": {},
          "execution_count": 107
        }
      ]
    },
    {
      "cell_type": "markdown",
      "source": [
        "### 자기참조 네이밍 참고\n",
        "- (?P<이름>정규식)"
      ],
      "metadata": {
        "id": "WydNpobKwjIR"
      }
    },
    {
      "cell_type": "code",
      "source": [
        "p = re.compile(r'(?P<subject>(\\b\\w+))\\s+(?P=subject)') # 1번 그룹 참조\n",
        "res = p.search('python numpy pandas pandas sklearn tensorflow')\n",
        "res.groups(), res.group()"
      ],
      "metadata": {
        "colab": {
          "base_uri": "https://localhost:8080/"
        },
        "id": "PePO1IGQv92o",
        "outputId": "92013f29-a1af-4cc0-e8a5-155cdc1bd586"
      },
      "execution_count": null,
      "outputs": [
        {
          "output_type": "execute_result",
          "data": {
            "text/plain": [
              "(('pandas', 'pandas'), 'pandas pandas')"
            ]
          },
          "metadata": {},
          "execution_count": 110
        }
      ]
    },
    {
      "cell_type": "markdown",
      "source": [
        "# 7. 컴파일 옵션\n"
      ],
      "metadata": {
        "id": "9PjZZFmtxK5E"
      }
    },
    {
      "cell_type": "markdown",
      "source": [
        "- re.compile('정규식', **옵션**)"
      ],
      "metadata": {
        "id": "kvDD1XDYxNwq"
      }
    },
    {
      "cell_type": "markdown",
      "source": [
        "### 7-1. DOTALL, S\n",
        "\n",
        "- 모든 문자, \\n 포함"
      ],
      "metadata": {
        "id": "zZIunjW5xW7y"
      }
    },
    {
      "cell_type": "code",
      "source": [
        "p = re.compile('a.b')\n",
        "print(p.match('a|b'))\n",
        "print(p.match('a|+b')) # 시작문자열(정규식 기반) 3글자 중 마지막이 안맞음\n",
        "print(p.match('acb'))\n",
        "print(p.match('a1b'))\n",
        "print(p.match('a가b'))\n",
        "print(p.match('a\\nb'))"
      ],
      "metadata": {
        "colab": {
          "base_uri": "https://localhost:8080/"
        },
        "id": "tDiPoRU8wiTK",
        "outputId": "7fc37c92-8234-430d-aadb-39b5b0fb2dd6"
      },
      "execution_count": null,
      "outputs": [
        {
          "output_type": "stream",
          "name": "stdout",
          "text": [
            "<re.Match object; span=(0, 3), match='a|b'>\n",
            "None\n",
            "<re.Match object; span=(0, 3), match='acb'>\n",
            "<re.Match object; span=(0, 3), match='a1b'>\n",
            "<re.Match object; span=(0, 3), match='a가b'>\n",
            "None\n"
          ]
        }
      ]
    },
    {
      "cell_type": "code",
      "source": [
        "p = re.compile('a.b', re.DOTALL)\n",
        "print(p.match('a|b'))\n",
        "print(p.match('a|+b'))\n",
        "print(p.match('acb'))\n",
        "print(p.match('a1b'))\n",
        "print(p.match('a가b'))\n",
        "print(p.match('a\\nb')) # 줄바꿈도 매칭되게 추가 되었음"
      ],
      "metadata": {
        "colab": {
          "base_uri": "https://localhost:8080/"
        },
        "id": "yAT-n9XyzPhU",
        "outputId": "330a1107-46b0-48bd-b0f1-1e1d7fd15990"
      },
      "execution_count": null,
      "outputs": [
        {
          "output_type": "stream",
          "name": "stdout",
          "text": [
            "<re.Match object; span=(0, 3), match='a|b'>\n",
            "None\n",
            "<re.Match object; span=(0, 3), match='acb'>\n",
            "<re.Match object; span=(0, 3), match='a1b'>\n",
            "<re.Match object; span=(0, 3), match='a가b'>\n",
            "<re.Match object; span=(0, 3), match='a\\nb'>\n"
          ]
        }
      ]
    },
    {
      "cell_type": "code",
      "source": [
        "p = re.compile('a.b', re.S) # 단축키는 S\n",
        "print(p.match('a|b'))\n",
        "print(p.match('a|+b'))\n",
        "print(p.match('acb'))\n",
        "print(p.match('a1b'))\n",
        "print(p.match('a가b'))\n",
        "print(p.match('a\\nb')) # 줄바꿈도 매칭되게 추가 되었음"
      ],
      "metadata": {
        "colab": {
          "base_uri": "https://localhost:8080/"
        },
        "id": "lwT5a_8zzezX",
        "outputId": "b6734818-e425-4c52-cd74-4445f272092c"
      },
      "execution_count": null,
      "outputs": [
        {
          "output_type": "stream",
          "name": "stdout",
          "text": [
            "<re.Match object; span=(0, 3), match='a|b'>\n",
            "None\n",
            "<re.Match object; span=(0, 3), match='acb'>\n",
            "<re.Match object; span=(0, 3), match='a1b'>\n",
            "<re.Match object; span=(0, 3), match='a가b'>\n",
            "<re.Match object; span=(0, 3), match='a\\nb'>\n"
          ]
        }
      ]
    },
    {
      "cell_type": "markdown",
      "source": [
        "### 7-2. IGNORECASE, I\n",
        "- 대소문자 구분없이 매칭"
      ],
      "metadata": {
        "id": "DmarmeTsxe3z"
      }
    },
    {
      "cell_type": "code",
      "source": [
        "p = re.compile('[a-z]')\n",
        "print(p.match('python'))\n",
        "print(p.match('Python'))"
      ],
      "metadata": {
        "colab": {
          "base_uri": "https://localhost:8080/"
        },
        "id": "BjxjTC6BxmzV",
        "outputId": "8a1f09fa-5a8d-461c-bc71-5fac544c9428"
      },
      "execution_count": null,
      "outputs": [
        {
          "output_type": "stream",
          "name": "stdout",
          "text": [
            "<re.Match object; span=(0, 1), match='p'>\n",
            "None\n"
          ]
        }
      ]
    },
    {
      "cell_type": "code",
      "source": [
        "p = re.compile('[a-z]', re.IGNORECASE) # 대소문자 무시\n",
        "print(p.match('python'))\n",
        "print(p.match('Python')) # 대소문자 무시하는 옵션이 나와서 매칭됨"
      ],
      "metadata": {
        "colab": {
          "base_uri": "https://localhost:8080/"
        },
        "id": "g3aJrc1zz1yu",
        "outputId": "7e33e4c6-ef01-4b44-c166-c1b4d251cb99"
      },
      "execution_count": null,
      "outputs": [
        {
          "output_type": "stream",
          "name": "stdout",
          "text": [
            "<re.Match object; span=(0, 1), match='p'>\n",
            "<re.Match object; span=(0, 1), match='P'>\n"
          ]
        }
      ]
    },
    {
      "cell_type": "markdown",
      "source": [
        "### 7-3. MULTILINE, M\n",
        "\n",
        "- 여러 문장을 탐색하면서 매칭"
      ],
      "metadata": {
        "id": "L7NwrLQ5xoO_"
      }
    },
    {
      "cell_type": "code",
      "source": [
        "text = '''\n",
        "3경기 연속골을 터트린 조규성이 미트윌란의 역사를 새롭게 쓰고 있다.\n",
        "\n",
        "미트윌란은 6일 오후 11시(한국시간) 덴마크 륑뷔에 위치한 륑뷔 스타디움에서 열린 2023-24시즌 덴마크 수페르리가 3라운드에서 륑뷔에 1-4로 패배했다. 이로써 미트윌란은 2승 1패(승점 6)로 4위에 위치했다.\n",
        "\n",
        "조규성은 교체 명단에 이름을 올렸다. 미트윌란은 지난 4일 니더컴과의 유럽축구연맹(UEFA) 유로파 컨퍼런스리그(UECL) 예선 2라운드 2차전 맞대결에서 120분간의 혈투 끝에 합산 스코어 3-2로 승리했다. 조규성은 120분 풀타임을 활약하며 팀의 3라운드 진출에 일조했다.\n",
        "\n",
        "3일 만에 펼쳐진 리그 경기다 보니 부분 로테이션을 가동했다. 그중 조규성도 체력 안배 차원에서 선발이 아닌 교체로 경기를 시작했다.\n",
        "\n",
        "경기 시작부터 악재가 발생했다. 전반 4분 가르텐만이 위협적인 태클을 가해 반칙이 선언됐다. 주심은 곧바로 온 필드 리뷰를 확인했고, 다이렉트 퇴장을 선언했다. 분위기를 내준 미트윌란은 선제골까지 허용했다. 전반 16분 페널티킥(PK)을 허용했고, 귀트케르에게 실점을 허용했다.\n",
        "\n",
        "계속해서 무너졌다. 전반 26분 두 번째 실점을 내주며 전반을 0-2로 마감했다. 후반에도 반등의 기회를 만들지 못했다. 결국 후반 13분과 후반 37분 연달아 실점을 내주며 0-4의 스코어가 됐다. 조규성이 투입되도 경기를 뒤집긴 어려웠다. 후반 36분 투입된 조규성은 팀의 최전방에 배치되며 만회골을 노렸다.\n",
        "'''"
      ],
      "metadata": {
        "id": "r54Y3cbWxrao"
      },
      "execution_count": null,
      "outputs": []
    },
    {
      "cell_type": "code",
      "source": [
        "text"
      ],
      "metadata": {
        "colab": {
          "base_uri": "https://localhost:8080/",
          "height": 128
        },
        "id": "cnj9yLXdF0Mv",
        "outputId": "edb8a90d-29ae-4645-e120-e31492105deb"
      },
      "execution_count": null,
      "outputs": [
        {
          "output_type": "execute_result",
          "data": {
            "text/plain": [
              "'\\n3경기 연속골을 터트린 조규성이 미트윌란의 역사를 새롭게 쓰고 있다.\\n\\n미트윌란은 6일 오후 11시(한국시간) 덴마크 륑뷔에 위치한 륑뷔 스타디움에서 열린 2023-24시즌 덴마크 수페르리가 3라운드에서 륑뷔에 1-4로 패배했다. 이로써 미트윌란은 2승 1패(승점 6)로 4위에 위치했다.\\n\\n조규성은 교체 명단에 이름을 올렸다. 미트윌란은 지난 4일 니더컴과의 유럽축구연맹(UEFA) 유로파 컨퍼런스리그(UECL) 예선 2라운드 2차전 맞대결에서 120분간의 혈투 끝에 합산 스코어 3-2로 승리했다. 조규성은 120분 풀타임을 활약하며 팀의 3라운드 진출에 일조했다.\\n\\n3일 만에 펼쳐진 리그 경기다 보니 부분 로테이션을 가동했다. 그중 조규성도 체력 안배 차원에서 선발이 아닌 교체로 경기를 시작했다.\\n\\n경기 시작부터 악재가 발생했다. 전반 4분 가르텐만이 위협적인 태클을 가해 반칙이 선언됐다. 주심은 곧바로 온 필드 리뷰를 확인했고, 다이렉트 퇴장을 선언했다. 분위기를 내준 미트윌란은 선제골까지 허용했다. 전반 16분 페널티킥(PK)을 허용했고, 귀트케르에게 실점을 허용했다.\\n\\n계속해서 무너졌다. 전반 26분 두 번째 실점을 내주며 전반을 0-2로 마감했다. 후반에도 반등의 기회를 만들지 못했다. 결국 후반 13분과 후반 37분 연달아 실점을 내주며 0-4의 스코어가 됐다. 조규성이 투입되도 경기를 뒤집긴 어려웠다. 후반 36분 투입된 조규성은 팀의 최전방에 배치되며 만회골을 노렸다.\\n'"
            ],
            "application/vnd.google.colaboratory.intrinsic+json": {
              "type": "string"
            }
          },
          "metadata": {},
          "execution_count": 119
        }
      ]
    },
    {
      "cell_type": "code",
      "source": [
        "p = re.compile('조규성\\w*', re.MULTILINE)\n",
        "p.findall(text)"
      ],
      "metadata": {
        "colab": {
          "base_uri": "https://localhost:8080/"
        },
        "id": "Ml4YQdu0GCBq",
        "outputId": "31a6e293-066a-4a03-82b4-87c31b06ae1f"
      },
      "execution_count": null,
      "outputs": [
        {
          "output_type": "execute_result",
          "data": {
            "text/plain": [
              "['조규성이', '조규성은', '조규성은', '조규성도', '조규성이', '조규성은']"
            ]
          },
          "metadata": {},
          "execution_count": 120
        }
      ]
    },
    {
      "cell_type": "markdown",
      "source": [
        "### 7-4. VERBOSE, X\n",
        "- 정규식이 복잡하면, 설명이 필요\n",
        "    - 정규식의 의미가 변경되지 않고 구조와 설명을 기술할 수 있는 옵션"
      ],
      "metadata": {
        "id": "am7-_mcAx1zK"
      }
    },
    {
      "cell_type": "code",
      "source": [
        " # 8진수, 10진수, 16진수 모두 올 수 있는 첫번째 그룹\n",
        "p = re.compile('(0[0-7]+|[0-9]+|x[0-9a-fA-F]+)')"
      ],
      "metadata": {
        "id": "hCmc6Chfx4ps"
      },
      "execution_count": null,
      "outputs": []
    },
    {
      "cell_type": "code",
      "source": [
        "p = re.compile(r'''\n",
        "(           # 그룹핑 시작\n",
        "    0[0-7]+ # 8진수\n",
        "    |       # OR\n",
        "    [0-9]+  # 10진수\n",
        "    |       # or\n",
        "    x[0-9a-fA-F]+ # 16진수\n",
        ")           # 1번 그룹핑 끝\n",
        "''', re.X)"
      ],
      "metadata": {
        "id": "4ev5AQhJ01nf"
      },
      "execution_count": null,
      "outputs": []
    },
    {
      "cell_type": "markdown",
      "source": [
        "# 8. 전방탐색\n",
        "\n",
        "- positive (긍정)\n",
        "    - 긍정형 전방탐색 (?)\n",
        "- negative (부정)\n",
        "    - 부정형 전방탐색 (?!...)"
      ],
      "metadata": {
        "id": "106wb3dSGgMp"
      }
    },
    {
      "cell_type": "markdown",
      "source": [
        "### 8-1. 긍정형"
      ],
      "metadata": {
        "id": "ILSJvwCDJp2G"
      }
    },
    {
      "cell_type": "code",
      "source": [
        "'''\n",
        "    http, https 프로토콜 이해\n",
        "    http://ID:PW@DOMAIN:PORT/PATH ~\n",
        "    http://DOMAIN/PATH ~\n",
        "    프로토콜명://아이디:비번@도메인(ip):포트(1~65535)/...\n",
        "    ex) https://www.naver.com\n",
        "    => 주어진 문자열은 프로토콜 문자열이다. 프로토콜명을 추출하시오 => https\n",
        "\n",
        "    https, http, ftp ... => OSI 7 layer\n",
        "'''\n",
        "text = 'https://www.naver.com'\n",
        "# .을 현재 요구사항을 디테일하게 잡으면 조정 가능하다.\n",
        "p = re.compile('.+:')\n",
        "res = p.search(text)\n",
        "if res:\n",
        "    print(res.group())\n",
        "    # 이 작업 이후로 전처리 1회가 필요\n",
        "    print(res.group()[:-1]) # https만 뽑아야함"
      ],
      "metadata": {
        "colab": {
          "base_uri": "https://localhost:8080/"
        },
        "id": "CRQ-5qaq1Qte",
        "outputId": "e7a15546-b08f-4c73-8939-82e013028014"
      },
      "execution_count": null,
      "outputs": [
        {
          "output_type": "stream",
          "name": "stdout",
          "text": [
            "https:\n",
            "https\n"
          ]
        }
      ]
    },
    {
      "cell_type": "code",
      "source": [
        "p = re.compile('.+(?=:)')\n",
        "res = p.search(text)\n",
        "if res:\n",
        "    print(res.group())"
      ],
      "metadata": {
        "colab": {
          "base_uri": "https://localhost:8080/"
        },
        "id": "Q1fRxwZUI4NK",
        "outputId": "2c7e2261-90ac-455c-adde-490084dd45c3"
      },
      "execution_count": null,
      "outputs": [
        {
          "output_type": "stream",
          "name": "stdout",
          "text": [
            "https\n"
          ]
        }
      ]
    },
    {
      "cell_type": "markdown",
      "source": [
        "### 8-2. 부정형"
      ],
      "metadata": {
        "id": "8g7S9Kc5JdTW"
      }
    },
    {
      "cell_type": "code",
      "source": [
        "# 주어진 파일 목록에서 확장자가 *.py, *.msi로 끝나는 파일은 제외한다.\n",
        "p = re.compile('.*[.](?!py$|msi$).*$')\n",
        "p.search('a.hwp').group()"
      ],
      "metadata": {
        "colab": {
          "base_uri": "https://localhost:8080/",
          "height": 36
        },
        "id": "U4w1WpfGJZFa",
        "outputId": "8ff73093-ee90-4f30-eda1-2fed950d8cda"
      },
      "execution_count": null,
      "outputs": [
        {
          "output_type": "execute_result",
          "data": {
            "text/plain": [
              "'a.hwp'"
            ],
            "application/vnd.google.colaboratory.intrinsic+json": {
              "type": "string"
            }
          },
          "metadata": {},
          "execution_count": 130
        }
      ]
    },
    {
      "cell_type": "code",
      "source": [
        "print(p.search('a.py'))\n",
        "print(p.search('a.msi'))"
      ],
      "metadata": {
        "colab": {
          "base_uri": "https://localhost:8080/"
        },
        "id": "9_Nsg8RsKrp_",
        "outputId": "7b2f7fb3-e118-46bd-e08c-63e02f05c0a8"
      },
      "execution_count": null,
      "outputs": [
        {
          "output_type": "stream",
          "name": "stdout",
          "text": [
            "None\n",
            "None\n"
          ]
        }
      ]
    },
    {
      "cell_type": "code",
      "source": [
        "print(p.search('a.py2'))\n",
        "print(p.search('a.msi2'))"
      ],
      "metadata": {
        "colab": {
          "base_uri": "https://localhost:8080/"
        },
        "id": "l7lxIQ7VK9_J",
        "outputId": "21ab70ff-eadc-480e-b27a-1bf3bce2006b"
      },
      "execution_count": null,
      "outputs": [
        {
          "output_type": "stream",
          "name": "stdout",
          "text": [
            "<re.Match object; span=(0, 5), match='a.py2'>\n",
            "<re.Match object; span=(0, 6), match='a.msi2'>\n"
          ]
        }
      ]
    },
    {
      "cell_type": "markdown",
      "source": [
        "# 9. 기타\n",
        "\n",
        "- xxxxxx-xxxxxxx => xxxxxx-x******\n"
      ],
      "metadata": {
        "id": "aO7PFyIDLOS_"
      }
    },
    {
      "cell_type": "code",
      "source": [
        "# 주민번호 의미는 배제\n",
        "# {2,3} => 2~3, {7,7} => {7}로 표현한다면\n",
        "p = re.compile('(\\d{6})[-](\\d{7,7})')"
      ],
      "metadata": {
        "id": "3aXBsrlOLQBX"
      },
      "execution_count": null,
      "outputs": []
    },
    {
      "cell_type": "code",
      "source": [
        "data = '''\n",
        "    A 940101-1234567\n",
        "    B 990101-1234567\n",
        "'''"
      ],
      "metadata": {
        "id": "xPoIt2Z_MMFW"
      },
      "execution_count": null,
      "outputs": []
    },
    {
      "cell_type": "code",
      "source": [
        "# \\g<1> : 1번 그룹 참조\n",
        "print(p.sub('\\g<1>-*******', data))"
      ],
      "metadata": {
        "colab": {
          "base_uri": "https://localhost:8080/"
        },
        "id": "_563Mz3sMaBl",
        "outputId": "8eb30df2-d09c-469f-d247-12e284d8e482"
      },
      "execution_count": null,
      "outputs": [
        {
          "output_type": "stream",
          "name": "stdout",
          "text": [
            "\n",
            "    A 940101-*******\n",
            "    B 990101-*******\n",
            "\n"
          ]
        }
      ]
    },
    {
      "cell_type": "code",
      "source": [
        "# A 940101-1******\n",
        "p = re.compile('(\\d{5})[-](\\d{1})(\\d{6})')\n",
        "print(p.sub('\\g<1>-\\g<2>******', data))"
      ],
      "metadata": {
        "colab": {
          "base_uri": "https://localhost:8080/"
        },
        "id": "BbuDOyHKMzjs",
        "outputId": "a76a4614-58bd-4cad-ed70-5ea6b1619611"
      },
      "execution_count": null,
      "outputs": [
        {
          "output_type": "stream",
          "name": "stdout",
          "text": [
            "\n",
            "    A 940101-1******\n",
            "    B 990101-1******\n",
            "\n"
          ]
        }
      ]
    }
  ]
}