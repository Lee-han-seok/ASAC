{
  "nbformat": 4,
  "nbformat_minor": 0,
  "metadata": {
    "colab": {
      "provenance": [],
      "toc_visible": true
    },
    "kernelspec": {
      "name": "python3",
      "display_name": "Python 3"
    },
    "language_info": {
      "name": "python"
    }
  },
  "cells": [
    {
      "cell_type": "markdown",
      "source": [
        "# 1. Class"
      ],
      "metadata": {
        "id": "OSzAfYZT-z8i"
      }
    },
    {
      "cell_type": "markdown",
      "source": [
        "- 개념\n",
        "    - C++, JAVA에서 시작\n",
        "    - Entity(엔티티) -> 표현하고자 하는 대상이라고 이해해보자\n",
        "        - 개체, 이 세상에 존재하는 모든 유형, 무형(개념, 이론...)을 대변한다\n",
        "        - class로 묘사할 수 있는 대상\n",
        "    - 이런 엔티티를 프로그램 세상에서 표현하기 위해서 도구, 방식, 문법, 절차, 룰 필요 -> 이런 룰을 정의한것이 바로 class이다."
      ],
      "metadata": {
        "id": "crNKxBGs_Hrk"
      }
    },
    {
      "cell_type": "markdown",
      "source": [
        "# 2. object : 객체"
      ],
      "metadata": {
        "id": "5NnNlxRQ_4fC"
      }
    },
    {
      "cell_type": "markdown",
      "source": [
        "- 전제 : Python 언어에서 class 문법에 따라 엔티티를 묘사했다. (작성했다)\n",
        "- 이렇게 작성된 class가 실행되기 위해서는 생성이라는 행위를 수행해야한다.\n",
        "    - 일반적인 객체 지향언어 -> new class이름()\n",
        "    - 파이썬 -> class이름()\n",
        "- 메모리상에 class의 모습을 본딴 형태로 하나의 인스턴스가 만들어진다.\n",
        "    - 클레스의 인스턴스가 객체라고 부른다\n",
        "    - 객체는 반드시 주소를 가진다.\n",
        "    - 객체는 여러개 만들 수 있다. (같은 모습을 본딴 형태로)\n",
        "        - obj = Man()\n",
        "        - obj를 객체라고 부른다(Man의 인스턴스를 가르킨다)"
      ],
      "metadata": {
        "id": "0grF968A_7Pa"
      }
    },
    {
      "cell_type": "markdown",
      "source": [
        "# 3. class의 문법"
      ],
      "metadata": {
        "id": "MCU0elezA9Hq"
      }
    },
    {
      "cell_type": "markdown",
      "source": [
        "- 클래스명은 통상적 첫글자 대문자, 이어지는 글자 소문자\n",
        "- 클래스내에서 자기 자신을 가리키는 키워드\n",
        "    - self : 파이썬, objective-C, ...\n",
        "        - 멤버 함수의 1번 인자로 통상 사용\n",
        "        - 타 맴버를 클레스 내부에서 엑세스할 때 self.xx와 같이 접근\n",
        "    - this : 대부분의 언어\n"
      ],
      "metadata": {
        "id": "W6HDJ5GkBAti"
      }
    },
    {
      "cell_type": "markdown",
      "source": [
        "\n",
        "\n",
        "```\n",
        "class 클래스명[ ( [부모클레스] ) ]: # 클레스 선언문\n",
        "    # 생성자 함수 -> 생략 가능함\n",
        "    def __init__(self, [인자]):\n",
        "        # 인스턴스 변수를 통상적으로 초기화한다\n",
        "        # 인스턴스 변수를 사용하기 전에만 초기화 하면된다.\n",
        "    # 클레스 변수\n",
        "        # 생성자 혹은 맴버함수들과 같은 레벨(위치)에서 정의됨\n",
        "        # 사용법 => 클레스.변수\n",
        "    # 맴버함수\n",
        "    def 함수명(self, [인자]):\n",
        "        # 구현내용\n",
        "    # 모든 클레스의 수퍼클래스로부터 상속받은 함수들\n",
        "        # 클래스라면 무조건 가지고 있는 함수들\n",
        "        # __xx__라는 이름을 가진다\n",
        "```\n",
        "\n"
      ],
      "metadata": {
        "id": "4xhzv9FjEKVS"
      }
    },
    {
      "cell_type": "markdown",
      "source": [
        "# 4. 클래스 구현   "
      ],
      "metadata": {
        "id": "5zH9u8EIGdf6"
      }
    },
    {
      "cell_type": "markdown",
      "source": [
        "### 4-1. 생성"
      ],
      "metadata": {
        "id": "F1LebaMLICOJ"
      }
    },
    {
      "cell_type": "code",
      "source": [
        "# 클래스 정의\n",
        "# 요구사항 : person이라는 class를 만드시오\n",
        "\n",
        "class Person: pass\n",
        "\n",
        "# 생성 => 클래스명()\n",
        "p = Person()\n",
        "id(p) # id값 출력\n",
        "p1 = Person()\n",
        "# 클레스는 객체는 여러번 생성할 수 있다.\n",
        "id(p), id(p1)"
      ],
      "metadata": {
        "colab": {
          "base_uri": "https://localhost:8080/"
        },
        "id": "Ka2PqJIx-05K",
        "outputId": "ef5d9f67-2879-4a05-b2b3-9acd22ba4880"
      },
      "execution_count": null,
      "outputs": [
        {
          "output_type": "execute_result",
          "data": {
            "text/plain": [
              "(136113082756368, 136113082750080)"
            ]
          },
          "metadata": {},
          "execution_count": 4
        }
      ]
    },
    {
      "cell_type": "markdown",
      "source": [
        "### 4-2. 해제\n",
        "\n",
        "- 메모리상에서 제거\n",
        "    - 파이썬은 참조카운터를 줄인다."
      ],
      "metadata": {
        "id": "wgJvh_6AIJA8"
      }
    },
    {
      "cell_type": "code",
      "source": [
        "del p\n",
        "del p1"
      ],
      "metadata": {
        "id": "SSLmhVns-07p"
      },
      "execution_count": null,
      "outputs": []
    },
    {
      "cell_type": "markdown",
      "source": [
        "### 4-3. 기본 구성원을 늘려서 생성"
      ],
      "metadata": {
        "id": "p7hs-wMdIpeI"
      }
    },
    {
      "cell_type": "code",
      "source": [
        "# 요구사항\n",
        "# Person 클레스를 구성하시오\n",
        "# Person은 age, name을 데이터를 가진다 -> 데이터 -> 변수(인스턴스 혹은 클레스 변수) or 맴버변수(통상)\n",
        "# Person은 eat(밥을 먹는다), wear(옷을 입는다), run(달린다)등 행동을 할수 있다 -> 행동 -> (맴버)함수\n",
        "class Person:\n",
        "    '''\n",
        "        Person 클레스\n",
        "    '''\n",
        "    # 클레스 변수\n",
        "    age = 10\n",
        "    # 생성자 => 주로 맴버 변수들(주로 인스턴 변수들)을 초기화 한다(생성시 전달해주는 외부 데이터로 )\n",
        "    # 생성자를 재정의 했다\n",
        "    def __init__(self, name):\n",
        "        # 외부에서 데이터를 전달받아서 맴버 변수 name을 할당하여 값을 초기화 한다\n",
        "        # 인스턴스 변수 초기화가 1순위 (배치상)\n",
        "        self.name = name\n",
        "        #self.eat()\n",
        "\n",
        "    # 맴버 함수\n",
        "    def eat(self):\n",
        "        print( f'{self.name}는 주식을 밥을 먹는다')\n",
        "    def wear(self):\n",
        "        print( f'{self.name}는 옷을 입는다')\n",
        "    def run(self):\n",
        "        print( f'{self.name}는 달린다')\n",
        "\n",
        "    pass\n",
        "\n",
        "p = Person( '공덕' )"
      ],
      "metadata": {
        "id": "gxUWywZh-0-R"
      },
      "execution_count": null,
      "outputs": []
    },
    {
      "cell_type": "code",
      "source": [
        "# p객체의 age값, name값을 출력하시오\n",
        "# age, name은 person의 맴버 이고, 접근법 => 객체명.멤버\n",
        "# 클래스 변수는 객체 생성 없이도 접근 가능 => 정적변수로 관리해도 무방함\n",
        "p.name, p.age, Person.age"
      ],
      "metadata": {
        "colab": {
          "base_uri": "https://localhost:8080/"
        },
        "id": "Mno49Qtj-1AZ",
        "outputId": "67c040f1-1b2b-4010-bfff-e9e60d7f1f79"
      },
      "execution_count": null,
      "outputs": [
        {
          "output_type": "execute_result",
          "data": {
            "text/plain": [
              "('공덕', 10, 10)"
            ]
          },
          "metadata": {},
          "execution_count": 17
        }
      ]
    },
    {
      "cell_type": "code",
      "source": [
        "p.eat()\n",
        "p.wear()\n",
        "p.run()"
      ],
      "metadata": {
        "colab": {
          "base_uri": "https://localhost:8080/"
        },
        "id": "6IoAH4Sg-1Ct",
        "outputId": "02a8344b-f28f-4f8d-902f-0a108a505be3"
      },
      "execution_count": null,
      "outputs": [
        {
          "output_type": "stream",
          "name": "stdout",
          "text": [
            "공덕는 주식을 밥을 먹는다\n",
            "공덕는 옷을 입는다\n",
            "공덕는 달린다\n"
          ]
        }
      ]
    },
    {
      "cell_type": "code",
      "source": [
        "# 클래스 변수를 인스턴스 변수 방식으로 접근한것\n",
        "# 클래스형 변수는 인스턴스 변수처럼 사용하는것을 비추(사용하지 않는다!)\n",
        "print(p.age)\n",
        "p.age = 20 # 클래스형 변수를 인스턴스 방식으로 접근하면 다른 주소로 사용된다.\n",
        "p.age, Person.age, id(p.age), id(Person.age)"
      ],
      "metadata": {
        "colab": {
          "base_uri": "https://localhost:8080/"
        },
        "id": "iwMWvVMe-1FK",
        "outputId": "f682798a-cdca-482d-b395-35cb23e3e3e8"
      },
      "execution_count": null,
      "outputs": [
        {
          "output_type": "stream",
          "name": "stdout",
          "text": [
            "10\n"
          ]
        },
        {
          "output_type": "execute_result",
          "data": {
            "text/plain": [
              "(20, 10, 136113643438928, 136113643438608)"
            ]
          },
          "metadata": {},
          "execution_count": 19
        }
      ]
    },
    {
      "cell_type": "markdown",
      "source": [
        "### 4-4. 상속\n",
        "\n",
        "- 객체 지향적 프로그래밍(OOP)\n",
        "    - 특징중에 하나\n",
        "    - 특정 클래스의 자식을 구현, 부모의 유산을 모두 그대로 사용가능, 추가, 업그레이드 가능(over riding)\n",
        "        - 부모 클레스 => 자식 클레스\n",
        "            - 상속\n",
        "            - 부모 클레스 has a 자식 클레스\n",
        "        - 자식 클레스 => 부모 클레스\n",
        "            - 추상화\n",
        "            - 자식 클레스 is a 부모 클레스\n"
      ],
      "metadata": {
        "id": "-zvFc-ASSb-4"
      }
    },
    {
      "cell_type": "code",
      "source": [
        "# Person 클레스를 업그레이드 해서XMan 클레스로 정의해보자.\n",
        "class XMan(Person):\n",
        "    pass\n",
        "\n",
        "x = XMan('울버린')\n",
        "x.name, x.eat()\n"
      ],
      "metadata": {
        "colab": {
          "base_uri": "https://localhost:8080/"
        },
        "id": "NGIXCBmx-1HR",
        "outputId": "7e170f53-fc31-4a2e-fbee-4d8c9f3d1a67"
      },
      "execution_count": null,
      "outputs": [
        {
          "output_type": "stream",
          "name": "stdout",
          "text": [
            "울버린는 주식을 밥을 먹는다\n"
          ]
        },
        {
          "output_type": "execute_result",
          "data": {
            "text/plain": [
              "('울버린', None)"
            ]
          },
          "metadata": {},
          "execution_count": 20
        }
      ]
    },
    {
      "cell_type": "code",
      "source": [
        "# Person 클레스를 업그레이드 해서XMan 클레스로 정의해보자.\n",
        "class XMan2(Person):\n",
        "    '''\n",
        "        부모의 모든 기능을 그대로 상속받고,\n",
        "        특정 기능은 재정의(업그레이드) 하겠다.\n",
        "    '''\n",
        "    def eat(self):\n",
        "        print( f'{self.name}는 주식을 밥을 2배속으로 빠르게 먹는다')\n",
        "    def attack(self):\n",
        "        print( f'{self.name}는 갈고리 공격이 가능하다.')\n",
        "    pass\n",
        "\n",
        "x = XMan2('울버린')\n",
        "x.name, x.eat(), x.attack()"
      ],
      "metadata": {
        "colab": {
          "base_uri": "https://localhost:8080/"
        },
        "id": "K0tX-638-1Jd",
        "outputId": "baafd67e-d755-440b-a420-6b496e6fc985"
      },
      "execution_count": null,
      "outputs": [
        {
          "output_type": "stream",
          "name": "stdout",
          "text": [
            "울버린는 주식을 밥을 2배속으로 빠르게 먹는다\n",
            "울버린는 갈고리 공격이 가능하다.\n"
          ]
        },
        {
          "output_type": "execute_result",
          "data": {
            "text/plain": [
              "('울버린', None, None)"
            ]
          },
          "metadata": {},
          "execution_count": 21
        }
      ]
    },
    {
      "cell_type": "code",
      "source": [
        "# 3세대\n",
        "class XMan3(XMan2) :\n",
        "    '''\n",
        "        속성(변수) 추가 -> 레벨 추가됨\n",
        "    '''\n",
        "    def __init__(self, name:str, level:int) -> None :\n",
        "        # self.name = name <- 이 기능을 새로 만들 필요 없이 부모의 유산을 활용한다.\n",
        "        # 부모를 지칭하는 말 -> super\n",
        "        super().__init__(name)\n",
        "        # 내가 추가한 코드\n",
        "        self.level = level\n",
        "        pass\n",
        "\n",
        "x3 = XMan3('뉴울버린', 100)\n",
        "x3.level, x3.name, x3.eat(), x3.attack(), x3.run()"
      ],
      "metadata": {
        "colab": {
          "base_uri": "https://localhost:8080/"
        },
        "id": "T3EH0ZC9-1L5",
        "outputId": "3b5b9b90-fad8-4a3a-9318-710cfc8910c3"
      },
      "execution_count": null,
      "outputs": [
        {
          "output_type": "stream",
          "name": "stdout",
          "text": [
            "뉴울버린는 주식을 밥을 2배속으로 빠르게 먹는다\n",
            "뉴울버린는 갈고리 공격이 가능하다.\n",
            "뉴울버린는 달린다\n"
          ]
        },
        {
          "output_type": "execute_result",
          "data": {
            "text/plain": [
              "(100, '뉴울버린', None, None, None)"
            ]
          },
          "metadata": {},
          "execution_count": 22
        }
      ]
    },
    {
      "cell_type": "markdown",
      "source": [
        "## 4-5. class에 소속됨 함수 종류"
      ],
      "metadata": {
        "id": "ULVHh0ZXXE5S"
      }
    },
    {
      "cell_type": "markdown",
      "source": [
        "- 인스턴스 함수\n",
        "\n",
        "\n",
        "```\n",
        "        def ...\n",
        "```\n",
        "- 클레스 함수(메소드)\n",
        "    - 객체를 생성하지 않아도 사용 가능\n",
        "    - 클래스명.함수\n",
        "    - 클래스 변수 접근 OK, 인스턴스 변수는 X\n",
        "\n",
        "\n",
        "```\n",
        "        @classmethod\n",
        "        def ...\n",
        "        \n",
        "```\n",
        "\n",
        "\n",
        "- 정적 함수(메소드)\n",
        "    - 유틸리티 기능 등 통상적으로 이런 유형\n",
        "    - pure한 함수들이 포함\n",
        "    - 객체 생성 필요 없음\n",
        "\n",
        "\n",
        "\n",
        "```\n",
        "@staticmethod\n",
        "        def ...\n",
        "        \n",
        "```"
      ],
      "metadata": {
        "id": "lH5gCKCtXMXX"
      }
    },
    {
      "cell_type": "code",
      "source": [
        "'''\n",
        "     클레스 구성, 클레스함수(메소드), 정적함수(메소드) 예시\n",
        "     모든 클레스의 수퍼클레스는 Object (모든 객체지향언어의 공통점)\n",
        "     클레스명( 수퍼클레스가 생략되어 있다 ):\n",
        "     클레스명:\n",
        "'''\n",
        "class Sample_Method():\n",
        "    m = 0\n",
        "    @classmethod\n",
        "    def class_func( cls ):\n",
        "        '''\n",
        "            cls : 클레스\n",
        "            cls.m : 클레스 변수\n",
        "            명시적으로 인자값을 전달하지는 않는다 -> 함수 호출할때\n",
        "        '''\n",
        "        print('클레스 변수 엑세스 가능', cls.m)\n",
        "        pass\n",
        "\n",
        "    @staticmethod\n",
        "    def static_func():\n",
        "        '''\n",
        "            pure한(순수) 함수 스타일\n",
        "            클레스 변수, 인스턴 변수 일체 사용하지 않는다\n",
        "            함수 단독으로 특정 기능을 담당하는 함수\n",
        "        '''\n",
        "        a = 100\n",
        "        print( '정적함수 호출', a)\n",
        "        pass\n",
        "\n",
        "# 클레스 메소드 호출\n",
        "Sample_Method.class_func()\n",
        "Sample_Method.static_func()"
      ],
      "metadata": {
        "colab": {
          "base_uri": "https://localhost:8080/"
        },
        "id": "HCkp65rJoy2c",
        "outputId": "6d2179b3-a25c-456f-a237-0f0bfb088b2e"
      },
      "execution_count": null,
      "outputs": [
        {
          "output_type": "stream",
          "name": "stdout",
          "text": [
            "클레스 변수 엑세스 가능 0\n",
            "정적함수 호출 100\n"
          ]
        }
      ]
    },
    {
      "cell_type": "markdown",
      "source": [
        "#5. 객체 지향 프로그래밍 특징\n",
        "\n",
        "- 캡슐화\n",
        "    - 데이터를 은닉한다.\n",
        "    - 외부에서는 반드시 객체를 통해서만 접근 가능하다\n",
        "    - access 레벨을 부여하여 컨트롤 가능\n",
        "        - 타 언어는 4단계 레벨 존재\n",
        "        - 파이썬은 2단계 (공개(public), 비공개(private))\n",
        "            - 별도의 키워드는 없음\n",
        "            - **비공개는 __(두개의 밑줄)을 활용하여서 표현** <- 외부 접근 못하고 노출 X\n",
        "            - _(한개의 밑줄)은 개발자가 굳이 알 필요 없다라는 느낌\n",
        "\n",
        "- 상속성\n",
        "    - 부모, 자식간 상속, 위에서 설명\n",
        "- 다형성\n",
        "    - 재정의 (overfitting)\n",
        "    - 하나의 모습에서 상속을 타고 다양한 모습으로 진화할 수 있다. (변수, 함수) <- 상속을 통해서 구현 가능"
      ],
      "metadata": {
        "id": "01FiaOtsrXoT"
      }
    },
    {
      "cell_type": "code",
      "source": [
        "class Private_Test():\n",
        "    # 생성자\n",
        "    def __init__(self, _a : int):\n",
        "        self.__a = _a\n",
        "        self._b = _a\n",
        "        pass\n",
        "    # 프라이빗 함수\n",
        "    def __private_func(self):\n",
        "        print('숨겨진함수', self.__a)\n",
        "    # _ 추가한 함수\n",
        "    def _private_func(self):\n",
        "        print('함수', self._b)\n",
        "\n",
        "    # 부모로 부터 받은 함수들중 중요함수\n",
        "    # 소멸자(객체를 해제할대 호출) <-> 생성자\n",
        "    def __del__(self):\n",
        "        # 해제시 작업 사항이 존재하면 구현, 없으면 생략\n",
        "        print('객체 해제')\n",
        "    # 객체를 설명하는 함수 -> print() 사용으로 출력하는 함수\n",
        "    def __str__(self):\n",
        "        # 재정의 않하면 기본값 < 클레스명,... 객체주소 > 출력\n",
        "        # 재정의 => 맴버변수들을 출력하여 값을 확인하는 용도\n",
        "        return '< 객체 설명 기술함 >'\n",
        "    # 객체를 설명하는 함수 -> print() 사용X 그냥 값으로 출력되는 함수\n",
        "    def __repr__(self):\n",
        "        # 재정의 않하면 기본값 < 클레스명,... 객체주소 > 출력\n",
        "        # 재정의 => 맴버변수들을 출력하여 값을 확인하는 용도\n",
        "        return '< 객체 설명 기술함2 >'\n",
        "\n",
        "\n",
        "o = Private_Test(10)\n",
        "print( o )\n",
        "o"
      ],
      "metadata": {
        "colab": {
          "base_uri": "https://localhost:8080/"
        },
        "id": "3BPdSr8P-1Q1",
        "outputId": "d2455c28-7631-4796-b2fb-a746cbfe3326"
      },
      "execution_count": null,
      "outputs": [
        {
          "output_type": "stream",
          "name": "stdout",
          "text": [
            "< 객체 설명 기술함 >\n"
          ]
        },
        {
          "output_type": "execute_result",
          "data": {
            "text/plain": [
              "< 객체 설명 기술함2 >"
            ]
          },
          "metadata": {},
          "execution_count": 44
        }
      ]
    },
    {
      "cell_type": "code",
      "source": [
        "obj = Private_test(11)\n",
        "del obj"
      ],
      "metadata": {
        "id": "luE5v80zzfwf"
      },
      "execution_count": null,
      "outputs": []
    },
    {
      "cell_type": "code",
      "source": [
        "# __변수 => 숨김 처리가 되었다.\n",
        "o._b. # 에러 발생함"
      ],
      "metadata": {
        "colab": {
          "base_uri": "https://localhost:8080/",
          "height": 147
        },
        "id": "WaklSsxj-1TC",
        "outputId": "958fe42d-4392-42d4-89a9-6a4284042bc0"
      },
      "execution_count": null,
      "outputs": [
        {
          "output_type": "error",
          "ename": "SyntaxError",
          "evalue": "ignored",
          "traceback": [
            "\u001b[0;36m  File \u001b[0;32m\"<ipython-input-41-37e9d161e9b8>\"\u001b[0;36m, line \u001b[0;32m2\u001b[0m\n\u001b[0;31m    o._b. # 에러 발생함\u001b[0m\n\u001b[0m          ^\u001b[0m\n\u001b[0;31mSyntaxError\u001b[0m\u001b[0;31m:\u001b[0m invalid syntax\n"
          ]
        }
      ]
    },
    {
      "cell_type": "code",
      "source": [
        "# __함수\n",
        "o._Private_Test__private_func()"
      ],
      "metadata": {
        "colab": {
          "base_uri": "https://localhost:8080/"
        },
        "id": "OGBhu89Lvsyy",
        "outputId": "47372ae7-521c-4018-e0a6-815817c8aa96"
      },
      "execution_count": null,
      "outputs": [
        {
          "output_type": "stream",
          "name": "stdout",
          "text": [
            "함수 10\n"
          ]
        }
      ]
    },
    {
      "cell_type": "code",
      "source": [
        "# 특정 변수가 가진 모든 요소를 출력하시오 => dir()\n",
        "\n",
        "print(dir(o))\n",
        "\n",
        "# 숨겨진 요소가 다른 이름으로 변경되서 관리되고 있었다 => 네임 맹글리(mamgling) 기법\n",
        "# 타 언어에서는 컴파일시 이름을 중복되는 것을 방지하기 위해서 이름을 변경하게 된다 -> 맹글리\n",
        "o._Private_Test__a"
      ],
      "metadata": {
        "colab": {
          "base_uri": "https://localhost:8080/"
        },
        "id": "BJzF8b_W-1Vd",
        "outputId": "1491d00c-3b6f-487b-cd41-5388fd7fcbf2"
      },
      "execution_count": null,
      "outputs": [
        {
          "output_type": "stream",
          "name": "stdout",
          "text": [
            "['_Private_Test__a', '__class__', '__delattr__', '__dict__', '__dir__', '__doc__', '__eq__', '__format__', '__ge__', '__getattribute__', '__gt__', '__hash__', '__init__', '__init_subclass__', '__le__', '__lt__', '__module__', '__ne__', '__new__', '__reduce__', '__reduce_ex__', '__repr__', '__setattr__', '__sizeof__', '__str__', '__subclasshook__', '__weakref__', '_b']\n"
          ]
        },
        {
          "output_type": "execute_result",
          "data": {
            "text/plain": [
              "10"
            ]
          },
          "metadata": {},
          "execution_count": 34
        }
      ]
    }
  ]
}