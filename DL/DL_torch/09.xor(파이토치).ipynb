{
 "cells": [
  {
   "cell_type": "code",
   "execution_count": 2,
   "id": "63ee9f98-796c-487c-b049-4f413dad30f3",
   "metadata": {},
   "outputs": [],
   "source": [
    "import torch\n",
    "from torch.optim import Adam\n",
    "from torch.nn import Linear, MSELoss, Sequential, BCELoss, Sigmoid, ReLU\n",
    "import numpy as np\n",
    "import pandas as pd\n",
    "import matplotlib.pyplot as plt"
   ]
  },
  {
   "cell_type": "code",
   "execution_count": 2,
   "id": "6452fa5d-e928-455b-9f6c-af55b07d482f",
   "metadata": {},
   "outputs": [],
   "source": [
    "x_data = np.array( [[0,0],[0,1],[1,0],[1,1]])\n",
    "y_data = np.array( [[0],[1],[1],[0]])"
   ]
  },
  {
   "cell_type": "code",
   "execution_count": 3,
   "id": "028a1a3a-ec87-479d-b0cd-5743f45d36be",
   "metadata": {},
   "outputs": [],
   "source": [
    "x = torch.FloatTensor(x_data)  # 공부한 시작,출석일수\n",
    "y = torch.FloatTensor(y_data ) #합격여부"
   ]
  },
  {
   "cell_type": "code",
   "execution_count": null,
   "id": "bfa71b5f-4edb-41df-8ad5-d9abc579cd68",
   "metadata": {},
   "outputs": [],
   "source": [
    "model = Sequential()\n",
    "model.add_module( 'nn1', Linear( 2,32 )) \n",
    "model.add_module( 'relu1', ReLU())\n",
    "model.add_module( 'nn2', Linear( 32,1 )) \n",
    "model.add_module( 'sig1', Sigmoid())\n",
    "\n",
    "loss_fn = BCELoss()\n",
    "optimizer = Adam( model.parameters(), lr=0.1)\n",
    "\n",
    "for epoch in range(2000):\n",
    "    optimizer.zero_grad()\n",
    "    hx = model(x)\n",
    "    pred = (hx.detach().numpy() > 0.5) + 0\n",
    "    print(f'정확도:{(y==pred).mean()}')\n",
    "    cost = loss_fn(hx, y)\n",
    "    cost.backward()\n",
    "    optimizer.step()\n",
    "    print(f'cost:{cost.item()}')\n",
    "    print('==============')"
   ]
  },
  {
   "cell_type": "code",
   "execution_count": 7,
   "id": "28f8cd28-0cc6-4498-b662-894f9fcd0c56",
   "metadata": {},
   "outputs": [
    {
     "data": {
      "text/plain": [
       "tensor([[False],\n",
       "        [ True],\n",
       "        [ True],\n",
       "        [False]])"
      ]
     },
     "execution_count": 7,
     "metadata": {},
     "output_type": "execute_result"
    }
   ],
   "source": [
    "for epoch in range(2000):\n",
    "    optimizer.zero_grad()\n",
    "    hx = model(x)\n",
    "    pred = (hx.detach().numpy() > 0.5) + 0\n",
    "    print(f'정확도:{(y_data==pred).mean()}')\n",
    "    cost = loss_fn(hx, y)\n",
    "    cost.backward()\n",
    "    optimizer.step()\n",
    "    print(f'cost:{cost.item()}')\n",
    "    print('==============')"
   ]
  }
 ],
 "metadata": {
  "kernelspec": {
   "display_name": "Python 3 (ipykernel)",
   "language": "python",
   "name": "python3"
  },
  "language_info": {
   "codemirror_mode": {
    "name": "ipython",
    "version": 3
   },
   "file_extension": ".py",
   "mimetype": "text/x-python",
   "name": "python",
   "nbconvert_exporter": "python",
   "pygments_lexer": "ipython3",
   "version": "3.10.11"
  }
 },
 "nbformat": 4,
 "nbformat_minor": 5
}
