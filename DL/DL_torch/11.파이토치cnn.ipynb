{
 "cells": [
  {
   "cell_type": "code",
   "execution_count": 1,
   "id": "e0c048c1-eac4-43d5-892d-776cf15572fa",
   "metadata": {},
   "outputs": [],
   "source": [
    "import torch\n",
    "from torch.optim import Adam\n",
    "from torch.nn import Linear, MSELoss, Sequential, CrossEntropyLoss,Softmax\n",
    "from torch.nn import BCELoss, Sigmoid, ReLU, Module, Conv2d, MaxPool2d\n",
    "import torch.nn.functional as F\n",
    "\n",
    "import numpy as np\n",
    "import pandas as pd\n",
    "import matplotlib.pyplot as plt\n",
    "\n",
    "from tensorflow.keras.datasets.fashion_mnist import load_data\n",
    "from tensorflow.keras.utils import to_categorical"
   ]
  },
  {
   "cell_type": "code",
   "execution_count": 2,
   "id": "1c3d7f3b-1c2a-4a72-a052-52cdd98560f8",
   "metadata": {},
   "outputs": [],
   "source": [
    "(X_train, y_train), (X_test, y_test) = load_data()"
   ]
  },
  {
   "cell_type": "code",
   "execution_count": 3,
   "id": "aa196abe-0803-4d83-9b2f-d6fea11efb62",
   "metadata": {},
   "outputs": [
    {
     "data": {
      "text/plain": [
       "(60000, 28, 28)"
      ]
     },
     "execution_count": 3,
     "metadata": {},
     "output_type": "execute_result"
    }
   ],
   "source": [
    "X_train.shape"
   ]
  },
  {
   "cell_type": "code",
   "execution_count": 4,
   "id": "2c3a5786-b0c3-4def-a8ee-1f8e31052cb7",
   "metadata": {},
   "outputs": [
    {
     "name": "stderr",
     "output_type": "stream",
     "text": [
      "C:\\Users\\NT551XCJ\\AppData\\Local\\Temp\\ipykernel_9792\\3095431258.py:3: UserWarning: The given NumPy array is not writable, and PyTorch does not support non-writable tensors. This means writing to this tensor will result in undefined behavior. You may want to copy the array to protect its data or make it writable before converting it to a tensor. This type of warning will be suppressed for the rest of this program. (Triggered internally at ..\\torch\\csrc\\utils\\tensor_numpy.cpp:212.)\n",
      "  x = torch.FloatTensor(X_trainR)\n"
     ]
    }
   ],
   "source": [
    "X_trainR = X_train.reshape(-1,1,28,28)\n",
    "y_trainR = to_categorical(y_train)\n",
    "x = torch.FloatTensor(X_trainR)\n",
    "y = torch.FloatTensor(y_trainR)"
   ]
  },
  {
   "cell_type": "code",
   "execution_count": 5,
   "id": "0dbdea5c-2102-493f-bdc0-b686401bbf5e",
   "metadata": {},
   "outputs": [],
   "source": [
    "class CNN( Module ):\n",
    "    def __init__(self):\n",
    "        super().__init__()\n",
    "\n",
    "        self.conv1 = Conv2d( in_channels=1, out_channels=16, kernel_size=3, stride=1)\n",
    "        self.conv2 = Conv2d( in_channels=16, out_channels=8, kernel_size=3, stride=1)\n",
    "        self.max1 = MaxPool2d( kernel_size= 2)\n",
    "        self.nn1 = Linear( 8*8*8,32)\n",
    "        self.nn2 = Linear( 32,10)\n",
    "\n",
    "    def forward( self, x):\n",
    "        #print('연산전', x.size() ) #x.shape\n",
    "        x = F.relu(  self.conv1(x) )\n",
    "        #print('conv1 연산후', x.size() )\n",
    "        x = F.relu(  self.conv2(x) )\n",
    "        #print('conv2 연산후', x.size() )\n",
    "        x = self.max1( x )\n",
    "        #print('pool 연산후', x.size() )\n",
    "        x = x.view( -1, 8*8*8) # x.reshape(-1, ??)\n",
    "        x = F.relu( self.nn1(x) )\n",
    "        x = F.softmax( self.nn2( x ), dim = 1 )\n",
    "        return x"
   ]
  },
  {
   "cell_type": "code",
   "execution_count": 6,
   "id": "0270b047-36fd-420c-89e9-18f160488af6",
   "metadata": {},
   "outputs": [
    {
     "data": {
      "text/plain": [
       "tensor([[5.5871e-08, 8.2167e-10, 5.9750e-06,  ..., 2.6047e-13, 4.9726e-10,\n",
       "         4.1467e-02],\n",
       "        [5.2945e-09, 6.5841e-02, 6.2919e-10,  ..., 3.3745e-15, 1.7918e-07,\n",
       "         1.3265e-06],\n",
       "        [1.5466e-04, 1.5762e-04, 9.5939e-09,  ..., 1.9963e-05, 4.7728e-03,\n",
       "         6.2466e-01],\n",
       "        ...,\n",
       "        [5.7189e-03, 4.6490e-05, 4.0166e-06,  ..., 4.9972e-07, 3.1537e-07,\n",
       "         1.1719e-02],\n",
       "        [2.8393e-05, 7.0917e-04, 1.1201e-04,  ..., 2.5076e-06, 7.6052e-06,\n",
       "         3.7167e-03],\n",
       "        [4.7056e-04, 2.0619e-05, 1.9508e-05,  ..., 2.5883e-07, 1.0680e-02,\n",
       "         3.1542e-02]], grad_fn=<SoftmaxBackward0>)"
      ]
     },
     "execution_count": 6,
     "metadata": {},
     "output_type": "execute_result"
    }
   ],
   "source": [
    "cnn = CNN()\n",
    "cnn(x)"
   ]
  },
  {
   "cell_type": "code",
   "execution_count": 7,
   "id": "9054d11c-e485-45ba-9262-ccf030170a22",
   "metadata": {},
   "outputs": [],
   "source": [
    "from sklearn.metrics import accuracy_score"
   ]
  },
  {
   "cell_type": "code",
   "execution_count": null,
   "id": "5d70444b-8730-4d65-8ab6-cf5103ce6bc3",
   "metadata": {},
   "outputs": [],
   "source": [
    "model = CNN()\n",
    "loss_fn = CrossEntropyLoss()\n",
    "optimizer = Adam(model.parameters(), lr = 0.01)\n",
    "\n",
    "for step in range(10):\n",
    "    optimizer.zero_grad()\n",
    "    hx = model(x)\n",
    "    cost = loss_fn(hx, y)\n",
    "    cost.backward()\n",
    "    optimizer.step()\n",
    "    print('=========================')\n",
    "    realData = y.argmax(dim = 1).numpy()\n",
    "    pred = hx.argmax(dim = 1).numpy()\n",
    "    print('정확도 :', accuracy_score(realData, pred))\n",
    "    print('step :', step, cost.item())"
   ]
  }
 ],
 "metadata": {
  "kernelspec": {
   "display_name": "Python 3 (ipykernel)",
   "language": "python",
   "name": "python3"
  },
  "language_info": {
   "codemirror_mode": {
    "name": "ipython",
    "version": 3
   },
   "file_extension": ".py",
   "mimetype": "text/x-python",
   "name": "python",
   "nbconvert_exporter": "python",
   "pygments_lexer": "ipython3",
   "version": "3.10.11"
  }
 },
 "nbformat": 4,
 "nbformat_minor": 5
}
