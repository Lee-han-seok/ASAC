{
 "cells": [
  {
   "cell_type": "code",
   "execution_count": 4,
   "id": "0c261f30-67d4-421f-a78e-4f4fa00da9c3",
   "metadata": {},
   "outputs": [],
   "source": [
    "import torch\n",
    "from torch.optim import Adam\n",
    "from torch.nn import Linear, MSELoss, Sequential, CrossEntropyLoss,Softmax\n",
    "from torch.nn import BCELoss, Sigmoid, ReLU, Module, Conv2d, MaxPool2d\n",
    "import torch.nn.functional as F\n",
    "\n",
    "import numpy as np\n",
    "import pandas as pd\n",
    "import matplotlib.pyplot as plt\n",
    "\n",
    "from tensorflow.keras.datasets.fashion_mnist import load_data"
   ]
  },
  {
   "cell_type": "code",
   "execution_count": 10,
   "id": "06724642-91ff-4a61-9aa8-145c7412420e",
   "metadata": {},
   "outputs": [],
   "source": [
    "class CNN( Module ):\n",
    "    def __init__(self):\n",
    "        super().__init__()\n",
    "\n",
    "        self.conv1 = Conv2d( in_channels=1, out_channels=16, kernel_size=3, stride=1)\n",
    "        self.conv2 = Conv2d( in_channels=16, out_channels=8, kernel_size=3, stride=1)\n",
    "        self.max1 = MaxPool2d( kernel_size= 2)\n",
    "        self.nn1 = Linear( 8*8*8,32)\n",
    "        self.nn2 = Linear( 32,10)\n",
    "\n",
    "    def forward( self, x):\n",
    "        print('연산전', x.size() ) #x.shape\n",
    "        x = F.relu(  self.conv1(x) )\n",
    "        print('conv1 연산후', x.size() )\n",
    "        x = F.relu(  self.conv2(x) )\n",
    "        print('conv2 연산후', x.size() )\n",
    "        x = self.max1( x )\n",
    "        print('pool 연산후', x.size() )\n",
    "        x = x.view( -1, 8*8*8) # x.reshape(-1, ??)\n",
    "        x = F.relu( self.nn1(x) )\n",
    "        x = F.softmax( self.nn2( x ) )\n",
    "        return x"
   ]
  },
  {
   "cell_type": "code",
   "execution_count": 6,
   "id": "6ce133dc-b33b-469c-a1de-5880003d1800",
   "metadata": {},
   "outputs": [
    {
     "data": {
      "text/plain": [
       "torch.Size([10, 1, 20, 20])"
      ]
     },
     "execution_count": 6,
     "metadata": {},
     "output_type": "execute_result"
    }
   ],
   "source": [
    "# 이미지 갯수, color, width, height)\n",
    "rimg = torch.randn( 10, 1,20,20)\n",
    "rimg.shape"
   ]
  },
  {
   "cell_type": "code",
   "execution_count": 9,
   "id": "a09288b9-c51a-4a1b-b7f2-4cbf58a95618",
   "metadata": {},
   "outputs": [
    {
     "data": {
      "text/plain": [
       "512"
      ]
     },
     "execution_count": 9,
     "metadata": {},
     "output_type": "execute_result"
    }
   ],
   "source": [
    "8*8*8"
   ]
  },
  {
   "cell_type": "code",
   "execution_count": null,
   "id": "1e118ef3-5678-456c-b365-7c6479b6582c",
   "metadata": {},
   "outputs": [],
   "source": [
    "cnn = CNN()\n",
    "cnn( rimg )"
   ]
  }
 ],
 "metadata": {
  "kernelspec": {
   "display_name": "Python 3 (ipykernel)",
   "language": "python",
   "name": "python3"
  },
  "language_info": {
   "codemirror_mode": {
    "name": "ipython",
    "version": 3
   },
   "file_extension": ".py",
   "mimetype": "text/x-python",
   "name": "python",
   "nbconvert_exporter": "python",
   "pygments_lexer": "ipython3",
   "version": "3.10.11"
  }
 },
 "nbformat": 4,
 "nbformat_minor": 5
}
