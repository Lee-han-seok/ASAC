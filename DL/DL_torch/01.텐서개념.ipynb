{
 "cells": [
  {
   "cell_type": "code",
   "execution_count": 4,
   "id": "80088cbf-55f3-41fe-a2ce-491e86132f85",
   "metadata": {},
   "outputs": [],
   "source": [
    "import torch"
   ]
  },
  {
   "cell_type": "code",
   "execution_count": 5,
   "id": "42e43482-c8c7-411b-b463-77cd443da424",
   "metadata": {},
   "outputs": [
    {
     "data": {
      "text/plain": [
       "'2.0.1+cpu'"
      ]
     },
     "execution_count": 5,
     "metadata": {},
     "output_type": "execute_result"
    }
   ],
   "source": [
    "torch.__version__"
   ]
  },
  {
   "cell_type": "code",
   "execution_count": 7,
   "id": "1c1c5969-bcd6-4fcb-95de-d2090cabfe91",
   "metadata": {},
   "outputs": [
    {
     "data": {
      "text/plain": [
       "tensor([1., 2., 3., 4., 5.])"
      ]
     },
     "execution_count": 7,
     "metadata": {},
     "output_type": "execute_result"
    }
   ],
   "source": [
    "t1 = torch.tensor([1,2,3,4,5], dtype = torch.float32)\n",
    "t1"
   ]
  },
  {
   "cell_type": "code",
   "execution_count": 9,
   "id": "cadb9ca4-5e72-446c-9853-f886b84c54aa",
   "metadata": {},
   "outputs": [
    {
     "data": {
      "text/plain": [
       "tensor(2., requires_grad=True)"
      ]
     },
     "execution_count": 9,
     "metadata": {},
     "output_type": "execute_result"
    }
   ],
   "source": [
    "# 미분을 통해 수정되는 텐서노드\n",
    "t2 = torch.tensor(2.0, dtype = torch.float32, requires_grad = True)\n",
    "t2"
   ]
  },
  {
   "cell_type": "code",
   "execution_count": 10,
   "id": "64928110-7038-49ad-891e-0c9feee54bfd",
   "metadata": {},
   "outputs": [
    {
     "data": {
      "text/plain": [
       "tensor([1., 2., 3., 4., 5.])"
      ]
     },
     "execution_count": 10,
     "metadata": {},
     "output_type": "execute_result"
    }
   ],
   "source": [
    "t3 = torch.FloatTensor([1,2,3,4,5])\n",
    "t3"
   ]
  },
  {
   "cell_type": "code",
   "execution_count": 11,
   "id": "5097acd5-4757-461b-a1e9-eeb606e55beb",
   "metadata": {},
   "outputs": [
    {
     "data": {
      "text/plain": [
       "tensor([1, 2, 3, 4, 5], dtype=torch.int32)"
      ]
     },
     "execution_count": 11,
     "metadata": {},
     "output_type": "execute_result"
    }
   ],
   "source": [
    "t4 = torch.IntTensor([1,2,3,4,5])\n",
    "t4"
   ]
  },
  {
   "cell_type": "code",
   "execution_count": 12,
   "id": "26e65f44-2386-4c2c-85da-8668dff0db18",
   "metadata": {},
   "outputs": [
    {
     "data": {
      "text/plain": [
       "array([1, 2, 3, 4, 5])"
      ]
     },
     "execution_count": 12,
     "metadata": {},
     "output_type": "execute_result"
    }
   ],
   "source": [
    "t4.numpy()"
   ]
  },
  {
   "cell_type": "code",
   "execution_count": 13,
   "id": "f6f51e7d-720e-44af-bcec-9281bc7fb0f1",
   "metadata": {},
   "outputs": [
    {
     "data": {
      "text/plain": [
       "array([0, 0, 0, 0, 0, 0, 0, 0, 0, 0])"
      ]
     },
     "execution_count": 13,
     "metadata": {},
     "output_type": "execute_result"
    }
   ],
   "source": [
    "t5 = torch.IntTensor(10) # scalar 노드면 item()\n",
    "t5.numpy()"
   ]
  },
  {
   "cell_type": "markdown",
   "id": "f65bb0d7-3402-48b2-a04b-6d4c1389720f",
   "metadata": {},
   "source": [
    "## 연산"
   ]
  },
  {
   "cell_type": "code",
   "execution_count": 15,
   "id": "560437e6-0c3a-42ed-bb04-b94967d1823e",
   "metadata": {},
   "outputs": [
    {
     "data": {
      "text/plain": [
       "torch.Tensor"
      ]
     },
     "execution_count": 15,
     "metadata": {},
     "output_type": "execute_result"
    }
   ],
   "source": [
    "a = torch.tensor(5)\n",
    "b = torch.tensor([1,2,3])\n",
    "type(a)"
   ]
  },
  {
   "cell_type": "code",
   "execution_count": 16,
   "id": "9404c084-0391-4fe5-8ca5-02aa5bea6215",
   "metadata": {},
   "outputs": [
    {
     "data": {
      "text/plain": [
       "tensor([6, 7, 8])"
      ]
     },
     "execution_count": 16,
     "metadata": {},
     "output_type": "execute_result"
    }
   ],
   "source": [
    "c = torch.add(a,b)\n",
    "c"
   ]
  },
  {
   "cell_type": "code",
   "execution_count": 18,
   "id": "63d6fd13-97c1-45c0-8087-b749f5e6596e",
   "metadata": {},
   "outputs": [
    {
     "data": {
      "text/plain": [
       "tensor([6, 7, 8])"
      ]
     },
     "execution_count": 18,
     "metadata": {},
     "output_type": "execute_result"
    }
   ],
   "source": [
    "d = a.add(b)\n",
    "d"
   ]
  },
  {
   "cell_type": "code",
   "execution_count": 19,
   "id": "8db2c09c-25b7-4044-adb3-914cf3802a84",
   "metadata": {},
   "outputs": [
    {
     "data": {
      "text/plain": [
       "tensor([6, 7, 8])"
      ]
     },
     "execution_count": 19,
     "metadata": {},
     "output_type": "execute_result"
    }
   ],
   "source": [
    "e = a + b\n",
    "e"
   ]
  },
  {
   "cell_type": "markdown",
   "id": "1e416fc7-c50c-4d5b-8a73-e60f9eddc77f",
   "metadata": {},
   "source": [
    "## 인덱싱 슬라이싱"
   ]
  },
  {
   "cell_type": "code",
   "execution_count": 21,
   "id": "407f0863-7af9-4b2d-b098-426302e122d9",
   "metadata": {},
   "outputs": [
    {
     "data": {
      "text/plain": [
       "tensor([11, 22, 33, 44, 55])"
      ]
     },
     "execution_count": 21,
     "metadata": {},
     "output_type": "execute_result"
    }
   ],
   "source": [
    "t = torch.tensor([11,22,33,44,55])\n",
    "t"
   ]
  },
  {
   "cell_type": "code",
   "execution_count": 22,
   "id": "25601fa6-fed7-43ac-8877-bc57fb082adc",
   "metadata": {},
   "outputs": [
    {
     "data": {
      "text/plain": [
       "11"
      ]
     },
     "execution_count": 22,
     "metadata": {},
     "output_type": "execute_result"
    }
   ],
   "source": [
    "t[0].item()"
   ]
  },
  {
   "cell_type": "code",
   "execution_count": 23,
   "id": "e0a7acc7-a4fb-49e9-a765-fecc1bab3fc8",
   "metadata": {},
   "outputs": [
    {
     "data": {
      "text/plain": [
       "tensor(55)"
      ]
     },
     "execution_count": 23,
     "metadata": {},
     "output_type": "execute_result"
    }
   ],
   "source": [
    "t[-1]"
   ]
  },
  {
   "cell_type": "code",
   "execution_count": 24,
   "id": "bdf7e098-dccf-46e4-9af6-431ae58e4d8e",
   "metadata": {},
   "outputs": [
    {
     "data": {
      "text/plain": [
       "tensor([22, 33])"
      ]
     },
     "execution_count": 24,
     "metadata": {},
     "output_type": "execute_result"
    }
   ],
   "source": [
    "t[1:3]"
   ]
  },
  {
   "cell_type": "markdown",
   "id": "ad2507a0-389b-4466-91f3-2ff10fc8c646",
   "metadata": {},
   "source": [
    "## 연산함수 속성"
   ]
  },
  {
   "cell_type": "code",
   "execution_count": 26,
   "id": "63d0bdce-343a-410e-be37-ec4d04d1a704",
   "metadata": {},
   "outputs": [],
   "source": [
    "m1 = torch.FloatTensor([[1,2],[3,4]])\n",
    "m2 = torch.FloatTensor([[3],[4]])"
   ]
  },
  {
   "cell_type": "code",
   "execution_count": 27,
   "id": "bf37d1ad-94f5-4aa9-9490-f61f24b66acd",
   "metadata": {},
   "outputs": [
    {
     "data": {
      "text/plain": [
       "torch.Size([2, 2])"
      ]
     },
     "execution_count": 27,
     "metadata": {},
     "output_type": "execute_result"
    }
   ],
   "source": [
    "m1.shape"
   ]
  },
  {
   "cell_type": "code",
   "execution_count": 28,
   "id": "d5069f3b-35b0-4af0-a672-078e4c728396",
   "metadata": {},
   "outputs": [
    {
     "data": {
      "text/plain": [
       "torch.Size([2, 1])"
      ]
     },
     "execution_count": 28,
     "metadata": {},
     "output_type": "execute_result"
    }
   ],
   "source": [
    "m2.shape"
   ]
  },
  {
   "cell_type": "code",
   "execution_count": 30,
   "id": "5f7fbb43-b2c5-4568-91d2-8bf05efbd3e4",
   "metadata": {},
   "outputs": [
    {
     "data": {
      "text/plain": [
       "2"
      ]
     },
     "execution_count": 30,
     "metadata": {},
     "output_type": "execute_result"
    }
   ],
   "source": [
    "m1.dim()"
   ]
  },
  {
   "cell_type": "code",
   "execution_count": 32,
   "id": "e18aebb3-b2ab-48ca-922b-a9d4c5912023",
   "metadata": {},
   "outputs": [
    {
     "data": {
      "text/plain": [
       "tensor([[-2., -1.],\n",
       "        [-1.,  0.]])"
      ]
     },
     "execution_count": 32,
     "metadata": {},
     "output_type": "execute_result"
    }
   ],
   "source": [
    "m1.sub(m2)"
   ]
  },
  {
   "cell_type": "code",
   "execution_count": 33,
   "id": "3b85c1d9-dfc0-4cb2-a598-5204728a888a",
   "metadata": {},
   "outputs": [
    {
     "data": {
      "text/plain": [
       "tensor([[ 3.,  6.],\n",
       "        [12., 16.]])"
      ]
     },
     "execution_count": 33,
     "metadata": {},
     "output_type": "execute_result"
    }
   ],
   "source": [
    "m1.mul(m2)"
   ]
  },
  {
   "cell_type": "code",
   "execution_count": 35,
   "id": "c7dc04c4-e764-42c8-9b49-ec00a59064aa",
   "metadata": {},
   "outputs": [
    {
     "data": {
      "text/plain": [
       "tensor([[11.],\n",
       "        [25.]])"
      ]
     },
     "execution_count": 35,
     "metadata": {},
     "output_type": "execute_result"
    }
   ],
   "source": [
    "# 행렬곱\n",
    "m1.matmul(m2)"
   ]
  },
  {
   "cell_type": "markdown",
   "id": "1c859a71-1064-499f-91d8-98d2685894e1",
   "metadata": {},
   "source": [
    "## 통계함수"
   ]
  },
  {
   "cell_type": "code",
   "execution_count": 38,
   "id": "1c523b20-ec58-40bf-93fa-085bf3ca583a",
   "metadata": {},
   "outputs": [
    {
     "data": {
      "text/plain": [
       "(tensor([2., 3.]), tensor([1.5000, 3.5000]))"
      ]
     },
     "execution_count": 38,
     "metadata": {},
     "output_type": "execute_result"
    }
   ],
   "source": [
    "m1.mean(dim = 0), m1.mean(dim = 1)"
   ]
  },
  {
   "cell_type": "code",
   "execution_count": 39,
   "id": "233ecf15-7171-4437-8359-537a26d3a3c3",
   "metadata": {},
   "outputs": [
    {
     "data": {
      "text/plain": [
       "tensor(10.)"
      ]
     },
     "execution_count": 39,
     "metadata": {},
     "output_type": "execute_result"
    }
   ],
   "source": [
    "m1.sum()"
   ]
  },
  {
   "cell_type": "code",
   "execution_count": null,
   "id": "d8445389-1b0b-4614-b3de-3dbe284873b7",
   "metadata": {},
   "outputs": [],
   "source": []
  }
 ],
 "metadata": {
  "kernelspec": {
   "display_name": "Python 3 (ipykernel)",
   "language": "python",
   "name": "python3"
  },
  "language_info": {
   "codemirror_mode": {
    "name": "ipython",
    "version": 3
   },
   "file_extension": ".py",
   "mimetype": "text/x-python",
   "name": "python",
   "nbconvert_exporter": "python",
   "pygments_lexer": "ipython3",
   "version": "3.10.11"
  }
 },
 "nbformat": 4,
 "nbformat_minor": 5
}
