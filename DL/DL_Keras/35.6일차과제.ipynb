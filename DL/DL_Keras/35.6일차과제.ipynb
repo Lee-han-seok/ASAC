{
 "cells": [
  {
   "cell_type": "code",
   "execution_count": 3,
   "id": "4f315975-e664-4cd6-b093-799501791060",
   "metadata": {},
   "outputs": [],
   "source": [
    "import tensorflow as tf\n",
    "import numpy as np\n",
    "import matplotlib.pyplot as plt\n",
    "from tensorflow.keras.layers import Dense, Flatten\n",
    "from tensorflow.keras import Sequential\n",
    "from tensorflow.keras.datasets.fashion_mnist import load_data\n",
    "from tensorflow.keras.utils import to_categorical"
   ]
  },
  {
   "cell_type": "markdown",
   "id": "f92a20bf-7af4-4e11-be9c-5a8dc6b1eb93",
   "metadata": {},
   "source": [
    "# 0. Keras"
   ]
  },
  {
   "cell_type": "code",
   "execution_count": 7,
   "id": "b8a630c8-5e04-4d05-991d-2c8d64d1cea3",
   "metadata": {},
   "outputs": [
    {
     "ename": "NameError",
     "evalue": "name 'fashion_mnistData' is not defined",
     "output_type": "error",
     "traceback": [
      "\u001b[1;31m---------------------------------------------------------------------------\u001b[0m",
      "\u001b[1;31mNameError\u001b[0m                                 Traceback (most recent call last)",
      "Cell \u001b[1;32mIn[7], line 1\u001b[0m\n\u001b[1;32m----> 1\u001b[0m (X_train, y_train), (X_test, y_test) \u001b[38;5;241m=\u001b[39m \u001b[43mfashion_mnistData\u001b[49m\n",
      "\u001b[1;31mNameError\u001b[0m: name 'fashion_mnistData' is not defined"
     ]
    }
   ],
   "source": [
    "(X_train, y_train), (X_test, y_test) = fashion_mnistData"
   ]
  },
  {
   "cell_type": "code",
   "execution_count": 78,
   "id": "b95409b9-9ad5-4355-be3b-de76c5fd94cc",
   "metadata": {},
   "outputs": [
    {
     "data": {
      "image/png": "[encoded data removed]",
      "text/plain": [
       "<Figure size 640x480 with 1 Axes>"
      ]
     },
     "metadata": {},
     "output_type": "display_data"
    }
   ],
   "source": [
    "# 데이터 확인\n",
    "plt.imshow(X_train[0], cmap = 'gray')\n",
    "plt.show()"
   ]
  },
  {
   "cell_type": "code",
   "execution_count": 79,
   "id": "e56cedf1-eaa3-435e-af86-c627ecae80fc",
   "metadata": {},
   "outputs": [
    {
     "data": {
      "text/plain": [
       "((60000, 28, 28), (10000, 28, 28), (60000,), (10000,))"
      ]
     },
     "execution_count": 79,
     "metadata": {},
     "output_type": "execute_result"
    }
   ],
   "source": [
    "X_train.shape, X_test.shape, y_train.shape, y_test.shape"
   ]
  },
  {
   "cell_type": "code",
   "execution_count": 80,
   "id": "bcac8c40-beaa-4d5f-807b-c8cd4b47e6e3",
   "metadata": {},
   "outputs": [
    {
     "data": {
      "text/plain": [
       "array([[0., 0., 0., ..., 0., 0., 1.],\n",
       "       [1., 0., 0., ..., 0., 0., 0.],\n",
       "       [1., 0., 0., ..., 0., 0., 0.],\n",
       "       ...,\n",
       "       [0., 0., 0., ..., 0., 0., 0.],\n",
       "       [1., 0., 0., ..., 0., 0., 0.],\n",
       "       [0., 0., 0., ..., 0., 0., 0.]], dtype=float32)"
      ]
     },
     "execution_count": 80,
     "metadata": {},
     "output_type": "execute_result"
    }
   ],
   "source": [
    "# 학습용으로 변환\n",
    "y_train_oh = to_categorical(y_train)\n",
    "y_test_oh = to_categorical(y_test)\n",
    "y_train_oh"
   ]
  },
  {
   "cell_type": "code",
   "execution_count": 81,
   "id": "61de93a9-d0fd-401f-ada9-6dfd4c6cc6a8",
   "metadata": {},
   "outputs": [
    {
     "data": {
      "text/plain": [
       "(10000, 784)"
      ]
     },
     "execution_count": 81,
     "metadata": {},
     "output_type": "execute_result"
    }
   ],
   "source": [
    "# 학습용으로 변환\n",
    "X_train_R = X_train.reshape(-1, 28*28)\n",
    "X_test_R = X_test.reshape(-1, 28*28)\n",
    "X_test_R.shape"
   ]
  },
  {
   "cell_type": "code",
   "execution_count": 82,
   "id": "abd8075f-b3ed-45c5-85b8-2cc0238fb3b1",
   "metadata": {},
   "outputs": [
    {
     "name": "stdout",
     "output_type": "stream",
     "text": [
      "Epoch 1/20\n",
      "1875/1875 [==============================] - 4s 2ms/step - loss: 1.6348 - acc: 0.7067\n",
      "Epoch 2/20\n",
      "1875/1875 [==============================] - 4s 2ms/step - loss: 0.5882 - acc: 0.8006\n",
      "Epoch 3/20\n",
      "1875/1875 [==============================] - 4s 2ms/step - loss: 0.5215 - acc: 0.8202\n",
      "Epoch 4/20\n",
      "1875/1875 [==============================] - 4s 2ms/step - loss: 0.4922 - acc: 0.8274\n",
      "Epoch 5/20\n",
      "1875/1875 [==============================] - 4s 2ms/step - loss: 0.4647 - acc: 0.8369\n",
      "Epoch 6/20\n",
      "1875/1875 [==============================] - 4s 2ms/step - loss: 0.4466 - acc: 0.8426\n",
      "Epoch 7/20\n",
      "1875/1875 [==============================] - 4s 2ms/step - loss: 0.4319 - acc: 0.8474\n",
      "Epoch 8/20\n",
      "1875/1875 [==============================] - 4s 2ms/step - loss: 0.4207 - acc: 0.8519\n",
      "Epoch 9/20\n",
      "1875/1875 [==============================] - 4s 2ms/step - loss: 0.4147 - acc: 0.8512\n",
      "Epoch 10/20\n",
      "1875/1875 [==============================] - 4s 2ms/step - loss: 0.4039 - acc: 0.8557\n",
      "Epoch 11/20\n",
      "1875/1875 [==============================] - 4s 2ms/step - loss: 0.3973 - acc: 0.8583\n",
      "Epoch 12/20\n",
      "1875/1875 [==============================] - 4s 2ms/step - loss: 0.3875 - acc: 0.8604\n",
      "Epoch 13/20\n",
      "1875/1875 [==============================] - 4s 2ms/step - loss: 0.3813 - acc: 0.8635\n",
      "Epoch 14/20\n",
      "1875/1875 [==============================] - 4s 2ms/step - loss: 0.3799 - acc: 0.8640\n",
      "Epoch 15/20\n",
      "1875/1875 [==============================] - 4s 2ms/step - loss: 0.3703 - acc: 0.8665\n",
      "Epoch 16/20\n",
      "1875/1875 [==============================] - 4s 2ms/step - loss: 0.3667 - acc: 0.8670\n",
      "Epoch 17/20\n",
      "1875/1875 [==============================] - 4s 2ms/step - loss: 0.3615 - acc: 0.8694\n",
      "Epoch 18/20\n",
      "1875/1875 [==============================] - 4s 2ms/step - loss: 0.3607 - acc: 0.8707\n",
      "Epoch 19/20\n",
      "1875/1875 [==============================] - 4s 2ms/step - loss: 0.3566 - acc: 0.8694\n",
      "Epoch 20/20\n",
      "1875/1875 [==============================] - 4s 2ms/step - loss: 0.3627 - acc: 0.8693\n"
     ]
    },
    {
     "data": {
      "text/plain": [
       "<keras.src.callbacks.History at 0x24dd305e8f0>"
      ]
     },
     "execution_count": 82,
     "metadata": {},
     "output_type": "execute_result"
    }
   ],
   "source": [
    "# 학습\n",
    "model = Sequential()\n",
    "model.add(Dense(units = 64, input_dim = 784, activation = 'relu'))\n",
    "model.add(Dense(units = 32, input_dim = 64, activation = 'relu'))\n",
    "model.add(Dense(units = 10, input_dim = 32, activation = 'softmax'))\n",
    "model.compile(loss = 'categorical_crossentropy', optimizer = 'adam', metrics = ['acc'])\n",
    "model.fit(X_train_R, y_train_oh, epochs = 20)"
   ]
  },
  {
   "cell_type": "code",
   "execution_count": 83,
   "id": "2a8ad6a9-4ca1-4caa-a8b0-619e9f37f57c",
   "metadata": {},
   "outputs": [],
   "source": [
    "from sklearn.metrics import classification_report, accuracy_score, confusion_matrix\n",
    "import seaborn as sns"
   ]
  },
  {
   "cell_type": "code",
   "execution_count": 84,
   "id": "e8c77c3f-d5df-47b2-9696-20250563567b",
   "metadata": {},
   "outputs": [
    {
     "name": "stdout",
     "output_type": "stream",
     "text": [
      "1875/1875 [==============================] - 3s 1ms/step\n",
      "              precision    recall  f1-score   support\n",
      "\n",
      "           0  0.8074563473 0.8555000000 0.8307841709      6000\n",
      "           1  0.9870479394 0.9780000000 0.9825031394      6000\n",
      "           2  0.7513064863 0.8146666667 0.7817047817      6000\n",
      "           3  0.8374962831 0.9388333333 0.8852742417      6000\n",
      "           4  0.7882779058 0.7980000000 0.7931091602      6000\n",
      "           5  0.9939707149 0.9616666667 0.9775518848      6000\n",
      "           6  0.7648290300 0.5480000000 0.6385085931      6000\n",
      "           7  0.9389051808 0.9605000000 0.9495798319      6000\n",
      "           8  0.9628099174 0.9708333333 0.9668049793      6000\n",
      "           9  0.9526229508 0.9685000000 0.9604958678      6000\n",
      "\n",
      "    accuracy                      0.8794500000     60000\n",
      "   macro avg  0.8784722756 0.8794500000 0.8766316651     60000\n",
      "weighted avg  0.8784722756 0.8794500000 0.8766316651     60000\n",
      "\n"
     ]
    }
   ],
   "source": [
    "print(classification_report(y_train_oh.argmax(axis = 1), model.predict(X_train_R).argmax(axis = 1), digits = 10))"
   ]
  },
  {
   "cell_type": "code",
   "execution_count": 85,
   "id": "e4f8b059-279e-4cc0-bd37-3c848d5c418b",
   "metadata": {},
   "outputs": [
    {
     "name": "stdout",
     "output_type": "stream",
     "text": [
      "313/313 [==============================] - 0s 1ms/step\n"
     ]
    },
    {
     "data": {
      "text/plain": [
       "<Axes: >"
      ]
     },
     "execution_count": 85,
     "metadata": {},
     "output_type": "execute_result"
    },
    {
     "data": {
      "image/png": "[encoded data removed]",
      "text/plain": [
       "<Figure size 640x480 with 2 Axes>"
      ]
     },
     "metadata": {},
     "output_type": "display_data"
    }
   ],
   "source": [
    "sns.heatmap(confusion_matrix(y_test_oh.argmax(axis = 1), model.predict(X_test_R).argmax(axis = 1)))"
   ]
  },
  {
   "cell_type": "code",
   "execution_count": 86,
   "id": "e3ed9656-7108-47d7-b5e2-e4efc0daac9a",
   "metadata": {},
   "outputs": [
    {
     "name": "stdout",
     "output_type": "stream",
     "text": [
      "313/313 [==============================] - 0s 1ms/step\n",
      "              precision    recall  f1-score   support\n",
      "\n",
      "           0  0.7823193916 0.8230000000 0.8021442495      1000\n",
      "           1  0.9786368260 0.9620000000 0.9702471004      1000\n",
      "           2  0.7115559600 0.7820000000 0.7451167222      1000\n",
      "           3  0.7985989492 0.9120000000 0.8515406162      1000\n",
      "           4  0.7672327672 0.7680000000 0.7676161919      1000\n",
      "           5  0.9689119171 0.9350000000 0.9516539440      1000\n",
      "           6  0.7210982659 0.4990000000 0.5898345154      1000\n",
      "           7  0.9097022094 0.9470000000 0.9279764821      1000\n",
      "           8  0.9463753724 0.9530000000 0.9496761335      1000\n",
      "           9  0.9351669941 0.9520000000 0.9435084242      1000\n",
      "\n",
      "    accuracy                      0.8533000000     10000\n",
      "   macro avg  0.8519598653 0.8533000000 0.8499314379     10000\n",
      "weighted avg  0.8519598653 0.8533000000 0.8499314379     10000\n",
      "\n"
     ]
    }
   ],
   "source": [
    "print(classification_report(y_test_oh.argmax(axis = 1), model.predict(X_test_R).argmax(axis = 1), digits = 10))"
   ]
  },
  {
   "cell_type": "code",
   "execution_count": 87,
   "id": "69a3eddc-d009-4a66-bf82-c59b25149835",
   "metadata": {},
   "outputs": [
    {
     "name": "stdout",
     "output_type": "stream",
     "text": [
      "313/313 [==============================] - 0s 1ms/step\n"
     ]
    },
    {
     "data": {
      "text/plain": [
       "<Axes: >"
      ]
     },
     "execution_count": 87,
     "metadata": {},
     "output_type": "execute_result"
    },
    {
     "data": {
      "image/png": "[encoded data removed]",
      "text/plain": [
       "<Figure size 640x480 with 2 Axes>"
      ]
     },
     "metadata": {},
     "output_type": "display_data"
    }
   ],
   "source": [
    "sns.heatmap(confusion_matrix(y_test_oh.argmax(axis = 1), model.predict(X_test_R).argmax(axis = 1)))"
   ]
  },
  {
   "cell_type": "markdown",
   "id": "76e4b22d-416c-4ebf-bfb7-69ec3b4893ab",
   "metadata": {},
   "source": [
    "# 1. Pytorch ver\n",
    "- 정확도까지만!"
   ]
  },
  {
   "cell_type": "code",
   "execution_count": 88,
   "id": "90f7462d-a0bd-445f-9873-d8f7546f9d2c",
   "metadata": {},
   "outputs": [],
   "source": [
    "import torch\n",
    "from torch.optim import Adam\n",
    "from torch.nn import Linear, MSELoss, Sequential, Softmax, CrossEntropyLoss, Sigmoid , BCELoss, ReLU, Module\n",
    "import numpy as np\n",
    "import pandas as pd\n",
    "import matplotlib.pyplot as plt"
   ]
  },
  {
   "cell_type": "code",
   "execution_count": 89,
   "id": "58205015-1041-4881-bcc1-3c779ef53209",
   "metadata": {},
   "outputs": [],
   "source": [
    "class FM_Model(Module):\n",
    "    def __init__(self):\n",
    "        super().__init__()\n",
    "        self.nn1 = Linear(784,32)\n",
    "        self.relu1 = ReLU()\n",
    "        self.nn2 = Linear(32,10)\n",
    "        self.sof1 = Softmax(dim = 1)\n",
    "\n",
    "    def forward(self, x):\n",
    "        print('forward call')\n",
    "        x = self.nn1(x)\n",
    "        x = self.relu1(x)\n",
    "        x = self.nn2(x)\n",
    "        x = self.sof1(x)\n",
    "        return x"
   ]
  },
  {
   "cell_type": "code",
   "execution_count": 90,
   "id": "f76da87d-367c-49c4-98e1-8de02b842a73",
   "metadata": {},
   "outputs": [
    {
     "data": {
      "text/plain": [
       "(array([[0, 0, 0, ..., 0, 0, 0],\n",
       "        [0, 0, 0, ..., 0, 0, 0],\n",
       "        [0, 0, 0, ..., 0, 0, 0],\n",
       "        ...,\n",
       "        [0, 0, 0, ..., 0, 0, 0],\n",
       "        [0, 0, 0, ..., 0, 0, 0],\n",
       "        [0, 0, 0, ..., 0, 0, 0]], dtype=uint8),\n",
       " array([[0, 0, 0, ..., 0, 0, 0],\n",
       "        [0, 0, 0, ..., 0, 0, 0],\n",
       "        [0, 0, 0, ..., 0, 0, 0],\n",
       "        ...,\n",
       "        [0, 0, 0, ..., 0, 0, 0],\n",
       "        [0, 0, 0, ..., 0, 0, 0],\n",
       "        [0, 0, 0, ..., 0, 0, 0]], dtype=uint8),\n",
       " array([[0., 0., 0., ..., 0., 0., 1.],\n",
       "        [1., 0., 0., ..., 0., 0., 0.],\n",
       "        [1., 0., 0., ..., 0., 0., 0.],\n",
       "        ...,\n",
       "        [0., 0., 0., ..., 0., 0., 0.],\n",
       "        [1., 0., 0., ..., 0., 0., 0.],\n",
       "        [0., 0., 0., ..., 0., 0., 0.]], dtype=float32),\n",
       " array([[0., 0., 0., ..., 0., 0., 1.],\n",
       "        [0., 0., 1., ..., 0., 0., 0.],\n",
       "        [0., 1., 0., ..., 0., 0., 0.],\n",
       "        ...,\n",
       "        [0., 0., 0., ..., 0., 1., 0.],\n",
       "        [0., 1., 0., ..., 0., 0., 0.],\n",
       "        [0., 0., 0., ..., 0., 0., 0.]], dtype=float32))"
      ]
     },
     "execution_count": 90,
     "metadata": {},
     "output_type": "execute_result"
    }
   ],
   "source": [
    "X_train_R, X_test_R, y_train_oh, y_test_oh"
   ]
  },
  {
   "cell_type": "code",
   "execution_count": 91,
   "id": "0da88bd1-0239-4779-9c10-6b86ee8ccd01",
   "metadata": {},
   "outputs": [],
   "source": [
    "x = torch.FloatTensor(X_train_R)\n",
    "y = torch.FloatTensor(y_train_oh)"
   ]
  },
  {
   "cell_type": "code",
   "execution_count": 92,
   "id": "93668c76-6945-4d33-b34d-900abe16d36e",
   "metadata": {},
   "outputs": [
    {
     "name": "stdout",
     "output_type": "stream",
     "text": [
      "<generator object Module.parameters at 0x0000024DE9DB82E0>\n",
      "forward call\n",
      "정확도:0.8137033333333333\n",
      "cost:2.3888063430786133\n",
      "==============\n",
      "forward call\n",
      "정확도:0.8326733333333334\n",
      "cost:2.297683000564575\n",
      "==============\n",
      "forward call\n",
      "정확도:0.8378133333333333\n",
      "cost:2.2719664573669434\n",
      "==============\n",
      "forward call\n",
      "정확도:0.8364566666666666\n",
      "cost:2.2787628173828125\n",
      "==============\n",
      "forward call\n",
      "정확도:0.8377066666666667\n",
      "cost:2.272534132003784\n",
      "==============\n",
      "forward call\n",
      "정확도:0.83826\n",
      "cost:2.2697808742523193\n",
      "==============\n",
      "forward call\n",
      "정확도:0.8385666666666667\n",
      "cost:2.2682769298553467\n",
      "==============\n",
      "forward call\n",
      "정확도:0.8388133333333333\n",
      "cost:2.267045736312866\n",
      "==============\n",
      "forward call\n",
      "정확도:0.8389833333333333\n",
      "cost:2.2662124633789062\n",
      "==============\n",
      "forward call\n",
      "정확도:0.83908\n",
      "cost:2.265739917755127\n",
      "==============\n",
      "forward call\n",
      "정확도:0.83916\n",
      "cost:2.2653398513793945\n",
      "==============\n",
      "forward call\n",
      "정확도:0.8392\n",
      "cost:2.2651360034942627\n",
      "==============\n",
      "forward call\n",
      "정확도:0.8392066666666667\n",
      "cost:2.265109062194824\n",
      "==============\n",
      "forward call\n",
      "정확도:0.83923\n",
      "cost:2.264986038208008\n",
      "==============\n",
      "forward call\n",
      "정확도:0.8392566666666667\n",
      "cost:2.264859914779663\n",
      "==============\n",
      "forward call\n",
      "정확도:0.8392633333333334\n",
      "cost:2.2648215293884277\n",
      "==============\n",
      "forward call\n",
      "정확도:0.83926\n",
      "cost:2.2648203372955322\n",
      "==============\n",
      "forward call\n",
      "정확도:0.83928\n",
      "cost:2.2647385597229004\n",
      "==============\n",
      "forward call\n",
      "정확도:0.8392833333333334\n",
      "cost:2.2647225856781006\n",
      "==============\n",
      "forward call\n",
      "정확도:0.8393033333333333\n",
      "cost:2.2646164894104004\n",
      "==============\n",
      "forward call\n",
      "정확도:0.8392766666666667\n",
      "cost:2.2647552490234375\n",
      "==============\n",
      "forward call\n",
      "정확도:0.8392666666666667\n",
      "cost:2.2648043632507324\n",
      "==============\n",
      "forward call\n",
      "정확도:0.83927\n",
      "cost:2.2647860050201416\n",
      "==============\n",
      "forward call\n",
      "정확도:0.83927\n",
      "cost:2.2647829055786133\n",
      "==============\n",
      "forward call\n",
      "정확도:0.8392333333333334\n",
      "cost:2.2649638652801514\n",
      "==============\n",
      "forward call\n",
      "정확도:0.8392233333333333\n",
      "cost:2.2650206089019775\n",
      "==============\n",
      "forward call\n",
      "정확도:0.8392333333333334\n",
      "cost:2.264972448348999\n",
      "==============\n",
      "forward call\n",
      "정확도:0.8392566666666667\n",
      "cost:2.2648470401763916\n",
      "==============\n",
      "forward call\n",
      "정확도:0.8392933333333333\n",
      "cost:2.264671564102173\n",
      "==============\n",
      "forward call\n",
      "정확도:0.8393\n",
      "cost:2.264636754989624\n",
      "==============\n",
      "forward call\n",
      "정확도:0.83931\n",
      "cost:2.2645864486694336\n",
      "==============\n",
      "forward call\n",
      "정확도:0.8393233333333333\n",
      "cost:2.264523506164551\n",
      "==============\n",
      "forward call\n",
      "정확도:0.8393366666666666\n",
      "cost:2.2644588947296143\n",
      "==============\n",
      "forward call\n",
      "정확도:0.8393433333333333\n",
      "cost:2.264418601989746\n",
      "==============\n",
      "forward call\n",
      "정확도:0.8393466666666667\n",
      "cost:2.2644076347351074\n",
      "==============\n",
      "forward call\n",
      "정확도:0.8393466666666667\n",
      "cost:2.26440691947937\n",
      "==============\n",
      "forward call\n",
      "정확도:0.8393466666666667\n",
      "cost:2.264404773712158\n",
      "==============\n",
      "forward call\n",
      "정확도:0.8393533333333333\n",
      "cost:2.264371156692505\n",
      "==============\n",
      "forward call\n",
      "정확도:0.8393566666666666\n",
      "cost:2.264352560043335\n",
      "==============\n",
      "forward call\n",
      "정확도:0.8393533333333333\n",
      "cost:2.2643754482269287\n",
      "==============\n",
      "forward call\n",
      "정확도:0.8393566666666666\n",
      "cost:2.264359951019287\n",
      "==============\n",
      "forward call\n",
      "정확도:0.8393666666666667\n",
      "cost:2.264312267303467\n",
      "==============\n",
      "forward call\n",
      "정확도:0.8393933333333333\n",
      "cost:2.264171838760376\n",
      "==============\n",
      "forward call\n",
      "정확도:0.8393933333333333\n",
      "cost:2.2641735076904297\n",
      "==============\n",
      "forward call\n",
      "정확도:0.8394\n",
      "cost:2.264136791229248\n",
      "==============\n",
      "forward call\n",
      "정확도:0.83942\n",
      "cost:2.2640411853790283\n",
      "==============\n",
      "forward call\n",
      "정확도:0.8394266666666667\n",
      "cost:2.2640128135681152\n",
      "==============\n",
      "forward call\n",
      "정확도:0.83944\n",
      "cost:2.2639353275299072\n",
      "==============\n",
      "forward call\n",
      "정확도:0.83944\n",
      "cost:2.2639400959014893\n",
      "==============\n",
      "forward call\n",
      "정확도:0.8394466666666667\n",
      "cost:2.263906955718994\n",
      "==============\n"
     ]
    }
   ],
   "source": [
    "model = FM_Model()\n",
    "print(model.parameters())\n",
    "loss_fn = CrossEntropyLoss()\n",
    "optimizer = Adam(model.parameters(), lr = 0.01)\n",
    "\n",
    "for epoch in range(50):\n",
    "    optimizer.zero_grad()\n",
    "    hx = model(x)\n",
    "    pred = (hx.detach().numpy() > 0.5) + 0\n",
    "    print(f'정확도:{(y.detach().numpy()==pred).mean()}')\n",
    "    cost = loss_fn(hx, y)\n",
    "    cost.backward()\n",
    "    optimizer.step()\n",
    "    print(f'cost:{cost.item()}')\n",
    "    print('==============')"
   ]
  },
  {
   "cell_type": "code",
   "execution_count": 106,
   "id": "f4f55746-96b5-4e76-9389-1c7a28a06fe8",
   "metadata": {},
   "outputs": [
    {
     "name": "stdout",
     "output_type": "stream",
     "text": [
      "forward call\n",
      "정확도:0.8394566666666666\n"
     ]
    }
   ],
   "source": [
    "hx = model(x)\n",
    "pred = (hx.detach().numpy() > 0.5) + 0\n",
    "print(f'정확도:{(y.detach().numpy()==pred).mean()}')"
   ]
  }
 ],
 "metadata": {
  "kernelspec": {
   "display_name": "Python 3 (ipykernel)",
   "language": "python",
   "name": "python3"
  },
  "language_info": {
   "codemirror_mode": {
    "name": "ipython",
    "version": 3
   },
   "file_extension": ".py",
   "mimetype": "text/x-python",
   "name": "python",
   "nbconvert_exporter": "python",
   "pygments_lexer": "ipython3",
   "version": "3.10.11"
  }
 },
 "nbformat": 4,
 "nbformat_minor": 5
}
