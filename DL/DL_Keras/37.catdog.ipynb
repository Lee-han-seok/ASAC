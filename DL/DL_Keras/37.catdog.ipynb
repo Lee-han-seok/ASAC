{
 "cells": [
  {
   "cell_type": "code",
   "execution_count": 2,
   "id": "fa26ed35-a635-4123-9d8f-5697a35e6845",
   "metadata": {},
   "outputs": [],
   "source": [
    "import tensorflow as tf\n",
    "import numpy as np\n",
    "import matplotlib.pyplot as plt\n",
    "\n",
    "from tensorflow.keras.layers import Dense, Flatten, Conv2D, MaxPool2D\n",
    "from tensorflow.keras.utils import to_categorical\n",
    "from tensorflow.keras import Sequential\n",
    "from tensorflow.keras.utils import to_categorical\n",
    "from tensorflow.keras.datasets.mnist import load_data\n",
    "from tensorflow.keras.preprocessing.image import load_img, ImageDataGenerator, img_to_array\n",
    "\n",
    "from sklearn.metrics import classification_report, accuracy_score, confusion_matrix\n",
    "import seaborn as sns"
   ]
  },
  {
   "cell_type": "code",
   "execution_count": 141,
   "id": "ba922654-70bf-47ee-b37d-8e99ad917feb",
   "metadata": {},
   "outputs": [
    {
     "ename": "FileNotFoundError",
     "evalue": "[Errno 2] No such file or directory: 'data/cat/cat1.jpg'",
     "output_type": "error",
     "traceback": [
      "\u001b[1;31m---------------------------------------------------------------------------\u001b[0m",
      "\u001b[1;31mFileNotFoundError\u001b[0m                         Traceback (most recent call last)",
      "Cell \u001b[1;32mIn[141], line 1\u001b[0m\n\u001b[1;32m----> 1\u001b[0m cat \u001b[38;5;241m=\u001b[39m \u001b[43mload_img\u001b[49m\u001b[43m(\u001b[49m\u001b[38;5;124;43m'\u001b[39;49m\u001b[38;5;124;43mdata/cat/cat1.jpg\u001b[39;49m\u001b[38;5;124;43m'\u001b[39;49m\u001b[43m,\u001b[49m\u001b[43mtarget_size\u001b[49m\u001b[43m \u001b[49m\u001b[38;5;241;43m=\u001b[39;49m\u001b[43m \u001b[49m\u001b[43m(\u001b[49m\u001b[38;5;241;43m255\u001b[39;49m\u001b[43m,\u001b[49m\u001b[38;5;241;43m255\u001b[39;49m\u001b[43m)\u001b[49m\u001b[43m)\u001b[49m\n\u001b[0;32m      2\u001b[0m cat\n",
      "File \u001b[1;32m~\\AppData\\Local\\Programs\\Python\\Python310\\lib\\site-packages\\keras\\src\\utils\\image_utils.py:422\u001b[0m, in \u001b[0;36mload_img\u001b[1;34m(path, grayscale, color_mode, target_size, interpolation, keep_aspect_ratio)\u001b[0m\n\u001b[0;32m    420\u001b[0m     \u001b[38;5;28;01mif\u001b[39;00m \u001b[38;5;28misinstance\u001b[39m(path, pathlib\u001b[38;5;241m.\u001b[39mPath):\n\u001b[0;32m    421\u001b[0m         path \u001b[38;5;241m=\u001b[39m \u001b[38;5;28mstr\u001b[39m(path\u001b[38;5;241m.\u001b[39mresolve())\n\u001b[1;32m--> 422\u001b[0m     \u001b[38;5;28;01mwith\u001b[39;00m \u001b[38;5;28;43mopen\u001b[39;49m\u001b[43m(\u001b[49m\u001b[43mpath\u001b[49m\u001b[43m,\u001b[49m\u001b[43m \u001b[49m\u001b[38;5;124;43m\"\u001b[39;49m\u001b[38;5;124;43mrb\u001b[39;49m\u001b[38;5;124;43m\"\u001b[39;49m\u001b[43m)\u001b[49m \u001b[38;5;28;01mas\u001b[39;00m f:\n\u001b[0;32m    423\u001b[0m         img \u001b[38;5;241m=\u001b[39m pil_image\u001b[38;5;241m.\u001b[39mopen(io\u001b[38;5;241m.\u001b[39mBytesIO(f\u001b[38;5;241m.\u001b[39mread()))\n\u001b[0;32m    424\u001b[0m \u001b[38;5;28;01melse\u001b[39;00m:\n",
      "\u001b[1;31mFileNotFoundError\u001b[0m: [Errno 2] No such file or directory: 'data/cat/cat1.jpg'"
     ]
    }
   ],
   "source": [
    "cat = load_img('data/cat/cat1.jpg',target_size = (255,255))\n",
    "cat"
   ]
  },
  {
   "cell_type": "code",
   "execution_count": 117,
   "id": "18a2eab9-25f5-4e32-88bf-f0a2281a9a49",
   "metadata": {},
   "outputs": [
    {
     "data": {
      "text/plain": [
       "array([[[137., 124., 107.],\n",
       "        [153., 140., 123.],\n",
       "        [140., 127., 110.],\n",
       "        ...,\n",
       "        [191., 179., 155.],\n",
       "        [192., 175., 155.],\n",
       "        [190., 173., 153.]],\n",
       "\n",
       "       [[147., 134., 117.],\n",
       "        [151., 138., 121.],\n",
       "        [136., 123., 106.],\n",
       "        ...,\n",
       "        [192., 180., 156.],\n",
       "        [193., 178., 157.],\n",
       "        [190., 175., 154.]],\n",
       "\n",
       "       [[136., 123., 106.],\n",
       "        [159., 146., 129.],\n",
       "        [138., 125., 108.],\n",
       "        ...,\n",
       "        [190., 178., 154.],\n",
       "        [187., 175., 153.],\n",
       "        [185., 173., 151.]],\n",
       "\n",
       "       ...,\n",
       "\n",
       "       [[ 26.,  21.,  15.],\n",
       "        [ 27.,  23.,  14.],\n",
       "        [ 28.,  24.,  13.],\n",
       "        ...,\n",
       "        [129., 118., 100.],\n",
       "        [119., 114.,  92.],\n",
       "        [121., 116.,  94.]],\n",
       "\n",
       "       [[ 26.,  21.,  15.],\n",
       "        [ 27.,  23.,  14.],\n",
       "        [ 27.,  23.,  12.],\n",
       "        ...,\n",
       "        [128., 117.,  99.],\n",
       "        [119., 114.,  92.],\n",
       "        [120., 115.,  93.]],\n",
       "\n",
       "       [[ 25.,  20.,  14.],\n",
       "        [ 26.,  22.,  13.],\n",
       "        [ 27.,  23.,  12.],\n",
       "        ...,\n",
       "        [124., 113.,  95.],\n",
       "        [119., 114.,  92.],\n",
       "        [117., 112.,  90.]]], dtype=float32)"
      ]
     },
     "execution_count": 117,
     "metadata": {},
     "output_type": "execute_result"
    }
   ],
   "source": [
    "catArr = img_to_array(cat)\n",
    "catArr"
   ]
  },
  {
   "cell_type": "markdown",
   "id": "7a4d596b-4a0f-403a-8ecd-f3f27203964d",
   "metadata": {},
   "source": [
    "# 여러 이미지 한번에 불러오기 (ImageDataGenerator)"
   ]
  },
  {
   "cell_type": "code",
   "execution_count": 119,
   "id": "7f3710d1-abdb-4b41-9b16-3e7a6b9cf35a",
   "metadata": {},
   "outputs": [
    {
     "name": "stdout",
     "output_type": "stream",
     "text": [
      "Found 20 images belonging to 2 classes.\n"
     ]
    }
   ],
   "source": [
    "imageGen = ImageDataGenerator(rescale = 1./255)\n",
    "trainGen = imageGen.flow_from_directory('./data/image', target_size = (98,98))"
   ]
  },
  {
   "cell_type": "code",
   "execution_count": 120,
   "id": "6ad9a55a-7a30-4ed3-83ed-1aa8d9175b4d",
   "metadata": {},
   "outputs": [
    {
     "name": "stdout",
     "output_type": "stream",
     "text": [
      "<class 'keras.src.preprocessing.image.DirectoryIterator'>\n"
     ]
    }
   ],
   "source": [
    "print(type(trainGen))"
   ]
  },
  {
   "cell_type": "code",
   "execution_count": 129,
   "id": "88159442-9e0a-45ef-a9f7-f4fbfbf8fc3c",
   "metadata": {},
   "outputs": [],
   "source": [
    "X_train, y_train = trainGen.next() # 32개만 리턴"
   ]
  },
  {
   "cell_type": "code",
   "execution_count": 130,
   "id": "98d3c825-8a6d-46b9-90ce-f4a655852d02",
   "metadata": {},
   "outputs": [
    {
     "data": {
      "text/plain": [
       "array([[[[0.00784314, 0.10196079, 0.0509804 ],\n",
       "         [0.04705883, 0.05490196, 0.01176471],\n",
       "         [0.03529412, 0.12156864, 0.03137255],\n",
       "         ...,\n",
       "         [0.3921569 , 0.40000004, 0.38823533],\n",
       "         [0.43921572, 0.38823533, 0.35686275],\n",
       "         [0.07843138, 0.07843138, 0.07843138]],\n",
       "\n",
       "        [[0.01176471, 0.06666667, 0.06666667],\n",
       "         [0.03921569, 0.0627451 , 0.02352941],\n",
       "         [0.09803922, 0.227451  , 0.10588236],\n",
       "         ...,\n",
       "         [0.38823533, 0.39607847, 0.38431376],\n",
       "         [0.4431373 , 0.3921569 , 0.36078432],\n",
       "         [0.07450981, 0.07450981, 0.07450981]],\n",
       "\n",
       "        [[0.01960784, 0.03921569, 0.0509804 ],\n",
       "         [0.        , 0.02352941, 0.        ],\n",
       "         [0.01568628, 0.1254902 , 0.02745098],\n",
       "         ...,\n",
       "         [0.36862746, 0.37647063, 0.3647059 ],\n",
       "         [0.40784317, 0.35686275, 0.3254902 ],\n",
       "         [0.10196079, 0.10196079, 0.10196079]],\n",
       "\n",
       "        ...,\n",
       "\n",
       "        [[0.08627451, 0.08627451, 0.04705883],\n",
       "         [0.05490196, 0.05490196, 0.01568628],\n",
       "         [0.13333334, 0.13333334, 0.09411766],\n",
       "         ...,\n",
       "         [0.3803922 , 0.39607847, 0.30588236],\n",
       "         [0.34509805, 0.3529412 , 0.29803923],\n",
       "         [0.17254902, 0.18823531, 0.09019608]],\n",
       "\n",
       "        [[0.05882353, 0.06666667, 0.02352941],\n",
       "         [0.1764706 , 0.18431373, 0.14117648],\n",
       "         [0.16470589, 0.17254902, 0.12941177],\n",
       "         ...,\n",
       "         [0.3803922 , 0.3529412 , 0.24313727],\n",
       "         [0.30980393, 0.29411766, 0.18823531],\n",
       "         [0.18431373, 0.20000002, 0.09411766]],\n",
       "\n",
       "        [[0.03529412, 0.04313726, 0.        ],\n",
       "         [0.17254902, 0.18039216, 0.13725491],\n",
       "         [0.15294118, 0.16078432, 0.11764707],\n",
       "         ...,\n",
       "         [0.32941177, 0.30588236, 0.16470589],\n",
       "         [0.25882354, 0.24705884, 0.10980393],\n",
       "         [0.1764706 , 0.19607845, 0.07843138]]],\n",
       "\n",
       "\n",
       "       [[[0.6666667 , 0.76470596, 0.85098046],\n",
       "         [0.654902  , 0.75294125, 0.83921576],\n",
       "         [0.65882355, 0.7568628 , 0.8431373 ],\n",
       "         ...,\n",
       "         [0.2901961 , 0.40000004, 0.2509804 ],\n",
       "         [0.27058825, 0.37254903, 0.23529413],\n",
       "         [0.29411766, 0.38823533, 0.24705884]],\n",
       "\n",
       "        [[0.6627451 , 0.7607844 , 0.8470589 ],\n",
       "         [0.6627451 , 0.7607844 , 0.8470589 ],\n",
       "         [0.65882355, 0.7568628 , 0.8431373 ],\n",
       "         ...,\n",
       "         [0.227451  , 0.33333334, 0.16470589],\n",
       "         [0.27058825, 0.37647063, 0.21568629],\n",
       "         [0.25490198, 0.3529412 , 0.18823531]],\n",
       "\n",
       "        [[0.6666667 , 0.76470596, 0.85098046],\n",
       "         [0.6627451 , 0.7607844 , 0.8470589 ],\n",
       "         [0.6666667 , 0.76470596, 0.85098046],\n",
       "         ...,\n",
       "         [0.2627451 , 0.36078432, 0.20392159],\n",
       "         [0.26666668, 0.37254903, 0.20392159],\n",
       "         [0.24705884, 0.34901962, 0.17254902]],\n",
       "\n",
       "        ...,\n",
       "\n",
       "        [[0.6039216 , 0.7019608 , 0.4431373 ],\n",
       "         [0.59607846, 0.69411767, 0.43529415],\n",
       "         [0.62352943, 0.72156864, 0.46274513],\n",
       "         ...,\n",
       "         [0.13333334, 0.13333334, 0.1254902 ],\n",
       "         [0.14117648, 0.14117648, 0.13333334],\n",
       "         [0.15686275, 0.15686275, 0.14901961]],\n",
       "\n",
       "        [[0.6       , 0.69803923, 0.43921572],\n",
       "         [0.6117647 , 0.70980394, 0.4431373 ],\n",
       "         [0.53333336, 0.63529414, 0.34901962],\n",
       "         ...,\n",
       "         [0.1254902 , 0.1254902 , 0.1254902 ],\n",
       "         [0.1137255 , 0.10980393, 0.10196079],\n",
       "         [0.24313727, 0.2392157 , 0.23137257]],\n",
       "\n",
       "        [[0.54509807, 0.6431373 , 0.38823533],\n",
       "         [0.58431375, 0.68235296, 0.42352945],\n",
       "         [0.627451  , 0.7294118 , 0.45098042],\n",
       "         ...,\n",
       "         [0.10196079, 0.10196079, 0.10196079],\n",
       "         [0.17254902, 0.16862746, 0.16078432],\n",
       "         [0.16078432, 0.15686275, 0.14901961]]],\n",
       "\n",
       "\n",
       "       [[[1.        , 1.        , 1.        ],\n",
       "         [1.        , 1.        , 1.        ],\n",
       "         [1.        , 1.        , 1.        ],\n",
       "         ...,\n",
       "         [0.9960785 , 0.9960785 , 0.9960785 ],\n",
       "         [1.        , 1.        , 1.        ],\n",
       "         [1.        , 1.        , 1.        ]],\n",
       "\n",
       "        [[1.        , 1.        , 1.        ],\n",
       "         [1.        , 1.        , 1.        ],\n",
       "         [1.        , 1.        , 1.        ],\n",
       "         ...,\n",
       "         [0.9960785 , 0.9960785 , 0.9960785 ],\n",
       "         [1.        , 1.        , 1.        ],\n",
       "         [1.        , 1.        , 1.        ]],\n",
       "\n",
       "        [[1.        , 1.        , 1.        ],\n",
       "         [1.        , 1.        , 1.        ],\n",
       "         [1.        , 1.        , 1.        ],\n",
       "         ...,\n",
       "         [0.9960785 , 0.9960785 , 0.9960785 ],\n",
       "         [1.        , 1.        , 1.        ],\n",
       "         [1.        , 1.        , 1.        ]],\n",
       "\n",
       "        ...,\n",
       "\n",
       "        [[1.        , 1.        , 1.        ],\n",
       "         [1.        , 1.        , 1.        ],\n",
       "         [1.        , 1.        , 1.        ],\n",
       "         ...,\n",
       "         [1.        , 1.        , 1.        ],\n",
       "         [1.        , 1.        , 1.        ],\n",
       "         [1.        , 1.        , 1.        ]],\n",
       "\n",
       "        [[1.        , 1.        , 1.        ],\n",
       "         [1.        , 1.        , 1.        ],\n",
       "         [1.        , 1.        , 1.        ],\n",
       "         ...,\n",
       "         [1.        , 1.        , 1.        ],\n",
       "         [1.        , 1.        , 1.        ],\n",
       "         [1.        , 1.        , 1.        ]],\n",
       "\n",
       "        [[1.        , 1.        , 1.        ],\n",
       "         [1.        , 1.        , 1.        ],\n",
       "         [1.        , 1.        , 1.        ],\n",
       "         ...,\n",
       "         [1.        , 1.        , 1.        ],\n",
       "         [1.        , 1.        , 1.        ],\n",
       "         [1.        , 1.        , 1.        ]]],\n",
       "\n",
       "\n",
       "       ...,\n",
       "\n",
       "\n",
       "       [[[0.12156864, 0.12156864, 0.07450981],\n",
       "         [0.11764707, 0.11764707, 0.07058824],\n",
       "         [0.1137255 , 0.1137255 , 0.06666667],\n",
       "         ...,\n",
       "         [0.2392157 , 0.23529413, 0.0627451 ],\n",
       "         [0.3019608 , 0.3137255 , 0.09803922],\n",
       "         [0.59607846, 0.627451  , 0.33333334]],\n",
       "\n",
       "        [[0.12156864, 0.12156864, 0.07450981],\n",
       "         [0.11764707, 0.11764707, 0.07058824],\n",
       "         [0.1137255 , 0.1137255 , 0.06666667],\n",
       "         ...,\n",
       "         [0.23529413, 0.23529413, 0.03921569],\n",
       "         [0.2627451 , 0.27450982, 0.0509804 ],\n",
       "         [0.45882356, 0.48627454, 0.21176472]],\n",
       "\n",
       "        [[0.12156864, 0.12156864, 0.07450981],\n",
       "         [0.11764707, 0.11764707, 0.07058824],\n",
       "         [0.1137255 , 0.1137255 , 0.06666667],\n",
       "         ...,\n",
       "         [0.28627452, 0.2901961 , 0.05490196],\n",
       "         [0.28235295, 0.29803923, 0.06666667],\n",
       "         [0.3803922 , 0.4039216 , 0.15294118]],\n",
       "\n",
       "        ...,\n",
       "\n",
       "        [[0.38431376, 0.3254902 , 0.        ],\n",
       "         [0.3254902 , 0.26666668, 0.00392157],\n",
       "         [0.28627452, 0.21568629, 0.03529412],\n",
       "         ...,\n",
       "         [0.12156864, 0.10588236, 0.0627451 ],\n",
       "         [0.1254902 , 0.10980393, 0.06666667],\n",
       "         [0.1254902 , 0.10980393, 0.06666667]],\n",
       "\n",
       "        [[0.34901962, 0.28627452, 0.        ],\n",
       "         [0.30588236, 0.24705884, 0.        ],\n",
       "         [0.2784314 , 0.20784315, 0.02745098],\n",
       "         ...,\n",
       "         [0.10980393, 0.09411766, 0.0509804 ],\n",
       "         [0.11764707, 0.10196079, 0.05882353],\n",
       "         [0.12156864, 0.10588236, 0.0627451 ]],\n",
       "\n",
       "        [[0.34509805, 0.28235295, 0.        ],\n",
       "         [0.30588236, 0.24313727, 0.        ],\n",
       "         [0.28627452, 0.21568629, 0.02745098],\n",
       "         ...,\n",
       "         [0.10588236, 0.09019608, 0.04705883],\n",
       "         [0.10980393, 0.09411766, 0.0509804 ],\n",
       "         [0.1137255 , 0.09803922, 0.05490196]]],\n",
       "\n",
       "\n",
       "       [[[0.454902  , 0.4784314 , 0.42352945],\n",
       "         [0.40000004, 0.47058827, 0.42352945],\n",
       "         [0.47058827, 0.45882356, 0.42352945],\n",
       "         ...,\n",
       "         [0.3372549 , 0.27058825, 0.20784315],\n",
       "         [0.3647059 , 0.29803923, 0.23529413],\n",
       "         [0.3529412 , 0.2901961 , 0.19215688]],\n",
       "\n",
       "        [[0.47058827, 0.454902  , 0.41176474],\n",
       "         [0.43137258, 0.4784314 , 0.43921572],\n",
       "         [0.43921572, 0.46274513, 0.4156863 ],\n",
       "         ...,\n",
       "         [0.3647059 , 0.29803923, 0.23529413],\n",
       "         [0.36078432, 0.29411766, 0.23137257],\n",
       "         [0.32156864, 0.27058825, 0.19607845]],\n",
       "\n",
       "        [[0.48627454, 0.45882356, 0.41960788],\n",
       "         [0.4156863 , 0.41960788, 0.39607847],\n",
       "         [0.42352945, 0.43529415, 0.3921569 ],\n",
       "         ...,\n",
       "         [0.32941177, 0.2627451 , 0.20000002],\n",
       "         [0.37254903, 0.30588236, 0.24313727],\n",
       "         [0.36078432, 0.29803923, 0.23529413]],\n",
       "\n",
       "        ...,\n",
       "\n",
       "        [[0.93725497, 0.93725497, 0.9294118 ],\n",
       "         [0.9686275 , 0.9686275 , 0.9607844 ],\n",
       "         [0.9568628 , 0.9568628 , 0.9490197 ],\n",
       "         ...,\n",
       "         [0.8745099 , 0.87843144, 0.8588236 ],\n",
       "         [0.8745099 , 0.8588236 , 0.8470589 ],\n",
       "         [0.8745099 , 0.8470589 , 0.81568635]],\n",
       "\n",
       "        [[0.97647065, 0.97647065, 0.9686275 ],\n",
       "         [0.9450981 , 0.9450981 , 0.93725497],\n",
       "         [0.9333334 , 0.9333334 , 0.92549026],\n",
       "         ...,\n",
       "         [0.8941177 , 0.89019614, 0.8745099 ],\n",
       "         [0.91372555, 0.909804  , 0.8941177 ],\n",
       "         [0.93725497, 0.9333334 , 0.9176471 ]],\n",
       "\n",
       "        [[0.9450981 , 0.9450981 , 0.93725497],\n",
       "         [0.94117653, 0.94117653, 0.9333334 ],\n",
       "         [0.9607844 , 0.9607844 , 0.95294124],\n",
       "         ...,\n",
       "         [0.90196085, 0.8980393 , 0.882353  ],\n",
       "         [0.882353  , 0.87843144, 0.86274517],\n",
       "         [0.854902  , 0.85098046, 0.8352942 ]]],\n",
       "\n",
       "\n",
       "       [[[0.54901963, 0.53333336, 0.52156866],\n",
       "         [0.6156863 , 0.6039216 , 0.58431375],\n",
       "         [0.64705884, 0.6431373 , 0.627451  ],\n",
       "         ...,\n",
       "         [0.2509804 , 0.25490198, 0.13333334],\n",
       "         [0.25490198, 0.25882354, 0.13725491],\n",
       "         [0.23137257, 0.2392157 , 0.18823531]],\n",
       "\n",
       "        [[0.69803923, 0.6862745 , 0.65882355],\n",
       "         [0.62352943, 0.6117647 , 0.5764706 ],\n",
       "         [0.6392157 , 0.6392157 , 0.60784316],\n",
       "         ...,\n",
       "         [0.16862746, 0.16078432, 0.07843138],\n",
       "         [0.16078432, 0.1764706 , 0.08627451],\n",
       "         [0.14901961, 0.15686275, 0.10196079]],\n",
       "\n",
       "        [[0.70980394, 0.69803923, 0.6784314 ],\n",
       "         [0.6313726 , 0.61960787, 0.5921569 ],\n",
       "         [0.6313726 , 0.627451  , 0.60784316],\n",
       "         ...,\n",
       "         [0.18039216, 0.15294118, 0.08235294],\n",
       "         [0.16078432, 0.16470589, 0.10196079],\n",
       "         [0.1254902 , 0.13333334, 0.08235294]],\n",
       "\n",
       "        ...,\n",
       "\n",
       "        [[0.69411767, 0.69411767, 0.69411767],\n",
       "         [0.654902  , 0.654902  , 0.654902  ],\n",
       "         [0.6745098 , 0.6745098 , 0.6745098 ],\n",
       "         ...,\n",
       "         [0.6156863 , 0.6       , 0.5882353 ],\n",
       "         [0.5882353 , 0.5882353 , 0.5568628 ],\n",
       "         [0.6745098 , 0.6627451 , 0.63529414]],\n",
       "\n",
       "        [[0.72156864, 0.7176471 , 0.7019608 ],\n",
       "         [0.6745098 , 0.67058825, 0.6509804 ],\n",
       "         [0.654902  , 0.6509804 , 0.6313726 ],\n",
       "         ...,\n",
       "         [0.4901961 , 0.47058827, 0.44705886],\n",
       "         [0.5921569 , 0.5803922 , 0.5529412 ],\n",
       "         [0.46274513, 0.45098042, 0.42352945]],\n",
       "\n",
       "        [[0.61960787, 0.6156863 , 0.6       ],\n",
       "         [0.654902  , 0.6509804 , 0.63529414],\n",
       "         [0.68235296, 0.6784314 , 0.65882355],\n",
       "         ...,\n",
       "         [0.4784314 , 0.4666667 , 0.43137258],\n",
       "         [0.454902  , 0.4431373 , 0.4156863 ],\n",
       "         [0.5372549 , 0.53333336, 0.5137255 ]]]], dtype=float32)"
      ]
     },
     "execution_count": 130,
     "metadata": {},
     "output_type": "execute_result"
    }
   ],
   "source": [
    "X_train"
   ]
  },
  {
   "cell_type": "code",
   "execution_count": 123,
   "id": "aae8e48b-3463-44a8-915e-49140a977044",
   "metadata": {},
   "outputs": [
    {
     "data": {
      "text/plain": [
       "{'cat': 0, 'dog': 1}"
      ]
     },
     "execution_count": 123,
     "metadata": {},
     "output_type": "execute_result"
    }
   ],
   "source": [
    "trainGen.class_indices # 라벨 확인"
   ]
  },
  {
   "cell_type": "code",
   "execution_count": 124,
   "id": "d58f1967-6842-40fa-8015-75b47fd02fae",
   "metadata": {},
   "outputs": [
    {
     "data": {
      "image/png": "[encoded data removed]",
      "text/plain": [
       "<Figure size 640x480 with 1 Axes>"
      ]
     },
     "metadata": {},
     "output_type": "display_data"
    }
   ],
   "source": [
    "plt.imshow(X_train[0])\n",
    "plt.show()"
   ]
  },
  {
   "cell_type": "code",
   "execution_count": 69,
   "id": "9daa399a-3a32-48a6-aa7b-36c851a8b94d",
   "metadata": {},
   "outputs": [
    {
     "data": {
      "text/plain": [
       "array([0, 1, 1, 1, 1, 1, 0, 1, 0, 0, 0, 1, 0, 0, 1, 1, 0, 0, 0, 1],\n",
       "      dtype=int64)"
      ]
     },
     "execution_count": 69,
     "metadata": {},
     "output_type": "execute_result"
    }
   ],
   "source": [
    "y_train.argmax(axis = 1)"
   ]
  },
  {
   "cell_type": "code",
   "execution_count": 70,
   "id": "29853823-020d-4141-88e7-cfee7c0f89ac",
   "metadata": {},
   "outputs": [
    {
     "data": {
      "text/plain": [
       "array([1., 0.], dtype=float32)"
      ]
     },
     "execution_count": 70,
     "metadata": {},
     "output_type": "execute_result"
    }
   ],
   "source": [
    "y_train[0]"
   ]
  },
  {
   "cell_type": "code",
   "execution_count": 71,
   "id": "db033f28-aaf1-4d90-b16a-93a31fcc9144",
   "metadata": {},
   "outputs": [
    {
     "name": "stdout",
     "output_type": "stream",
     "text": [
      "Model: \"sequential_8\"\n",
      "_________________________________________________________________\n",
      " Layer (type)                Output Shape              Param #   \n",
      "=================================================================\n",
      " flatten_8 (Flatten)         (None, 28812)             0         \n",
      "                                                                 \n",
      " dense_24 (Dense)            (None, 64)                1844032   \n",
      "                                                                 \n",
      " dense_25 (Dense)            (None, 32)                2080      \n",
      "                                                                 \n",
      " dense_26 (Dense)            (None, 2)                 66        \n",
      "                                                                 \n",
      "=================================================================\n",
      "Total params: 1846178 (7.04 MB)\n",
      "Trainable params: 1846178 (7.04 MB)\n",
      "Non-trainable params: 0 (0.00 Byte)\n",
      "_________________________________________________________________\n"
     ]
    }
   ],
   "source": [
    "# 기본 딥러닝 학습\n",
    "from tensorflow.keras.layers import Flatten\n",
    "\n",
    "model = Sequential()\n",
    "model.add(Flatten(input_shape = (98,98,3)))\n",
    "model.add(Dense(units = 64, activation = 'relu'))\n",
    "model.add(Dense(units = 32, activation = 'relu'))\n",
    "model.add(Dense(units = 2, activation = 'softmax'))\n",
    "model.compile(loss = 'categorical_crossentropy', optimizer = 'adam', metrics = ['acc'])\n",
    "model.summary()"
   ]
  },
  {
   "cell_type": "code",
   "execution_count": 72,
   "id": "77ffe107-33a2-49ca-8b36-0c204d38e930",
   "metadata": {},
   "outputs": [
    {
     "name": "stdout",
     "output_type": "stream",
     "text": [
      "Epoch 1/20\n",
      "1/1 [==============================] - 1s 695ms/step - loss: 0.6815 - acc: 0.6500\n",
      "Epoch 2/20\n",
      "1/1 [==============================] - 0s 57ms/step - loss: 5.3178 - acc: 0.5000\n",
      "Epoch 3/20\n",
      "1/1 [==============================] - 0s 59ms/step - loss: 5.5753 - acc: 0.5000\n",
      "Epoch 4/20\n",
      "1/1 [==============================] - 0s 62ms/step - loss: 1.3751 - acc: 0.5500\n",
      "Epoch 5/20\n",
      "1/1 [==============================] - 0s 61ms/step - loss: 8.5476 - acc: 0.5000\n",
      "Epoch 6/20\n",
      "1/1 [==============================] - 0s 62ms/step - loss: 7.1871 - acc: 0.5000\n",
      "Epoch 7/20\n",
      "1/1 [==============================] - 0s 65ms/step - loss: 3.4314 - acc: 0.5000\n",
      "Epoch 8/20\n",
      "1/1 [==============================] - 0s 67ms/step - loss: 0.4020 - acc: 0.8500\n",
      "Epoch 9/20\n",
      "1/1 [==============================] - 0s 60ms/step - loss: 2.6221 - acc: 0.5500\n",
      "Epoch 10/20\n",
      "1/1 [==============================] - 0s 61ms/step - loss: 2.1299 - acc: 0.6000\n",
      "Epoch 11/20\n",
      "1/1 [==============================] - 0s 66ms/step - loss: 0.2612 - acc: 0.8500\n",
      "Epoch 12/20\n",
      "1/1 [==============================] - 0s 61ms/step - loss: 1.5070 - acc: 0.7000\n",
      "Epoch 13/20\n",
      "1/1 [==============================] - 0s 62ms/step - loss: 1.7981 - acc: 0.6000\n",
      "Epoch 14/20\n",
      "1/1 [==============================] - 0s 59ms/step - loss: 0.6463 - acc: 0.8500\n",
      "Epoch 15/20\n",
      "1/1 [==============================] - 0s 65ms/step - loss: 0.4542 - acc: 0.8500\n",
      "Epoch 16/20\n",
      "1/1 [==============================] - 0s 59ms/step - loss: 1.0190 - acc: 0.7500\n",
      "Epoch 17/20\n",
      "1/1 [==============================] - 0s 63ms/step - loss: 0.7159 - acc: 0.8500\n",
      "Epoch 18/20\n",
      "1/1 [==============================] - 0s 66ms/step - loss: 0.1800 - acc: 0.9000\n",
      "Epoch 19/20\n",
      "1/1 [==============================] - 0s 60ms/step - loss: 0.3048 - acc: 0.9000\n",
      "Epoch 20/20\n",
      "1/1 [==============================] - 0s 61ms/step - loss: 0.5131 - acc: 0.9000\n"
     ]
    },
    {
     "data": {
      "text/plain": [
       "<keras.src.callbacks.History at 0x2697766b8e0>"
      ]
     },
     "execution_count": 72,
     "metadata": {},
     "output_type": "execute_result"
    }
   ],
   "source": [
    "#model.fit(X_train, y_train, epochs = 20)\n",
    "model.fit( trainGen, epochs = 20) # 1epoch당 32개씩 "
   ]
  },
  {
   "cell_type": "markdown",
   "id": "fa591d80-6135-4e22-823b-3be9910e4e48",
   "metadata": {},
   "source": [
    "# 딥러닝을 통한 학습"
   ]
  },
  {
   "cell_type": "code",
   "execution_count": 74,
   "id": "1012b413-a85a-4857-8cc0-2ea781053301",
   "metadata": {},
   "outputs": [
    {
     "data": {
      "image/jpeg": "[encoded data removed]",
      "image/png": "[encoded data removed]",
      "text/plain": [
       "<PIL.Image.Image image mode=RGB size=98x98>"
      ]
     },
     "execution_count": 74,
     "metadata": {},
     "output_type": "execute_result"
    }
   ],
   "source": [
    "testImg = load_img('./data/image/test.jpg', target_size = (98,98))\n",
    "testImg"
   ]
  },
  {
   "cell_type": "code",
   "execution_count": 78,
   "id": "78270936-7e56-40cc-99a1-307b18135361",
   "metadata": {},
   "outputs": [
    {
     "data": {
      "text/plain": [
       "array([[[0.00392157, 0.29803923, 0.02745098],\n",
       "        [0.00392157, 0.30588236, 0.02352941],\n",
       "        [0.00784314, 0.30980393, 0.02745098],\n",
       "        ...,\n",
       "        [0.23137255, 0.47058824, 0.06666667],\n",
       "        [0.2509804 , 0.4745098 , 0.07058824],\n",
       "        [0.2784314 , 0.49803922, 0.07843138]],\n",
       "\n",
       "       [[0.00392157, 0.29803923, 0.02745098],\n",
       "        [0.00392157, 0.30588236, 0.02352941],\n",
       "        [0.00784314, 0.30980393, 0.02745098],\n",
       "        ...,\n",
       "        [0.20392157, 0.4509804 , 0.04313726],\n",
       "        [0.23137255, 0.45490196, 0.05098039],\n",
       "        [0.27450982, 0.49803922, 0.07843138]],\n",
       "\n",
       "       [[0.00392157, 0.29803923, 0.02745098],\n",
       "        [0.00392157, 0.30588236, 0.02352941],\n",
       "        [0.00784314, 0.30980393, 0.02745098],\n",
       "        ...,\n",
       "        [0.17254902, 0.42745098, 0.01960784],\n",
       "        [0.21568628, 0.44313726, 0.03921569],\n",
       "        [0.27058825, 0.49411765, 0.07450981]],\n",
       "\n",
       "       ...,\n",
       "\n",
       "       [[0.32156864, 0.45882353, 0.2       ],\n",
       "        [0.33333334, 0.45882353, 0.21176471],\n",
       "        [0.34117648, 0.45882353, 0.22352941],\n",
       "        ...,\n",
       "        [0.59607846, 0.6901961 , 0.627451  ],\n",
       "        [0.42352942, 0.5764706 , 0.4       ],\n",
       "        [0.38039216, 0.5568628 , 0.28627452]],\n",
       "\n",
       "       [[0.33333334, 0.47058824, 0.21176471],\n",
       "        [0.34509805, 0.47058824, 0.22352941],\n",
       "        [0.3529412 , 0.47058824, 0.23529412],\n",
       "        ...,\n",
       "        [0.7411765 , 0.8235294 , 0.7882353 ],\n",
       "        [0.43137255, 0.57254905, 0.43137255],\n",
       "        [0.3882353 , 0.5647059 , 0.30980393]],\n",
       "\n",
       "       [[0.34117648, 0.47843137, 0.21960784],\n",
       "        [0.3529412 , 0.47843137, 0.23137255],\n",
       "        [0.36078432, 0.47843137, 0.24313726],\n",
       "        ...,\n",
       "        [0.8901961 , 0.9647059 , 0.95686275],\n",
       "        [0.54901963, 0.6862745 , 0.5686275 ],\n",
       "        [0.39215687, 0.5647059 , 0.33333334]]], dtype=float32)"
      ]
     },
     "execution_count": 78,
     "metadata": {},
     "output_type": "execute_result"
    }
   ],
   "source": [
    "testArr = img_to_array(testImg) / 255.\n",
    "testArr"
   ]
  },
  {
   "cell_type": "code",
   "execution_count": 80,
   "id": "a479d3ab-d76d-46bb-b9b4-68ed5c9f1b21",
   "metadata": {},
   "outputs": [
    {
     "data": {
      "image/png": "[encoded data removed]",
      "text/plain": [
       "<Figure size 640x480 with 1 Axes>"
      ]
     },
     "metadata": {},
     "output_type": "display_data"
    }
   ],
   "source": [
    "plt.imshow(testArr)\n",
    "plt.show()"
   ]
  },
  {
   "cell_type": "code",
   "execution_count": 87,
   "id": "5a8f9009-69b0-483f-b44b-dcb979f271e7",
   "metadata": {},
   "outputs": [],
   "source": [
    "d = trainGen.class_indices\n",
    "d = list(zip(d.values(), d.keys()))"
   ]
  },
  {
   "cell_type": "code",
   "execution_count": 93,
   "id": "97e5913a-bacb-4383-b35b-bd55fb4fd11e",
   "metadata": {},
   "outputs": [],
   "source": [
    "def decode(arg) :\n",
    "    d = trainGen.class_indices\n",
    "    d = dict(zip(d.values(), d.keys()))\n",
    "    return d[arg]"
   ]
  },
  {
   "cell_type": "code",
   "execution_count": 94,
   "id": "0414e2fb-20c6-43c4-ae19-69c4d397613c",
   "metadata": {},
   "outputs": [
    {
     "name": "stdout",
     "output_type": "stream",
     "text": [
      "1/1 [==============================] - 0s 31ms/step\n"
     ]
    },
    {
     "data": {
      "text/plain": [
       "'cat'"
      ]
     },
     "execution_count": 94,
     "metadata": {},
     "output_type": "execute_result"
    }
   ],
   "source": [
    "# 새로운 데이터로 확인\n",
    "decode(int(model.predict(testArr.reshape(1,98,98,3)).argmax(axis = 1)))"
   ]
  },
  {
   "cell_type": "code",
   "execution_count": 95,
   "id": "bfc28fb4-3093-4dd7-8674-7475bbfdf6ea",
   "metadata": {},
   "outputs": [
    {
     "name": "stderr",
     "output_type": "stream",
     "text": [
      "C:\\Users\\NT551XCJ\\AppData\\Local\\Programs\\Python\\Python310\\lib\\site-packages\\keras\\src\\engine\\training.py:3000: UserWarning: You are saving your model as an HDF5 file via `model.save()`. This file format is considered legacy. We recommend using instead the native Keras format, e.g. `model.save('my_model.keras')`.\n",
      "  saving_api.save_model(\n"
     ]
    }
   ],
   "source": [
    "model.save('catdog.h5')"
   ]
  },
  {
   "cell_type": "markdown",
   "id": "612b69d6-a793-45cb-a228-7d6c7af4c9a2",
   "metadata": {},
   "source": [
    "# CNN을 활용해 분류 진행"
   ]
  },
  {
   "cell_type": "code",
   "execution_count": 132,
   "id": "1bd69569-20bb-4690-afaf-b2e7989db8b1",
   "metadata": {},
   "outputs": [
    {
     "name": "stdout",
     "output_type": "stream",
     "text": [
      "Model: \"sequential_13\"\n",
      "_________________________________________________________________\n",
      " Layer (type)                Output Shape              Param #   \n",
      "=================================================================\n",
      " conv2d_8 (Conv2D)           (None, 98, 98, 16)        784       \n",
      "                                                                 \n",
      " max_pooling2d_8 (MaxPoolin  (None, 49, 49, 16)        0         \n",
      " g2D)                                                            \n",
      "                                                                 \n",
      " conv2d_9 (Conv2D)           (None, 46, 46, 32)        8224      \n",
      "                                                                 \n",
      " max_pooling2d_9 (MaxPoolin  (None, 23, 23, 32)        0         \n",
      " g2D)                                                            \n",
      "                                                                 \n",
      " flatten_13 (Flatten)        (None, 16928)             0         \n",
      "                                                                 \n",
      " dense_35 (Dense)            (None, 32)                541728    \n",
      "                                                                 \n",
      " dense_36 (Dense)            (None, 2)                 66        \n",
      "                                                                 \n",
      "=================================================================\n",
      "Total params: 550802 (2.10 MB)\n",
      "Trainable params: 550802 (2.10 MB)\n",
      "Non-trainable params: 0 (0.00 Byte)\n",
      "_________________________________________________________________\n"
     ]
    }
   ],
   "source": [
    "model = Sequential()\n",
    "model.add(Conv2D(16, kernel_size = (4,4), strides = 1, input_shape = (98,98,3), activation = 'relu', padding = 'same'))\n",
    "model.add(MaxPool2D(pool_size = (2,2)))\n",
    "model.add(Conv2D(32, kernel_size = (4,4), activation = 'relu'))\n",
    "model.add(MaxPool2D(pool_size = (2,2)))\n",
    "model.add(Flatten()) \n",
    "model.add(Dense(units = 32, activation = 'relu'))\n",
    "model.add(Dense(units = 2, activation = 'softmax'))\n",
    "model.compile(loss = 'categorical_crossentropy', optimizer = 'adam', metrics = ['acc'])\n",
    "model.summary()"
   ]
  },
  {
   "cell_type": "code",
   "execution_count": 133,
   "id": "03b08e26-38bc-4227-ba8b-9e877daecce4",
   "metadata": {},
   "outputs": [
    {
     "data": {
      "text/plain": [
       "((20, 98, 98, 3), (20, 2))"
      ]
     },
     "execution_count": 133,
     "metadata": {},
     "output_type": "execute_result"
    }
   ],
   "source": [
    "X_train.shape, y_train.shape"
   ]
  },
  {
   "cell_type": "code",
   "execution_count": 127,
   "id": "f160d08b-0822-4c8f-af5b-80b71336a85a",
   "metadata": {},
   "outputs": [],
   "source": [
    "y_train = y_train.argmax(axis = 1).reshape(-1,)"
   ]
  },
  {
   "cell_type": "code",
   "execution_count": 134,
   "id": "cb7014d7-cc17-48ac-a3e7-26991255b2e1",
   "metadata": {},
   "outputs": [
    {
     "name": "stdout",
     "output_type": "stream",
     "text": [
      "Epoch 1/10\n",
      "1/1 [==============================] - 1s 692ms/step - loss: 0.6864 - acc: 0.5500\n",
      "Epoch 2/10\n",
      "1/1 [==============================] - 0s 93ms/step - loss: 0.9086 - acc: 0.5000\n",
      "Epoch 3/10\n",
      "1/1 [==============================] - 0s 96ms/step - loss: 0.7691 - acc: 0.5000\n",
      "Epoch 4/10\n",
      "1/1 [==============================] - 0s 96ms/step - loss: 0.7090 - acc: 0.5000\n",
      "Epoch 5/10\n",
      "1/1 [==============================] - 0s 101ms/step - loss: 0.5826 - acc: 0.7500\n",
      "Epoch 6/10\n",
      "1/1 [==============================] - 0s 94ms/step - loss: 0.5533 - acc: 0.7000\n",
      "Epoch 7/10\n",
      "1/1 [==============================] - 0s 95ms/step - loss: 0.5727 - acc: 0.6000\n",
      "Epoch 8/10\n",
      "1/1 [==============================] - 0s 92ms/step - loss: 0.5231 - acc: 0.6500\n",
      "Epoch 9/10\n",
      "1/1 [==============================] - 0s 93ms/step - loss: 0.4723 - acc: 0.9000\n",
      "Epoch 10/10\n",
      "1/1 [==============================] - 0s 98ms/step - loss: 0.4429 - acc: 0.9500\n"
     ]
    },
    {
     "data": {
      "text/plain": [
       "<keras.src.callbacks.History at 0x2697b457cd0>"
      ]
     },
     "execution_count": 134,
     "metadata": {},
     "output_type": "execute_result"
    }
   ],
   "source": [
    "model.fit(X_train.reshape(20,98,98,3), y_train, epochs = 10)"
   ]
  },
  {
   "cell_type": "code",
   "execution_count": 138,
   "id": "29889353-52e6-4765-a34d-9fc48402f043",
   "metadata": {},
   "outputs": [
    {
     "data": {
      "text/plain": [
       "array([[1., 0.],\n",
       "       [0., 1.],\n",
       "       [0., 1.],\n",
       "       [0., 1.],\n",
       "       [0., 1.],\n",
       "       [1., 0.],\n",
       "       [1., 0.],\n",
       "       [0., 1.],\n",
       "       [1., 0.],\n",
       "       [0., 1.],\n",
       "       [0., 1.],\n",
       "       [1., 0.],\n",
       "       [0., 1.],\n",
       "       [0., 1.],\n",
       "       [1., 0.],\n",
       "       [1., 0.],\n",
       "       [1., 0.],\n",
       "       [1., 0.],\n",
       "       [1., 0.],\n",
       "       [0., 1.]], dtype=float32)"
      ]
     },
     "execution_count": 138,
     "metadata": {},
     "output_type": "execute_result"
    }
   ],
   "source": [
    "y_train"
   ]
  },
  {
   "cell_type": "code",
   "execution_count": 140,
   "id": "857290ed-cc01-456b-89e2-a4dcb7d7e9a6",
   "metadata": {},
   "outputs": [
    {
     "name": "stdout",
     "output_type": "stream",
     "text": [
      "1/1 [==============================] - 0s 44ms/step\n",
      "              precision    recall  f1-score   support\n",
      "\n",
      "           0       0.91      1.00      0.95        10\n",
      "           1       1.00      0.90      0.95        10\n",
      "\n",
      "    accuracy                           0.95        20\n",
      "   macro avg       0.95      0.95      0.95        20\n",
      "weighted avg       0.95      0.95      0.95        20\n",
      "\n"
     ]
    }
   ],
   "source": [
    "# 성능 확인\n",
    "print(classification_report(y_train.argmax(axis = 1),model.predict(X_train).argmax(axis = 1)))"
   ]
  }
 ],
 "metadata": {
  "kernelspec": {
   "display_name": "Python 3 (ipykernel)",
   "language": "python",
   "name": "python3"
  },
  "language_info": {
   "codemirror_mode": {
    "name": "ipython",
    "version": 3
   },
   "file_extension": ".py",
   "mimetype": "text/x-python",
   "name": "python",
   "nbconvert_exporter": "python",
   "pygments_lexer": "ipython3",
   "version": "3.10.11"
  }
 },
 "nbformat": 4,
 "nbformat_minor": 5
}
