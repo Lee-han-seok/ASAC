{
 "cells": [
  {
   "cell_type": "code",
   "execution_count": 1,
   "id": "19eb3d2a-dc93-4ace-81c5-634298f22af7",
   "metadata": {},
   "outputs": [],
   "source": [
    "import tensorflow as tf\n",
    "import numpy as np\n",
    "import pandas as pd\n",
    "import matplotlib.pyplot as plt\n",
    "from tensorflow.keras.optimizers import Adam"
   ]
  },
  {
   "cell_type": "code",
   "execution_count": 2,
   "id": "507ea66d-6f45-4176-bf04-ad69879bbe19",
   "metadata": {},
   "outputs": [],
   "source": [
    "x_data = np.array( [[0,0],[0,1],[1,0],[1,1]] )\n",
    "y_data = np.array( [[0],[1],[1],[0] ] )"
   ]
  },
  {
   "cell_type": "code",
   "execution_count": 3,
   "id": "6c59a601-1d8a-420e-8d5d-7acc130a77da",
   "metadata": {},
   "outputs": [],
   "source": [
    "x = tf.constant( x_data, tf.float32)\n",
    "y = tf.constant( y_data, tf.float32)"
   ]
  },
  {
   "cell_type": "code",
   "execution_count": 7,
   "id": "192b58e5-40c2-408e-9571-e92197d49159",
   "metadata": {},
   "outputs": [
    {
     "name": "stderr",
     "output_type": "stream",
     "text": [
      "C:\\Users\\NT350XCR\\AppData\\Local\\Programs\\Python\\Python310\\lib\\site-packages\\keras\\src\\initializers\\initializers.py:120: UserWarning: The initializer GlorotUniform is unseeded and being called multiple times, which will return identical values each time (even if the initializer is unseeded). Please update your code to provide a seed to the initializer, or avoid using the same initializer instance more than once.\n",
      "  warnings.warn(\n"
     ]
    }
   ],
   "source": [
    "initX = tf.initializers.GlorotUniform()\n",
    "w1 = tf.Variable( initX( shape=[2,32] ) )\n",
    "b1 = tf.Variable( initX( shape=[32] ) )\n",
    "\n",
    "w2 = tf.Variable( initX( shape=[32,16] ) )\n",
    "b2 = tf.Variable( initX( shape=[16] ) )\n",
    "\n",
    "w3 = tf.Variable( initX( shape=[16,1] ) )\n",
    "b3 = tf.Variable( initX( shape=[1] ) )\n"
   ]
  },
  {
   "cell_type": "code",
   "execution_count": 8,
   "id": "52b17666-2086-4edc-95ab-c46bc734fa81",
   "metadata": {},
   "outputs": [],
   "source": [
    "def compute_loss():\n",
    "    z1 = tf.matmul( x,w1) +b1\n",
    "    hx1 = tf.nn.sigmoid( z1 )\n",
    "    z2 = tf.matmul( hx1,w2) +b2\n",
    "    hx2 = tf.nn.sigmoid( z2 )\n",
    "    z = tf.matmul( hx2, w3 ) +b3\n",
    "    cost_i = tf.nn.sigmoid_cross_entropy_with_logits( logits=z, labels=y)\n",
    "    cost = tf.reduce_mean( cost_i)\n",
    "    return cost"
   ]
  },
  {
   "cell_type": "code",
   "execution_count": 9,
   "id": "1fe1cd2e-21e3-4513-bd40-182322936e38",
   "metadata": {},
   "outputs": [],
   "source": [
    "def hxfn( xd ):\n",
    "    xd = np.float32( xd )\n",
    "    z1 = tf.matmul( xd,w1) +b1\n",
    "    hx1 = tf.nn.sigmoid( z1 )\n",
    "    z2 = tf.matmul( hx1,w2) +b2\n",
    "    hx2 = tf.nn.sigmoid( z2 )\n",
    "    z = tf.matmul( hx2, w3 ) +b3\n",
    "    hx = tf.nn.sigmoid( z )\n",
    "    return ( hx.numpy()>0.5 ) + 0"
   ]
  },
  {
   "cell_type": "code",
   "execution_count": null,
   "id": "2ffcedc9-414a-46ba-b1a0-b21970db2ffb",
   "metadata": {},
   "outputs": [],
   "source": [
    "optimizer = Adam( learning_rate=0.1)\n",
    "for i in range( 500):\n",
    "    optimizer.minimize( compute_loss, var_list=[w1,w2,w3,b1,b2,b3] )\n",
    "    pred = hxfn( x )\n",
    "    acc = (pred == y_data).mean()\n",
    "    print( i, compute_loss().numpy(), '정확도:', acc )"
   ]
  },
  {
   "cell_type": "code",
   "execution_count": 11,
   "id": "80948893-3253-410e-bb04-b30cf90abfbe",
   "metadata": {},
   "outputs": [
    {
     "data": {
      "text/plain": [
       "array([[0],\n",
       "       [1],\n",
       "       [1],\n",
       "       [0]])"
      ]
     },
     "execution_count": 11,
     "metadata": {},
     "output_type": "execute_result"
    }
   ],
   "source": [
    "hxfn( x ) # 4x2 2x32 => 4x32 32x16 => 4x16 16x1 => 4x1"
   ]
  }
 ],
 "metadata": {
  "kernelspec": {
   "display_name": "Python 3 (ipykernel)",
   "language": "python",
   "name": "python3"
  },
  "language_info": {
   "codemirror_mode": {
    "name": "ipython",
    "version": 3
   },
   "file_extension": ".py",
   "mimetype": "text/x-python",
   "name": "python",
   "nbconvert_exporter": "python",
   "pygments_lexer": "ipython3",
   "version": "3.10.11"
  }
 },
 "nbformat": 4,
 "nbformat_minor": 5
}
