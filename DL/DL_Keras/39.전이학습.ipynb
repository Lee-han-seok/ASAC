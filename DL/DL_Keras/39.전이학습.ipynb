{
 "cells": [
  {
   "cell_type": "code",
   "execution_count": 10,
   "id": "8be286ac-247f-49fa-81d7-653c60a3adf8",
   "metadata": {},
   "outputs": [],
   "source": [
    "from tensorflow.keras.applications import vgg16\n",
    "from tensorflow.keras.preprocessing.image import load_img, ImageDataGenerator, img_to_array\n",
    "from tensorflow.keras import Sequential\n",
    "from tensorflow.keras.layers import Dense, Flatten\n",
    "\n",
    "import numpy as np"
   ]
  },
  {
   "cell_type": "code",
   "execution_count": 4,
   "id": "1ca47a05-66a0-4ef6-8af7-2dad23e6d474",
   "metadata": {},
   "outputs": [
    {
     "name": "stdout",
     "output_type": "stream",
     "text": [
      "Downloading data from https://storage.googleapis.com/tensorflow/keras-applications/vgg16/vgg16_weights_tf_dim_ordering_tf_kernels_notop.h5\n",
      "58889256/58889256 [==============================] - 13s 0us/step\n"
     ]
    }
   ],
   "source": [
    "modelVgg16 = vgg16.VGG16(include_top = False, input_shape = (98,98,3))"
   ]
  },
  {
   "cell_type": "code",
   "execution_count": 5,
   "id": "ac4b7943-bfaa-47b4-8920-470e7c3dcb2a",
   "metadata": {},
   "outputs": [
    {
     "name": "stdout",
     "output_type": "stream",
     "text": [
      "Model: \"vgg16\"\n",
      "_________________________________________________________________\n",
      " Layer (type)                Output Shape              Param #   \n",
      "=================================================================\n",
      " input_2 (InputLayer)        [(None, 98, 98, 3)]       0         \n",
      "                                                                 \n",
      " block1_conv1 (Conv2D)       (None, 98, 98, 64)        1792      \n",
      "                                                                 \n",
      " block1_conv2 (Conv2D)       (None, 98, 98, 64)        36928     \n",
      "                                                                 \n",
      " block1_pool (MaxPooling2D)  (None, 49, 49, 64)        0         \n",
      "                                                                 \n",
      " block2_conv1 (Conv2D)       (None, 49, 49, 128)       73856     \n",
      "                                                                 \n",
      " block2_conv2 (Conv2D)       (None, 49, 49, 128)       147584    \n",
      "                                                                 \n",
      " block2_pool (MaxPooling2D)  (None, 24, 24, 128)       0         \n",
      "                                                                 \n",
      " block3_conv1 (Conv2D)       (None, 24, 24, 256)       295168    \n",
      "                                                                 \n",
      " block3_conv2 (Conv2D)       (None, 24, 24, 256)       590080    \n",
      "                                                                 \n",
      " block3_conv3 (Conv2D)       (None, 24, 24, 256)       590080    \n",
      "                                                                 \n",
      " block3_pool (MaxPooling2D)  (None, 12, 12, 256)       0         \n",
      "                                                                 \n",
      " block4_conv1 (Conv2D)       (None, 12, 12, 512)       1180160   \n",
      "                                                                 \n",
      " block4_conv2 (Conv2D)       (None, 12, 12, 512)       2359808   \n",
      "                                                                 \n",
      " block4_conv3 (Conv2D)       (None, 12, 12, 512)       2359808   \n",
      "                                                                 \n",
      " block4_pool (MaxPooling2D)  (None, 6, 6, 512)         0         \n",
      "                                                                 \n",
      " block5_conv1 (Conv2D)       (None, 6, 6, 512)         2359808   \n",
      "                                                                 \n",
      " block5_conv2 (Conv2D)       (None, 6, 6, 512)         2359808   \n",
      "                                                                 \n",
      " block5_conv3 (Conv2D)       (None, 6, 6, 512)         2359808   \n",
      "                                                                 \n",
      " block5_pool (MaxPooling2D)  (None, 3, 3, 512)         0         \n",
      "                                                                 \n",
      "=================================================================\n",
      "Total params: 14714688 (56.13 MB)\n",
      "Trainable params: 14714688 (56.13 MB)\n",
      "Non-trainable params: 0 (0.00 Byte)\n",
      "_________________________________________________________________\n"
     ]
    }
   ],
   "source": [
    "modelVgg16.summary()"
   ]
  },
  {
   "cell_type": "code",
   "execution_count": 7,
   "id": "2bbbc544-468d-4966-9a6a-77b1f0deddff",
   "metadata": {},
   "outputs": [
    {
     "data": {
      "text/plain": [
       "[<keras.src.engine.input_layer.InputLayer at 0x1fa38683730>,\n",
       " <keras.src.layers.convolutional.conv2d.Conv2D at 0x1fa38683a90>,\n",
       " <keras.src.layers.convolutional.conv2d.Conv2D at 0x1fa386c0640>,\n",
       " <keras.src.layers.pooling.max_pooling2d.MaxPooling2D at 0x1fa386c0d60>,\n",
       " <keras.src.layers.convolutional.conv2d.Conv2D at 0x1fa386c1600>,\n",
       " <keras.src.layers.convolutional.conv2d.Conv2D at 0x1fa386c1bd0>,\n",
       " <keras.src.layers.pooling.max_pooling2d.MaxPooling2D at 0x1fa386c2b30>,\n",
       " <keras.src.layers.convolutional.conv2d.Conv2D at 0x1fa386c34f0>,\n",
       " <keras.src.layers.convolutional.conv2d.Conv2D at 0x1fa386c3b20>,\n",
       " <keras.src.layers.convolutional.conv2d.Conv2D at 0x1fa386c3df0>,\n",
       " <keras.src.layers.pooling.max_pooling2d.MaxPooling2D at 0x1fa386d5300>,\n",
       " <keras.src.layers.convolutional.conv2d.Conv2D at 0x1fa386c3cd0>,\n",
       " <keras.src.layers.convolutional.conv2d.Conv2D at 0x1fa386d44f0>,\n",
       " <keras.src.layers.convolutional.conv2d.Conv2D at 0x1fa386d6a70>,\n",
       " <keras.src.layers.pooling.max_pooling2d.MaxPooling2D at 0x1fa386d59c0>,\n",
       " <keras.src.layers.convolutional.conv2d.Conv2D at 0x1fa386d7fa0>,\n",
       " <keras.src.layers.convolutional.conv2d.Conv2D at 0x1fa386d7730>,\n",
       " <keras.src.layers.convolutional.conv2d.Conv2D at 0x1fa386f4d00>,\n",
       " <keras.src.layers.pooling.max_pooling2d.MaxPooling2D at 0x1fa386f6140>]"
      ]
     },
     "execution_count": 7,
     "metadata": {},
     "output_type": "execute_result"
    }
   ],
   "source": [
    "modelVgg16.layers"
   ]
  },
  {
   "cell_type": "code",
   "execution_count": null,
   "id": "0dc6e591-b56d-405f-8e3c-f332b1f680ec",
   "metadata": {},
   "outputs": [],
   "source": [
    "# for idx in range(len(modelVgg16.layers)) :\n",
    "#     modelVgg16.layers[idx].trainalbe = False\n",
    "\n",
    "# 뒤에 3개층은 학습하고 싶지 않을때 \n",
    "# for idx in range(len(modelVgg16.layers)) :\n",
    "#     if idx == len(modelVgg16.layers) - 3:\n",
    "#         break\n",
    "#     modelVgg16.layers[idx].trainalbe = False"
   ]
  },
  {
   "cell_type": "code",
   "execution_count": 8,
   "id": "1de96a74-76cc-4942-a28c-b67eac6cf918",
   "metadata": {},
   "outputs": [],
   "source": [
    "for layer in modelVgg16.layers:\n",
    "    layer.trainable = False"
   ]
  },
  {
   "cell_type": "code",
   "execution_count": 12,
   "id": "9dec854d-bdc8-4970-86be-b4559cb07a07",
   "metadata": {},
   "outputs": [
    {
     "name": "stdout",
     "output_type": "stream",
     "text": [
      "Found 200 images belonging to 2 classes.\n"
     ]
    }
   ],
   "source": [
    "dataGen = ImageDataGenerator(rescale = 1./255)\n",
    "imageGen = dataGen.flow_from_directory('./data/image/tigerlion', target_size = (98,98))"
   ]
  },
  {
   "cell_type": "code",
   "execution_count": 14,
   "id": "74d2db71-54f9-4357-9e0b-6ce7daac5cd7",
   "metadata": {},
   "outputs": [
    {
     "name": "stdout",
     "output_type": "stream",
     "text": [
      "Epoch 1/10\n",
      "7/7 [==============================] - 6s 726ms/step - loss: 0.4996 - acc: 0.7400\n",
      "Epoch 2/10\n",
      "7/7 [==============================] - 5s 737ms/step - loss: 0.1615 - acc: 0.9400\n",
      "Epoch 3/10\n",
      "7/7 [==============================] - 5s 762ms/step - loss: 0.0754 - acc: 0.9900\n",
      "Epoch 4/10\n",
      "7/7 [==============================] - 5s 738ms/step - loss: 0.0402 - acc: 0.9950\n",
      "Epoch 5/10\n",
      "7/7 [==============================] - 6s 778ms/step - loss: 0.0229 - acc: 1.0000\n",
      "Epoch 6/10\n",
      "7/7 [==============================] - 5s 727ms/step - loss: 0.0147 - acc: 1.0000\n",
      "Epoch 7/10\n",
      "7/7 [==============================] - 6s 830ms/step - loss: 0.0116 - acc: 1.0000\n",
      "Epoch 8/10\n",
      "7/7 [==============================] - 7s 1s/step - loss: 0.0076 - acc: 1.0000\n",
      "Epoch 9/10\n",
      "7/7 [==============================] - 8s 1s/step - loss: 0.0063 - acc: 1.0000\n",
      "Epoch 10/10\n",
      "7/7 [==============================] - 8s 1s/step - loss: 0.0049 - acc: 1.0000\n"
     ]
    },
    {
     "data": {
      "text/plain": [
       "<keras.src.callbacks.History at 0x1fa3affb070>"
      ]
     },
     "execution_count": 14,
     "metadata": {},
     "output_type": "execute_result"
    }
   ],
   "source": [
    "model = Sequential()\n",
    "model.add(modelVgg16)\n",
    "model.add(Flatten())\n",
    "model.add(Dense(units = 64, activation = 'relu'))\n",
    "model.add(Dense(units = 2, activation = 'softmax'))\n",
    "model.compile(loss = 'categorical_crossentropy', optimizer = 'adam', metrics = ['acc'])\n",
    "model.fit(imageGen, epochs = 10)"
   ]
  },
  {
   "cell_type": "code",
   "execution_count": 15,
   "id": "790bb3bc-e4a9-4b97-815f-e67bc25b4aaf",
   "metadata": {},
   "outputs": [
    {
     "name": "stdout",
     "output_type": "stream",
     "text": [
      "Model: \"sequential_1\"\n",
      "_________________________________________________________________\n",
      " Layer (type)                Output Shape              Param #   \n",
      "=================================================================\n",
      " vgg16 (Functional)          (None, 3, 3, 512)         14714688  \n",
      "                                                                 \n",
      " flatten_1 (Flatten)         (None, 4608)              0         \n",
      "                                                                 \n",
      " dense_2 (Dense)             (None, 64)                294976    \n",
      "                                                                 \n",
      " dense_3 (Dense)             (None, 2)                 130       \n",
      "                                                                 \n",
      "=================================================================\n",
      "Total params: 15009794 (57.26 MB)\n",
      "Trainable params: 295106 (1.13 MB)\n",
      "Non-trainable params: 14714688 (56.13 MB)\n",
      "_________________________________________________________________\n"
     ]
    }
   ],
   "source": [
    "model.summary()"
   ]
  },
  {
   "cell_type": "code",
   "execution_count": null,
   "id": "64130cbc-6bd0-4476-a5df-e65743edb943",
   "metadata": {},
   "outputs": [],
   "source": []
  }
 ],
 "metadata": {
  "kernelspec": {
   "display_name": "Python 3 (ipykernel)",
   "language": "python",
   "name": "python3"
  },
  "language_info": {
   "codemirror_mode": {
    "name": "ipython",
    "version": 3
   },
   "file_extension": ".py",
   "mimetype": "text/x-python",
   "name": "python",
   "nbconvert_exporter": "python",
   "pygments_lexer": "ipython3",
   "version": "3.10.11"
  }
 },
 "nbformat": 4,
 "nbformat_minor": 5
}
