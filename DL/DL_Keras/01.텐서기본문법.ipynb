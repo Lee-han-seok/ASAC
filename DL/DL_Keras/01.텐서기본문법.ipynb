{
 "cells": [
  {
   "cell_type": "code",
   "execution_count": 13,
   "id": "13f434b0-98cf-4d3b-a8ae-50c905e245ea",
   "metadata": {},
   "outputs": [],
   "source": [
    "import pandas as pd\n",
    "import numpy as np\n",
    "import sklearn\n",
    "import tensorflow as tf"
   ]
  },
  {
   "cell_type": "markdown",
   "id": "f2ba495f-189e-406a-b81f-df004cae0dc2",
   "metadata": {},
   "source": [
    "# 0. Tensor Flow 기본 구성"
   ]
  },
  {
   "cell_type": "markdown",
   "id": "c2ed06d9-c9db-4012-b719-b299cf094e66",
   "metadata": {},
   "source": [
    "## [1] Scalar Data"
   ]
  },
  {
   "cell_type": "code",
   "execution_count": 14,
   "id": "8f1f8e01-c583-4d4b-9263-f59ac8ab56de",
   "metadata": {},
   "outputs": [],
   "source": [
    "s1 = 10\n",
    "s2 = 3.14\n",
    "s3 = 'abc'"
   ]
  },
  {
   "cell_type": "markdown",
   "id": "45a69cb4-2306-43df-b15f-852ef4771dd8",
   "metadata": {},
   "source": [
    "## [2] Vector Data"
   ]
  },
  {
   "cell_type": "code",
   "execution_count": 15,
   "id": "ba9562a1-a003-4e75-b94d-7be4a66f912d",
   "metadata": {},
   "outputs": [],
   "source": [
    "v = [10,20,30]"
   ]
  },
  {
   "cell_type": "markdown",
   "id": "15e5c75a-99f9-4cc8-ad38-5236906de760",
   "metadata": {},
   "source": [
    "## [3] Matrix Data"
   ]
  },
  {
   "cell_type": "code",
   "execution_count": 16,
   "id": "0f82fd91-2206-4d5f-96f2-0ee3016aa7a7",
   "metadata": {},
   "outputs": [],
   "source": [
    "m = [[10,20,30], [10,20,30]]"
   ]
  },
  {
   "cell_type": "markdown",
   "id": "a42752c9-cc7c-4d4d-8768-ae575709569e",
   "metadata": {},
   "source": [
    "## [4] 3D tensor"
   ]
  },
  {
   "cell_type": "code",
   "execution_count": 17,
   "id": "e7e9ce1e-8a79-49d4-b275-7b3d2931f7c1",
   "metadata": {},
   "outputs": [],
   "source": [
    "d3 = [[[10,20,30], [10,20,30]], [[10,20,30], [10,20,30]]]"
   ]
  },
  {
   "cell_type": "markdown",
   "id": "f79ac622-cf68-457b-90fa-ca935a5babac",
   "metadata": {},
   "source": [
    "## [5] 4D tensor   "
   ]
  },
  {
   "cell_type": "code",
   "execution_count": 18,
   "id": "5af7bdff-be38-424f-954c-8c7c5bc26613",
   "metadata": {},
   "outputs": [],
   "source": [
    "d4 = [[[[10,20,30], [10,20,30]], [[10,20,30], [10,20,30]]],\n",
    "[[[10,20,30], [10,20,30]], [[10,20,30], [10,20,30]]]]"
   ]
  },
  {
   "cell_type": "code",
   "execution_count": 19,
   "id": "1d6f7c75-1856-4d69-968e-61cb13b37588",
   "metadata": {},
   "outputs": [
    {
     "data": {
      "text/plain": [
       "list"
      ]
     },
     "execution_count": 19,
     "metadata": {},
     "output_type": "execute_result"
    }
   ],
   "source": [
    "type(d4)"
   ]
  },
  {
   "cell_type": "markdown",
   "id": "2e701d2a-d0a1-477e-a854-bbde0cf68df3",
   "metadata": {},
   "source": [
    "## [5] 텐서 데이터 노드 정의하는 방법\n",
    "- constant : 읽기 전용\n",
    "- variable : 읽기 쓰기"
   ]
  },
  {
   "cell_type": "code",
   "execution_count": 20,
   "id": "d053b73e-1fef-49c5-83a9-7b4c1079b1b1",
   "metadata": {},
   "outputs": [
    {
     "data": {
      "text/plain": [
       "<tf.Tensor: shape=(), dtype=int32, numpy=10>"
      ]
     },
     "execution_count": 20,
     "metadata": {},
     "output_type": "execute_result"
    }
   ],
   "source": [
    "s1 = 10\n",
    "c1 = tf.constant(s1)\n",
    "c1"
   ]
  },
  {
   "cell_type": "code",
   "execution_count": 21,
   "id": "eefb0da3-803f-45b9-9c80-5a238809183c",
   "metadata": {},
   "outputs": [
    {
     "name": "stdout",
     "output_type": "stream",
     "text": [
      "<class 'tensorflow.python.framework.ops.EagerTensor'>\n"
     ]
    }
   ],
   "source": [
    "print(type(c1))"
   ]
  },
  {
   "cell_type": "code",
   "execution_count": 22,
   "id": "fa5f565f-a561-4509-b945-05c0d3d471d0",
   "metadata": {},
   "outputs": [
    {
     "data": {
      "text/plain": [
       "10"
      ]
     },
     "execution_count": 22,
     "metadata": {},
     "output_type": "execute_result"
    }
   ],
   "source": [
    "c1.numpy()"
   ]
  },
  {
   "cell_type": "code",
   "execution_count": 23,
   "id": "026d3c90-c3cf-4a08-b95b-4b8e7f91606e",
   "metadata": {},
   "outputs": [
    {
     "data": {
      "text/plain": [
       "array([10, 20, 30])"
      ]
     },
     "execution_count": 23,
     "metadata": {},
     "output_type": "execute_result"
    }
   ],
   "source": [
    "v1.numpy()"
   ]
  },
  {
   "cell_type": "markdown",
   "id": "b878f222-5fd7-4a5f-a3a4-1f861f03071d",
   "metadata": {},
   "source": [
    "## [6] 연산 : 산술관련 연산자 (numpy, pandas, tensor)\n",
    "- element wise : 요소별 연산 (동일한 인덱스)\n",
    "- broad cast : 연산 대상에서 자동 확장"
   ]
  },
  {
   "cell_type": "code",
   "execution_count": 24,
   "id": "0b15d313-a7cd-4642-95c2-e8fb8aa12a27",
   "metadata": {},
   "outputs": [
    {
     "data": {
      "text/plain": [
       "<tf.Tensor: shape=(3,), dtype=int32, numpy=array([3, 6, 9])>"
      ]
     },
     "execution_count": 24,
     "metadata": {},
     "output_type": "execute_result"
    }
   ],
   "source": [
    "a = tf.constant(3)\n",
    "b = tf.constant([1,2,3])\n",
    "c = tf.multiply(a, b) # [3,3,3] * [1,2,3] : 스칼라값인 3이 자동 확장(브로드 캐스팅) 됨\n",
    "c"
   ]
  },
  {
   "cell_type": "code",
   "execution_count": 25,
   "id": "cf0ba9c1-4020-4783-8522-3865c42969ee",
   "metadata": {},
   "outputs": [
    {
     "data": {
      "text/plain": [
       "<tf.Tensor: shape=(3,), dtype=int32, numpy=array([3, 6, 9])>"
      ]
     },
     "execution_count": 25,
     "metadata": {},
     "output_type": "execute_result"
    }
   ],
   "source": [
    "a * b"
   ]
  },
  {
   "cell_type": "markdown",
   "id": "5d8f7f7e-7618-426f-80c1-d99e54de0e3a",
   "metadata": {},
   "source": [
    "## [7] tensorboard 툴을 이용하여 메모리 그래프 상태 확인이 가능함"
   ]
  },
  {
   "cell_type": "code",
   "execution_count": 31,
   "id": "e9815119-1105-41cd-9a82-2a78fe0a52f6",
   "metadata": {},
   "outputs": [
    {
     "data": {
      "text/plain": [
       "<tf.Tensor: shape=(3,), dtype=int32, numpy=array([4, 5, 6])>"
      ]
     },
     "execution_count": 31,
     "metadata": {},
     "output_type": "execute_result"
    }
   ],
   "source": [
    "d = tf.add(a,b) # a + b\n",
    "d"
   ]
  },
  {
   "cell_type": "code",
   "execution_count": 32,
   "id": "e704a20e-cca0-46c9-9d95-346595f6942c",
   "metadata": {},
   "outputs": [
    {
     "data": {
      "text/plain": [
       "array([4, 5, 6])"
      ]
     },
     "execution_count": 32,
     "metadata": {},
     "output_type": "execute_result"
    }
   ],
   "source": [
    "d.numpy()"
   ]
  },
  {
   "cell_type": "code",
   "execution_count": 34,
   "id": "3e0b2071-1fa4-46a0-877b-b64967d75ed9",
   "metadata": {},
   "outputs": [
    {
     "data": {
      "text/plain": [
       "<tf.Tensor: shape=(3,), dtype=int32, numpy=array([3, 6, 9])>"
      ]
     },
     "execution_count": 34,
     "metadata": {},
     "output_type": "execute_result"
    }
   ],
   "source": [
    "c"
   ]
  },
  {
   "cell_type": "code",
   "execution_count": 33,
   "id": "e8ecf5fa-528d-4f48-9543-c019e90b9014",
   "metadata": {},
   "outputs": [
    {
     "data": {
      "text/plain": [
       "<tf.Tensor: shape=(3,), dtype=int32, numpy=array([ 7, 11, 15])>"
      ]
     },
     "execution_count": 33,
     "metadata": {},
     "output_type": "execute_result"
    }
   ],
   "source": [
    "e = c+d\n",
    "e"
   ]
  },
  {
   "cell_type": "code",
   "execution_count": 36,
   "id": "0d9f51a7-b696-4795-95ee-e8e042edd9fd",
   "metadata": {},
   "outputs": [
    {
     "data": {
      "text/plain": [
       "<tf.Tensor: shape=(3, 3), dtype=int32, numpy=\n",
       "array([[ 2,  4,  6],\n",
       "       [ 5,  7,  9],\n",
       "       [ 8, 10, 12]])>"
      ]
     },
     "execution_count": 36,
     "metadata": {},
     "output_type": "execute_result"
    }
   ],
   "source": [
    "f = tf.constant([1,2,3])\n",
    "g = tf.constant([[1,2,3],[4,5,6],[7,8,9]])\n",
    "h = f + g\n",
    "h"
   ]
  },
  {
   "cell_type": "code",
   "execution_count": 38,
   "id": "e9b698ce-942e-4a41-ac38-6b82ee4c2dc3",
   "metadata": {},
   "outputs": [
    {
     "data": {
      "text/plain": [
       "<tf.Tensor: shape=(3, 3), dtype=int32, numpy=\n",
       "array([[ 1,  2,  3],\n",
       "       [ 8, 10, 12],\n",
       "       [21, 24, 27]])>"
      ]
     },
     "execution_count": 38,
     "metadata": {},
     "output_type": "execute_result"
    }
   ],
   "source": [
    "i = tf.constant([[1],[2],[3]])\n",
    "j = tf.constant([[1,2,3],[4,5,6],[7,8,9]])\n",
    "k = i * j\n",
    "k"
   ]
  },
  {
   "cell_type": "code",
   "execution_count": 40,
   "id": "0ced6c27-ae1c-46ae-8cfd-b692ba1e890f",
   "metadata": {},
   "outputs": [
    {
     "data": {
      "text/plain": [
       "<tf.Tensor: shape=(3, 3), dtype=int32, numpy=\n",
       "array([[ 1,  2,  3],\n",
       "       [ 8, 10, 12],\n",
       "       [21, 24, 27]])>"
      ]
     },
     "execution_count": 40,
     "metadata": {},
     "output_type": "execute_result"
    }
   ],
   "source": [
    "i = tf.constant([[1],[2],[3]])\n",
    "j = tf.constant([[1,2,3],[4,5,6],[7,8,9]])\n",
    "k = tf.multiply(i,j)\n",
    "k"
   ]
  },
  {
   "cell_type": "markdown",
   "id": "0b9d9b66-ba7d-4ebf-b198-9bafcc18b6b2",
   "metadata": {},
   "source": [
    "## [8] 행렬곱"
   ]
  },
  {
   "cell_type": "code",
   "execution_count": 41,
   "id": "95eb3454-7e9f-47cf-bade-163f00b329e1",
   "metadata": {},
   "outputs": [],
   "source": [
    "o = tf.constant([[1,2],[3,4]])\n",
    "p = tf.constant([[5,6],[7,8]])\n",
    "q = tf.multiply(o,p) # O X P\n",
    "r = tf.matmul(o,p)"
   ]
  },
  {
   "cell_type": "code",
   "execution_count": 42,
   "id": "7976641e-d2a5-4a6c-84ec-e3cf52e243d2",
   "metadata": {},
   "outputs": [
    {
     "data": {
      "text/plain": [
       "<tf.Tensor: shape=(2, 2), dtype=int32, numpy=\n",
       "array([[ 5, 12],\n",
       "       [21, 32]])>"
      ]
     },
     "execution_count": 42,
     "metadata": {},
     "output_type": "execute_result"
    }
   ],
   "source": [
    "q"
   ]
  },
  {
   "cell_type": "code",
   "execution_count": 43,
   "id": "98c1cf50-fc11-4d04-abb4-90cb9beea24c",
   "metadata": {},
   "outputs": [
    {
     "data": {
      "text/plain": [
       "<tf.Tensor: shape=(2, 2), dtype=int32, numpy=\n",
       "array([[19, 22],\n",
       "       [43, 50]])>"
      ]
     },
     "execution_count": 43,
     "metadata": {},
     "output_type": "execute_result"
    }
   ],
   "source": [
    "r"
   ]
  },
  {
   "cell_type": "code",
   "execution_count": 47,
   "id": "d7475c5b-0c0a-4cfd-b667-7ded97bbb89f",
   "metadata": {},
   "outputs": [
    {
     "data": {
      "text/plain": [
       "<tf.Tensor: shape=(2, 2), dtype=float64, numpy=\n",
       "array([[5., 3.],\n",
       "       [2., 2.]])>"
      ]
     },
     "execution_count": 47,
     "metadata": {},
     "output_type": "execute_result"
    }
   ],
   "source": [
    "o = tf.constant([[1,2],[3,4]])\n",
    "p = tf.constant([[5,6],[6,8]])\n",
    "q = tf.divide(p,o)\n",
    "q"
   ]
  },
  {
   "cell_type": "markdown",
   "id": "29eeb7c9-b8a7-4937-bad4-4148d4696218",
   "metadata": {},
   "source": [
    "### [9] 자주 사용하는 함수"
   ]
  },
  {
   "cell_type": "code",
   "execution_count": 48,
   "id": "d787e878-33b7-4380-854a-0d6cee40243e",
   "metadata": {},
   "outputs": [
    {
     "data": {
      "text/plain": [
       "<tf.Tensor: shape=(3,), dtype=int32, numpy=array([1, 4, 9])>"
      ]
     },
     "execution_count": 48,
     "metadata": {},
     "output_type": "execute_result"
    }
   ],
   "source": [
    "# square\n",
    "s = [1,2,3]\n",
    "t = tf.square(s)\n",
    "t"
   ]
  },
  {
   "cell_type": "code",
   "execution_count": 49,
   "id": "1935f9a6-0e6c-4805-af6b-3ea54f89e6ed",
   "metadata": {},
   "outputs": [
    {
     "data": {
      "text/plain": [
       "<tf.Tensor: shape=(), dtype=int32, numpy=2>"
      ]
     },
     "execution_count": 49,
     "metadata": {},
     "output_type": "execute_result"
    }
   ],
   "source": [
    "# reduce_mean\n",
    "s = [1,2,3]\n",
    "u = tf.reduce_mean(s)\n",
    "u"
   ]
  },
  {
   "cell_type": "code",
   "execution_count": 57,
   "id": "f739685e-c834-45b6-8217-98ad40dbdcb4",
   "metadata": {},
   "outputs": [
    {
     "data": {
      "text/plain": [
       "<tf.Tensor: shape=(), dtype=int32, numpy=3>"
      ]
     },
     "execution_count": 57,
     "metadata": {},
     "output_type": "execute_result"
    }
   ],
   "source": [
    "# reduce_sum\n",
    "s = [[1,2,3],[4,5,6]]\n",
    "v = tf.reduce_mean(s)\n",
    "v"
   ]
  },
  {
   "cell_type": "code",
   "execution_count": 59,
   "id": "75f66629-1c6e-4708-b194-29d3d4d4c10b",
   "metadata": {},
   "outputs": [
    {
     "data": {
      "text/plain": [
       "<tf.Variable 'Variable:0' shape=() dtype=int32, numpy=10>"
      ]
     },
     "execution_count": 59,
     "metadata": {},
     "output_type": "execute_result"
    }
   ],
   "source": [
    "### variable\n",
    "v = tf.Variable(10)\n",
    "v"
   ]
  },
  {
   "cell_type": "code",
   "execution_count": 60,
   "id": "dad357e7-499a-41de-a013-ae7526ae43a2",
   "metadata": {},
   "outputs": [
    {
     "data": {
      "text/plain": [
       "tensorflow.python.ops.resource_variable_ops.ResourceVariable"
      ]
     },
     "execution_count": 60,
     "metadata": {},
     "output_type": "execute_result"
    }
   ],
   "source": [
    "type(v)"
   ]
  },
  {
   "cell_type": "code",
   "execution_count": 61,
   "id": "da6435a7-8268-48cc-bd83-c84afa823fdb",
   "metadata": {},
   "outputs": [
    {
     "data": {
      "text/plain": [
       "<tf.Variable 'UnreadVariable' shape=() dtype=int32, numpy=8>"
      ]
     },
     "execution_count": 61,
     "metadata": {},
     "output_type": "execute_result"
    }
   ],
   "source": [
    "## variable은 assign을 통해서 객체에 계산을 할 수 있다.\n",
    "v.assign_sub(2)"
   ]
  }
 ],
 "metadata": {
  "kernelspec": {
   "display_name": "Python 3 (ipykernel)",
   "language": "python",
   "name": "python3"
  },
  "language_info": {
   "codemirror_mode": {
    "name": "ipython",
    "version": 3
   },
   "file_extension": ".py",
   "mimetype": "text/x-python",
   "name": "python",
   "nbconvert_exporter": "python",
   "pygments_lexer": "ipython3",
   "version": "3.10.11"
  }
 },
 "nbformat": 4,
 "nbformat_minor": 5
}
