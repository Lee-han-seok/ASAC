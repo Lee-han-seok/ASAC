{
 "cells": [
  {
   "cell_type": "code",
   "execution_count": 1,
   "id": "3b96e08e-ad1f-45c2-afb6-7e4d552aa30d",
   "metadata": {},
   "outputs": [],
   "source": [
    "import tensorflow as tf\n",
    "import numpy as np\n",
    "import matplotlib.pyplot as plt\n",
    "from tensorflow.keras.layers import Dense, Flatten\n",
    "from tensorflow.keras import Sequential\n",
    "from tensorflow.keras.datasets.mnist import load_data\n",
    "from tensorflow.keras.utils import to_categorical"
   ]
  },
  {
   "cell_type": "code",
   "execution_count": 2,
   "id": "81a60bc1-5cf3-43d0-893b-d041e3aad08e",
   "metadata": {},
   "outputs": [
    {
     "name": "stdout",
     "output_type": "stream",
     "text": [
      "Downloading data from https://storage.googleapis.com/tensorflow/tf-keras-datasets/mnist.npz\n",
      "11490434/11490434 [==============================] - 3s 0us/step\n"
     ]
    }
   ],
   "source": [
    "mnistData = load_data()"
   ]
  },
  {
   "cell_type": "code",
   "execution_count": 3,
   "id": "bc9b96b8-cb5b-47e9-b778-bc1a84a4d497",
   "metadata": {},
   "outputs": [],
   "source": [
    "(X_train, y_train), (X_test, y_test) = mnistData"
   ]
  },
  {
   "cell_type": "code",
   "execution_count": 5,
   "id": "5fe2cdf0-ccd7-49a9-9c53-38f623f02528",
   "metadata": {},
   "outputs": [
    {
     "data": {
      "text/plain": [
       "((60000, 28, 28), (60000,))"
      ]
     },
     "execution_count": 5,
     "metadata": {},
     "output_type": "execute_result"
    }
   ],
   "source": [
    "X_train.shape, y_train.shape"
   ]
  },
  {
   "cell_type": "code",
   "execution_count": 8,
   "id": "16719283-42af-4b40-a80a-fdc9763fa511",
   "metadata": {},
   "outputs": [
    {
     "data": {
      "image/png": "[encoded data removed]",
      "text/plain": [
       "<Figure size 640x480 with 1 Axes>"
      ]
     },
     "metadata": {},
     "output_type": "display_data"
    }
   ],
   "source": [
    "plt.imshow(X_train[0], cmap = 'gray')\n",
    "plt.show()"
   ]
  },
  {
   "cell_type": "code",
   "execution_count": 9,
   "id": "2f059dd1-d508-4edf-99d2-a5d170ae8833",
   "metadata": {},
   "outputs": [
    {
     "data": {
      "text/plain": [
       "array([5, 0, 4, ..., 5, 6, 8], dtype=uint8)"
      ]
     },
     "execution_count": 9,
     "metadata": {},
     "output_type": "execute_result"
    }
   ],
   "source": [
    "y_train"
   ]
  },
  {
   "cell_type": "code",
   "execution_count": 10,
   "id": "64b9d763-38b9-4e73-831d-f35631b21cdd",
   "metadata": {
    "scrolled": true
   },
   "outputs": [
    {
     "data": {
      "text/plain": [
       "array([[0., 0., 0., ..., 0., 0., 0.],\n",
       "       [1., 0., 0., ..., 0., 0., 0.],\n",
       "       [0., 0., 0., ..., 0., 0., 0.],\n",
       "       ...,\n",
       "       [0., 0., 0., ..., 0., 0., 0.],\n",
       "       [0., 0., 0., ..., 0., 0., 0.],\n",
       "       [0., 0., 0., ..., 0., 1., 0.]], dtype=float32)"
      ]
     },
     "execution_count": 10,
     "metadata": {},
     "output_type": "execute_result"
    }
   ],
   "source": [
    "# 학습용으로 변환\n",
    "y_train_oh = to_categorical(y_train)\n",
    "y_train_oh"
   ]
  },
  {
   "cell_type": "code",
   "execution_count": 30,
   "id": "7bac65f5-5164-4edd-af6f-68b899e1b881",
   "metadata": {},
   "outputs": [
    {
     "data": {
      "text/plain": [
       "array([[0., 0., 0., ..., 1., 0., 0.],\n",
       "       [0., 0., 1., ..., 0., 0., 0.],\n",
       "       [0., 1., 0., ..., 0., 0., 0.],\n",
       "       ...,\n",
       "       [0., 0., 0., ..., 0., 0., 0.],\n",
       "       [0., 0., 0., ..., 0., 0., 0.],\n",
       "       [0., 0., 0., ..., 0., 0., 0.]], dtype=float32)"
      ]
     },
     "execution_count": 30,
     "metadata": {},
     "output_type": "execute_result"
    }
   ],
   "source": [
    "y_test_oh = to_categorical(y_test)\n",
    "y_test_oh"
   ]
  },
  {
   "cell_type": "code",
   "execution_count": 11,
   "id": "40ffa737-b21d-4f27-9f3f-9a73b4ad402f",
   "metadata": {},
   "outputs": [
    {
     "data": {
      "text/plain": [
       "(60000, 10)"
      ]
     },
     "execution_count": 11,
     "metadata": {},
     "output_type": "execute_result"
    }
   ],
   "source": [
    "y_train_oh.shape"
   ]
  },
  {
   "cell_type": "code",
   "execution_count": 13,
   "id": "a7faffac-6ebf-477b-8edf-9cb47920ffa9",
   "metadata": {},
   "outputs": [
    {
     "data": {
      "text/plain": [
       "(60000, 784)"
      ]
     },
     "execution_count": 13,
     "metadata": {},
     "output_type": "execute_result"
    }
   ],
   "source": [
    "X_train_R = X_train.reshape(-1, 28*28)\n",
    "X_train_R.shape"
   ]
  },
  {
   "cell_type": "code",
   "execution_count": 32,
   "id": "99ccaa82-bb13-49f5-b571-0bc868e3e6ae",
   "metadata": {},
   "outputs": [
    {
     "data": {
      "text/plain": [
       "(10000, 784)"
      ]
     },
     "execution_count": 32,
     "metadata": {},
     "output_type": "execute_result"
    }
   ],
   "source": [
    "X_test_R = X_test.reshape(-1, 28*28)\n",
    "X_test_R.shape"
   ]
  },
  {
   "cell_type": "code",
   "execution_count": 14,
   "id": "f49c2349-d2dc-4b95-acff-1b5034c0f373",
   "metadata": {},
   "outputs": [
    {
     "name": "stdout",
     "output_type": "stream",
     "text": [
      "Epoch 1/10\n",
      "1875/1875 [==============================] - 3s 1ms/step - loss: 1.2078 - acc: 0.7978\n",
      "Epoch 2/10\n",
      "1875/1875 [==============================] - 3s 1ms/step - loss: 0.3109 - acc: 0.9177\n",
      "Epoch 3/10\n",
      "1875/1875 [==============================] - 3s 2ms/step - loss: 0.2229 - acc: 0.9389\n",
      "Epoch 4/10\n",
      "1875/1875 [==============================] - 3s 1ms/step - loss: 0.1893 - acc: 0.9481\n",
      "Epoch 5/10\n",
      "1875/1875 [==============================] - 3s 1ms/step - loss: 0.1645 - acc: 0.9541\n",
      "Epoch 6/10\n",
      "1875/1875 [==============================] - 3s 1ms/step - loss: 0.1461 - acc: 0.9593\n",
      "Epoch 7/10\n",
      "1875/1875 [==============================] - 2s 1ms/step - loss: 0.1344 - acc: 0.9622\n",
      "Epoch 8/10\n",
      "1875/1875 [==============================] - 3s 1ms/step - loss: 0.1213 - acc: 0.9662\n",
      "Epoch 9/10\n",
      "1875/1875 [==============================] - 3s 1ms/step - loss: 0.1150 - acc: 0.9684\n",
      "Epoch 10/10\n",
      "1875/1875 [==============================] - 3s 1ms/step - loss: 0.1056 - acc: 0.9708\n"
     ]
    },
    {
     "data": {
      "text/plain": [
       "<keras.src.callbacks.History at 0x2e635623040>"
      ]
     },
     "execution_count": 14,
     "metadata": {},
     "output_type": "execute_result"
    }
   ],
   "source": [
    "# 학습\n",
    "model = Sequential()\n",
    "model.add(Dense(units = 64, input_dim = 784, activation = 'relu'))\n",
    "model.add(Dense(units = 32, input_dim = 64, activation = 'relu'))\n",
    "model.add(Dense(units = 10, input_dim = 32, activation = 'softmax'))\n",
    "model.compile(loss = 'categorical_crossentropy', optimizer = 'adam', metrics = ['acc'])\n",
    "model.fit(X_train_R, y_train_oh, epochs = 10)"
   ]
  },
  {
   "cell_type": "code",
   "execution_count": 16,
   "id": "737a9489-0032-4576-a732-7fdea60ddc41",
   "metadata": {},
   "outputs": [],
   "source": [
    "from sklearn.metrics import classification_report, accuracy_score"
   ]
  },
  {
   "cell_type": "code",
   "execution_count": 27,
   "id": "be9fe211-b02a-4f7e-b4a6-f31bf17cbcbd",
   "metadata": {},
   "outputs": [
    {
     "name": "stdout",
     "output_type": "stream",
     "text": [
      "1875/1875 [==============================] - 2s 911us/step\n"
     ]
    },
    {
     "data": {
      "text/plain": [
       "array([[6.6480397e-15, 2.8038088e-17, 5.3002257e-20, ..., 1.5411444e-17,\n",
       "        1.3719041e-10, 7.4518290e-08],\n",
       "       [9.9999487e-01, 0.0000000e+00, 2.7668573e-06, ..., 1.7777420e-07,\n",
       "        6.1411498e-07, 2.9778786e-07],\n",
       "       [4.0128830e-07, 4.8362922e-06, 2.4620809e-08, ..., 5.6706302e-08,\n",
       "        2.6400633e-11, 9.1995638e-09],\n",
       "       ...,\n",
       "       [4.2166413e-11, 4.5784665e-14, 8.3349021e-16, ..., 1.4393895e-15,\n",
       "        8.6244839e-08, 3.0841506e-06],\n",
       "       [6.6540142e-06, 7.7826951e-07, 1.3102443e-06, ..., 1.5442931e-13,\n",
       "        8.9480132e-08, 1.8157262e-12],\n",
       "       [6.7848887e-04, 8.8828657e-04, 1.1415096e-03, ..., 1.5932868e-05,\n",
       "        9.9270284e-01, 9.0663438e-04]], dtype=float32)"
      ]
     },
     "execution_count": 27,
     "metadata": {},
     "output_type": "execute_result"
    }
   ],
   "source": [
    "model.predict(X_train_R)"
   ]
  },
  {
   "cell_type": "code",
   "execution_count": 28,
   "id": "c34739cc-b9a7-4266-8cbc-e6870a4def83",
   "metadata": {},
   "outputs": [
    {
     "name": "stdout",
     "output_type": "stream",
     "text": [
      "1875/1875 [==============================] - 2s 906us/step\n"
     ]
    },
    {
     "data": {
      "text/plain": [
       "array([5, 0, 4, ..., 5, 6, 8], dtype=int64)"
      ]
     },
     "execution_count": 28,
     "metadata": {},
     "output_type": "execute_result"
    }
   ],
   "source": [
    "model.predict(X_train_R).argmax(axis = 1)"
   ]
  },
  {
   "cell_type": "code",
   "execution_count": 26,
   "id": "8db43766-ad51-43af-8a43-c87a3df0f300",
   "metadata": {},
   "outputs": [
    {
     "name": "stdout",
     "output_type": "stream",
     "text": [
      "1875/1875 [==============================] - 2s 914us/step\n",
      "              precision    recall  f1-score   support\n",
      "\n",
      "           0  0.9845689366 0.9910518318 0.9877997476      5923\n",
      "           1  0.9796307151 0.9915455354 0.9855521156      6742\n",
      "           2  0.9769165965 0.9731453508 0.9750273270      5958\n",
      "           3  0.9527896996 0.9776545425 0.9650619868      6131\n",
      "           4  0.9474209651 0.9746662102 0.9608504894      5842\n",
      "           5  0.9660985890 0.9725142963 0.9692958264      5421\n",
      "           6  0.9730986383 0.9901993917 0.9815745394      5918\n",
      "           7  0.9880355699 0.9754189944 0.9816867470      6265\n",
      "           8  0.9785867238 0.9372756794 0.9574858141      5851\n",
      "           9  0.9697022767 0.9307446630 0.9498241702      5949\n",
      "\n",
      "    accuracy                      0.9717500000     60000\n",
      "   macro avg  0.9716848711 0.9714216495 0.9714158763     60000\n",
      "weighted avg  0.9718943151 0.9717500000 0.9716859740     60000\n",
      "\n"
     ]
    }
   ],
   "source": [
    "print(classification_report(y_train_oh.argmax(axis = 1), model.predict(X_train_R).argmax(axis = 1), digits = 10))"
   ]
  },
  {
   "cell_type": "code",
   "execution_count": 33,
   "id": "bb8d282b-3646-4cdd-b9dd-6f906263afa0",
   "metadata": {
    "scrolled": true
   },
   "outputs": [
    {
     "name": "stdout",
     "output_type": "stream",
     "text": [
      "313/313 [==============================] - 0s 876us/step\n",
      "              precision    recall  f1-score   support\n",
      "\n",
      "           0  0.9709709710 0.9897959184 0.9802930773       980\n",
      "           1  0.9765217391 0.9894273128 0.9829321663      1135\n",
      "           2  0.9753694581 0.9593023256 0.9672691744      1032\n",
      "           3  0.9311320755 0.9772277228 0.9536231884      1010\n",
      "           4  0.9278048780 0.9684317719 0.9476831091       982\n",
      "           5  0.9466073415 0.9540358744 0.9503070910       892\n",
      "           6  0.9598765432 0.9739039666 0.9668393782       958\n",
      "           7  0.9799398195 0.9503891051 0.9649382716      1028\n",
      "           8  0.9750542299 0.9229979466 0.9483122363       974\n",
      "           9  0.9521331946 0.9068384539 0.9289340102      1009\n",
      "\n",
      "    accuracy                      0.9596000000     10000\n",
      "   macro avg  0.9595410250 0.9592350398 0.9591131703     10000\n",
      "weighted avg  0.9599751617 0.9596000000 0.9595134373     10000\n",
      "\n"
     ]
    }
   ],
   "source": [
    "print(classification_report(y_test_oh.argmax(axis = 1), model.predict(X_test_R).argmax(axis = 1), digits = 10))"
   ]
  },
  {
   "cell_type": "code",
   "execution_count": null,
   "id": "df25c637-ac9a-4a54-8afc-e2fe6c3a02f5",
   "metadata": {},
   "outputs": [],
   "source": []
  },
  {
   "cell_type": "code",
   "execution_count": 36,
   "id": "712f7c9b-08f4-4cbf-a221-2ecb91f3ae6f",
   "metadata": {},
   "outputs": [
    {
     "name": "stdout",
     "output_type": "stream",
     "text": [
      "Epoch 1/10\n",
      "1875/1875 [==============================] - 3s 1ms/step - loss: 1.5429 - acc: 0.7568\n",
      "Epoch 2/10\n",
      "1875/1875 [==============================] - 3s 1ms/step - loss: 0.3869 - acc: 0.8974\n",
      "Epoch 3/10\n",
      "1875/1875 [==============================] - 3s 1ms/step - loss: 0.2502 - acc: 0.9327\n",
      "Epoch 4/10\n",
      "1875/1875 [==============================] - 3s 1ms/step - loss: 0.1956 - acc: 0.9474\n",
      "Epoch 5/10\n",
      "1875/1875 [==============================] - 3s 1ms/step - loss: 0.1665 - acc: 0.9547\n",
      "Epoch 6/10\n",
      "1875/1875 [==============================] - 2s 1ms/step - loss: 0.1491 - acc: 0.9594\n",
      "Epoch 7/10\n",
      "1875/1875 [==============================] - 3s 1ms/step - loss: 0.1311 - acc: 0.9635\n",
      "Epoch 8/10\n",
      "1875/1875 [==============================] - 3s 1ms/step - loss: 0.1160 - acc: 0.9680\n",
      "Epoch 9/10\n",
      "1875/1875 [==============================] - 3s 1ms/step - loss: 0.1072 - acc: 0.9705\n",
      "Epoch 10/10\n",
      "1875/1875 [==============================] - 3s 1ms/step - loss: 0.1015 - acc: 0.9725\n"
     ]
    },
    {
     "data": {
      "text/plain": [
       "<keras.src.callbacks.History at 0x2e63a04ae90>"
      ]
     },
     "execution_count": 36,
     "metadata": {},
     "output_type": "execute_result"
    }
   ],
   "source": [
    "# 학습\n",
    "from tensorflow.keras.layers import Flatten\n",
    "\n",
    "model = Sequential()\n",
    "model.add(Flatten(input_shape = (28,28)))\n",
    "model.add(Dense(units = 64, input_dim = 784, activation = 'relu'))\n",
    "model.add(Dense(units = 32, input_dim = 64, activation = 'relu'))\n",
    "model.add(Dense(units = 10, input_dim = 32, activation = 'softmax'))\n",
    "model.compile(loss = 'sparse_categorical_crossentropy', optimizer = 'adam', metrics = ['acc'])\n",
    "model.fit(X_train, y_train, epochs = 10)"
   ]
  },
  {
   "cell_type": "code",
   "execution_count": 39,
   "id": "97222f83-a9a1-445b-b7d5-eba43df4c0ee",
   "metadata": {},
   "outputs": [
    {
     "name": "stdout",
     "output_type": "stream",
     "text": [
      "1875/1875 [==============================] - 2s 919us/step\n"
     ]
    },
    {
     "data": {
      "text/plain": [
       "array([[3.83922259e-33, 2.62196462e-11, 6.54027088e-15, ...,\n",
       "        1.00963846e-17, 1.66948748e-20, 1.06102775e-07],\n",
       "       [9.99968171e-01, 1.95951084e-13, 4.68033164e-13, ...,\n",
       "        4.43234027e-09, 1.67202757e-07, 4.59230449e-08],\n",
       "       [1.76234386e-18, 4.43243807e-05, 7.75050801e-10, ...,\n",
       "        4.19035082e-08, 1.58813786e-15, 1.78204073e-06],\n",
       "       ...,\n",
       "       [2.06055064e-29, 4.81351701e-19, 1.09839844e-22, ...,\n",
       "        6.05752915e-26, 3.22108906e-15, 8.65903615e-08],\n",
       "       [1.76393427e-04, 4.18881908e-11, 2.44433984e-09, ...,\n",
       "        2.44805210e-14, 1.01579303e-06, 1.26391546e-08],\n",
       "       [3.05696290e-06, 3.03547978e-08, 7.05044600e-09, ...,\n",
       "        1.00566955e-09, 9.96564090e-01, 2.70253862e-03]], dtype=float32)"
      ]
     },
     "execution_count": 39,
     "metadata": {},
     "output_type": "execute_result"
    }
   ],
   "source": [
    "model.predict(X_train)"
   ]
  },
  {
   "cell_type": "code",
   "execution_count": 38,
   "id": "5ec7974c-ceb6-4988-b462-dcdc87b44352",
   "metadata": {},
   "outputs": [
    {
     "name": "stdout",
     "output_type": "stream",
     "text": [
      "1875/1875 [==============================] - 2s 907us/step\n"
     ]
    },
    {
     "data": {
      "text/plain": [
       "(60000, 10)"
      ]
     },
     "execution_count": 38,
     "metadata": {},
     "output_type": "execute_result"
    }
   ],
   "source": [
    "model.predict(X_train).shape"
   ]
  },
  {
   "cell_type": "code",
   "execution_count": 41,
   "id": "ba6a8ca0-f377-4fc8-8c4c-e6e45a258f45",
   "metadata": {},
   "outputs": [
    {
     "name": "stdout",
     "output_type": "stream",
     "text": [
      "1/1 [==============================] - 0s 51ms/step\n"
     ]
    },
    {
     "data": {
      "text/plain": [
       "array([7], dtype=int64)"
      ]
     },
     "execution_count": 41,
     "metadata": {},
     "output_type": "execute_result"
    }
   ],
   "source": [
    "model.predict(X_test[0].reshape(1,28,28)).argmax(axis = 1)"
   ]
  }
 ],
 "metadata": {
  "kernelspec": {
   "display_name": "Python 3 (ipykernel)",
   "language": "python",
   "name": "python3"
  },
  "language_info": {
   "codemirror_mode": {
    "name": "ipython",
    "version": 3
   },
   "file_extension": ".py",
   "mimetype": "text/x-python",
   "name": "python",
   "nbconvert_exporter": "python",
   "pygments_lexer": "ipython3",
   "version": "3.10.11"
  }
 },
 "nbformat": 4,
 "nbformat_minor": 5
}
