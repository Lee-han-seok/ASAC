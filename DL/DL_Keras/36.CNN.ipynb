{
 "cells": [
  {
   "cell_type": "code",
   "execution_count": 2,
   "id": "b95b467d-d983-4ee1-a27b-dec6822427eb",
   "metadata": {},
   "outputs": [],
   "source": [
    "import tensorflow as tf\n",
    "import numpy as np\n",
    "import matplotlib.pyplot as plt\n",
    "\n",
    "from tensorflow.keras.layers import Dense, Flatten, Conv2D, MaxPool2D\n",
    "from tensorflow.keras.utils import to_categorical\n",
    "from tensorflow.keras import Sequential\n",
    "from tensorflow.keras.utils import to_categorical\n",
    "from tensorflow.keras.datasets.mnist import load_data"
   ]
  },
  {
   "cell_type": "code",
   "execution_count": 3,
   "id": "19e915f1-d79b-4c8b-8db6-665667efed21",
   "metadata": {},
   "outputs": [],
   "source": [
    "(X_train, y_train), (X_test, y_test) = load_data()"
   ]
  },
  {
   "cell_type": "code",
   "execution_count": 4,
   "id": "326b4cb6-a76a-4900-b2e7-fb1d1a83ce9e",
   "metadata": {},
   "outputs": [
    {
     "data": {
      "text/plain": [
       "(60000, 28, 28)"
      ]
     },
     "execution_count": 4,
     "metadata": {},
     "output_type": "execute_result"
    }
   ],
   "source": [
    "X_train.shape"
   ]
  },
  {
   "cell_type": "code",
   "execution_count": 5,
   "id": "4312ecd5-1255-43b8-a39a-64df036b79d4",
   "metadata": {},
   "outputs": [
    {
     "data": {
      "text/plain": [
       "(60000,)"
      ]
     },
     "execution_count": 5,
     "metadata": {},
     "output_type": "execute_result"
    }
   ],
   "source": [
    "y_train.shape"
   ]
  },
  {
   "cell_type": "code",
   "execution_count": 6,
   "id": "516e10d3-103c-4eb1-a1a0-73fe8d76c62b",
   "metadata": {},
   "outputs": [
    {
     "data": {
      "image/png": "[encoded data removed]",
      "text/plain": [
       "<Figure size 640x480 with 1 Axes>"
      ]
     },
     "metadata": {},
     "output_type": "display_data"
    },
    {
     "name": "stdout",
     "output_type": "stream",
     "text": [
      "(28, 28)\n"
     ]
    }
   ],
   "source": [
    "plt.imshow(X_train[0], cmap = 'gray')\n",
    "plt.show()\n",
    "print(X_train[0].shape)"
   ]
  },
  {
   "cell_type": "code",
   "execution_count": 7,
   "id": "95d36c35-c74b-43a0-8207-321bc65d408c",
   "metadata": {},
   "outputs": [
    {
     "data": {
      "text/plain": [
       "<tf.Tensor: shape=(1, 28, 28, 32), dtype=float32, numpy=\n",
       "array([[[[0., 0., 0., ..., 0., 0., 0.],\n",
       "         [0., 0., 0., ..., 0., 0., 0.],\n",
       "         [0., 0., 0., ..., 0., 0., 0.],\n",
       "         ...,\n",
       "         [0., 0., 0., ..., 0., 0., 0.],\n",
       "         [0., 0., 0., ..., 0., 0., 0.],\n",
       "         [0., 0., 0., ..., 0., 0., 0.]],\n",
       "\n",
       "        [[0., 0., 0., ..., 0., 0., 0.],\n",
       "         [0., 0., 0., ..., 0., 0., 0.],\n",
       "         [0., 0., 0., ..., 0., 0., 0.],\n",
       "         ...,\n",
       "         [0., 0., 0., ..., 0., 0., 0.],\n",
       "         [0., 0., 0., ..., 0., 0., 0.],\n",
       "         [0., 0., 0., ..., 0., 0., 0.]],\n",
       "\n",
       "        [[0., 0., 0., ..., 0., 0., 0.],\n",
       "         [0., 0., 0., ..., 0., 0., 0.],\n",
       "         [0., 0., 0., ..., 0., 0., 0.],\n",
       "         ...,\n",
       "         [0., 0., 0., ..., 0., 0., 0.],\n",
       "         [0., 0., 0., ..., 0., 0., 0.],\n",
       "         [0., 0., 0., ..., 0., 0., 0.]],\n",
       "\n",
       "        ...,\n",
       "\n",
       "        [[0., 0., 0., ..., 0., 0., 0.],\n",
       "         [0., 0., 0., ..., 0., 0., 0.],\n",
       "         [0., 0., 0., ..., 0., 0., 0.],\n",
       "         ...,\n",
       "         [0., 0., 0., ..., 0., 0., 0.],\n",
       "         [0., 0., 0., ..., 0., 0., 0.],\n",
       "         [0., 0., 0., ..., 0., 0., 0.]],\n",
       "\n",
       "        [[0., 0., 0., ..., 0., 0., 0.],\n",
       "         [0., 0., 0., ..., 0., 0., 0.],\n",
       "         [0., 0., 0., ..., 0., 0., 0.],\n",
       "         ...,\n",
       "         [0., 0., 0., ..., 0., 0., 0.],\n",
       "         [0., 0., 0., ..., 0., 0., 0.],\n",
       "         [0., 0., 0., ..., 0., 0., 0.]],\n",
       "\n",
       "        [[0., 0., 0., ..., 0., 0., 0.],\n",
       "         [0., 0., 0., ..., 0., 0., 0.],\n",
       "         [0., 0., 0., ..., 0., 0., 0.],\n",
       "         ...,\n",
       "         [0., 0., 0., ..., 0., 0., 0.],\n",
       "         [0., 0., 0., ..., 0., 0., 0.],\n",
       "         [0., 0., 0., ..., 0., 0., 0.]]]], dtype=float32)>"
      ]
     },
     "execution_count": 7,
     "metadata": {},
     "output_type": "execute_result"
    }
   ],
   "source": [
    "conv = Conv2D( 32, kernel_size = (3,3), strides = 1, padding = 'same', input_shape = (28,28,1))\n",
    "conv( tf.constant(X_train[0].reshape(1,28,28,1), tf.float32) )"
   ]
  },
  {
   "cell_type": "code",
   "execution_count": 8,
   "id": "1814a3ee-a72d-45b4-99fd-7f4a8f32677c",
   "metadata": {},
   "outputs": [
    {
     "data": {
      "text/plain": [
       "<tf.Tensor: shape=(1, 26, 26, 32), dtype=float32, numpy=\n",
       "array([[[[  0.       ,   0.       ,   0.       , ...,   0.       ,\n",
       "            0.       ,   0.       ],\n",
       "         [  0.       ,   0.       ,   0.       , ...,   0.       ,\n",
       "            0.       ,   0.       ],\n",
       "         [  0.       ,   0.       ,   0.       , ...,   0.       ,\n",
       "            0.       ,   0.       ],\n",
       "         ...,\n",
       "         [  0.       ,   0.       ,   0.       , ...,   0.       ,\n",
       "            0.       ,   0.       ],\n",
       "         [  0.       ,   0.       ,   0.       , ...,   0.       ,\n",
       "            0.       ,   0.       ],\n",
       "         [  0.       ,   0.       ,   0.       , ...,   0.       ,\n",
       "            0.       ,   0.       ]],\n",
       "\n",
       "        [[  0.       ,   0.       ,   0.       , ...,   0.       ,\n",
       "            0.       ,   0.       ],\n",
       "         [  0.       ,   0.       ,   0.       , ...,   0.       ,\n",
       "            0.       ,   0.       ],\n",
       "         [  0.       ,   0.       ,   0.       , ...,   0.       ,\n",
       "            0.       ,   0.       ],\n",
       "         ...,\n",
       "         [  0.       ,   0.       ,   0.       , ...,   0.       ,\n",
       "            0.       ,   0.       ],\n",
       "         [  0.       ,   0.       ,   0.       , ...,   0.       ,\n",
       "            0.       ,   0.       ],\n",
       "         [  0.       ,   0.       ,   0.       , ...,   0.       ,\n",
       "            0.       ,   0.       ]],\n",
       "\n",
       "        [[  0.       ,   0.       ,   0.       , ...,   0.       ,\n",
       "            0.       ,   0.       ],\n",
       "         [  0.       ,   0.       ,   0.       , ...,   0.       ,\n",
       "            0.       ,   0.       ],\n",
       "         [  0.       ,   0.       ,   0.       , ...,   0.       ,\n",
       "            0.       ,   0.       ],\n",
       "         ...,\n",
       "         [  0.       ,   0.       ,   0.       , ...,   0.       ,\n",
       "            0.       ,   0.       ],\n",
       "         [  0.       ,   0.       ,   0.       , ...,   0.       ,\n",
       "            0.       ,   0.       ],\n",
       "         [  0.       ,   0.       ,   0.       , ...,   0.       ,\n",
       "            0.       ,   0.       ]],\n",
       "\n",
       "        ...,\n",
       "\n",
       "        [[  0.       ,   0.       ,   0.       , ...,   0.       ,\n",
       "            0.       ,   0.       ],\n",
       "         [  0.       ,   0.       ,   0.       , ...,   0.       ,\n",
       "            0.       ,   0.       ],\n",
       "         [  1.6860448,  -0.3412971,  -1.4227248, ..., -12.058067 ,\n",
       "           -6.262166 ,  13.68703  ],\n",
       "         ...,\n",
       "         [  0.       ,   0.       ,   0.       , ...,   0.       ,\n",
       "            0.       ,   0.       ],\n",
       "         [  0.       ,   0.       ,   0.       , ...,   0.       ,\n",
       "            0.       ,   0.       ],\n",
       "         [  0.       ,   0.       ,   0.       , ...,   0.       ,\n",
       "            0.       ,   0.       ]],\n",
       "\n",
       "        [[  0.       ,   0.       ,   0.       , ...,   0.       ,\n",
       "            0.       ,   0.       ],\n",
       "         [  0.       ,   0.       ,   0.       , ...,   0.       ,\n",
       "            0.       ,   0.       ],\n",
       "         [ 17.395708 ,  16.629936 , -10.796946 , ...,  -7.2205186,\n",
       "          -10.926901 ,  -1.7654886],\n",
       "         ...,\n",
       "         [  0.       ,   0.       ,   0.       , ...,   0.       ,\n",
       "            0.       ,   0.       ],\n",
       "         [  0.       ,   0.       ,   0.       , ...,   0.       ,\n",
       "            0.       ,   0.       ],\n",
       "         [  0.       ,   0.       ,   0.       , ...,   0.       ,\n",
       "            0.       ,   0.       ]],\n",
       "\n",
       "        [[  0.       ,   0.       ,   0.       , ...,   0.       ,\n",
       "            0.       ,   0.       ],\n",
       "         [  0.       ,   0.       ,   0.       , ...,   0.       ,\n",
       "            0.       ,   0.       ],\n",
       "         [  0.       ,   0.       ,   0.       , ...,   0.       ,\n",
       "            0.       ,   0.       ],\n",
       "         ...,\n",
       "         [  0.       ,   0.       ,   0.       , ...,   0.       ,\n",
       "            0.       ,   0.       ],\n",
       "         [  0.       ,   0.       ,   0.       , ...,   0.       ,\n",
       "            0.       ,   0.       ],\n",
       "         [  0.       ,   0.       ,   0.       , ...,   0.       ,\n",
       "            0.       ,   0.       ]]]], dtype=float32)>"
      ]
     },
     "execution_count": 8,
     "metadata": {},
     "output_type": "execute_result"
    }
   ],
   "source": [
    "conv = Conv2D( 32, kernel_size = (3,3), strides = 1,input_shape = (28,28,1))\n",
    "conv( tf.constant(X_train[0].reshape(1,28,28,1), tf.float32) )"
   ]
  },
  {
   "cell_type": "code",
   "execution_count": 9,
   "id": "e6ba7dcf-15ac-4856-92d2-297d29642d1b",
   "metadata": {},
   "outputs": [],
   "source": [
    "from keras.layers import Dropout"
   ]
  },
  {
   "cell_type": "code",
   "execution_count": 10,
   "id": "46d4f351-f9ff-414a-ad5d-c590b628f0d2",
   "metadata": {},
   "outputs": [
    {
     "name": "stdout",
     "output_type": "stream",
     "text": [
      "Model: \"sequential\"\n",
      "_________________________________________________________________\n",
      " Layer (type)                Output Shape              Param #   \n",
      "=================================================================\n",
      " conv2d_2 (Conv2D)           (None, 28, 28, 32)        320       \n",
      "                                                                 \n",
      " conv2d_3 (Conv2D)           (None, 26, 26, 64)        18496     \n",
      "                                                                 \n",
      " max_pooling2d (MaxPooling2  (None, 13, 13, 64)        0         \n",
      " D)                                                              \n",
      "                                                                 \n",
      " flatten (Flatten)           (None, 10816)             0         \n",
      "                                                                 \n",
      " dense (Dense)               (None, 64)                692288    \n",
      "                                                                 \n",
      " dense_1 (Dense)             (None, 10)                650       \n",
      "                                                                 \n",
      "=================================================================\n",
      "Total params: 711754 (2.72 MB)\n",
      "Trainable params: 711754 (2.72 MB)\n",
      "Non-trainable params: 0 (0.00 Byte)\n",
      "_________________________________________________________________\n"
     ]
    }
   ],
   "source": [
    "model = Sequential()\n",
    "model.add(Conv2D(32, kernel_size = (3,3), strides = 1, input_shape = (28,28,1), activation = 'relu', padding = 'same'))\n",
    "model.add(Conv2D(64, kernel_size = (3,3), activation = 'relu'))\n",
    "model.add(MaxPool2D(pool_size = (2,2))) # 데이터를 절반으로 줄여준다 (2,2)크기마다 최댓값을 추출해 해당 지역을 대표\n",
    "model.add(Flatten()) # 데이터를 모두 펴주고\n",
    "model.add(Dense(units = 64, activation = 'relu')) # 전형적인 딥러닝 방식으로 복귀\n",
    "model.add(Dense(units = 10, activation = 'softmax')) # 다중 분류 문제임\n",
    "model.compile(loss = 'sparse_categorical_crossentropy', optimizer = 'adam', metrics = ['acc'])\n",
    "model.summary() # 모델 확인"
   ]
  },
  {
   "cell_type": "code",
   "execution_count": 11,
   "id": "a1864a54-47ef-4147-a258-382186f86706",
   "metadata": {},
   "outputs": [
    {
     "data": {
      "text/plain": [
       "(60000,)"
      ]
     },
     "execution_count": 11,
     "metadata": {},
     "output_type": "execute_result"
    }
   ],
   "source": [
    "y_train.shape"
   ]
  },
  {
   "cell_type": "code",
   "execution_count": 12,
   "id": "85e412f7-d040-415e-a635-e12315de1858",
   "metadata": {},
   "outputs": [
    {
     "data": {
      "text/plain": [
       "(60000, 28, 28)"
      ]
     },
     "execution_count": 12,
     "metadata": {},
     "output_type": "execute_result"
    }
   ],
   "source": [
    "X_train.shape"
   ]
  },
  {
   "cell_type": "code",
   "execution_count": 29,
   "id": "b600ea6e-9c56-4c43-8470-762b5ed15603",
   "metadata": {},
   "outputs": [
    {
     "name": "stdout",
     "output_type": "stream",
     "text": [
      "Epoch 1/5\n",
      "1875/1875 [==============================] - 85s 45ms/step - loss: 0.2689 - acc: 0.9525\n",
      "Epoch 2/5\n",
      "1875/1875 [==============================] - 82s 44ms/step - loss: 0.0536 - acc: 0.9838\n",
      "Epoch 3/5\n",
      "1875/1875 [==============================] - 82s 44ms/step - loss: 0.0376 - acc: 0.9885\n",
      "Epoch 4/5\n",
      "1875/1875 [==============================] - 84s 45ms/step - loss: 0.0323 - acc: 0.9904\n",
      "Epoch 5/5\n",
      "1875/1875 [==============================] - 91s 49ms/step - loss: 0.0250 - acc: 0.9922\n"
     ]
    },
    {
     "data": {
      "text/plain": [
       "<keras.src.callbacks.History at 0x22380bec130>"
      ]
     },
     "execution_count": 29,
     "metadata": {},
     "output_type": "execute_result"
    }
   ],
   "source": [
    "# 학습 진행\n",
    "model.fit(x_train.reshape(-1,28,28,1), y_train, epochs = 5)"
   ]
  },
  {
   "cell_type": "code",
   "execution_count": null,
   "id": "b14051da-ea58-4798-8d44-9df5d1c564ad",
   "metadata": {},
   "outputs": [],
   "source": [
    "# Fashin Mnist에 적용해보자"
   ]
  },
  {
   "cell_type": "code",
   "execution_count": 62,
   "id": "35d7b156-d9e0-4710-916c-0e8264ab3056",
   "metadata": {},
   "outputs": [],
   "source": [
    "from tensorflow.keras.datasets.fashion_mnist import load_data\n",
    "\n",
    "(X_train, y_train), (X_test, y_test) = load_data()"
   ]
  },
  {
   "cell_type": "code",
   "execution_count": 63,
   "id": "d05a97a0-58b9-4d3a-b881-e38966d940df",
   "metadata": {},
   "outputs": [
    {
     "data": {
      "text/plain": [
       "((60000, 28, 28), (10000, 28, 28), (60000,), (10000,))"
      ]
     },
     "execution_count": 63,
     "metadata": {},
     "output_type": "execute_result"
    }
   ],
   "source": [
    "X_train.shape, X_test.shape, y_train.shape, y_test.shape"
   ]
  },
  {
   "cell_type": "code",
   "execution_count": 68,
   "id": "ca6ba11c-efbe-41b1-9c50-7c776ee9d672",
   "metadata": {},
   "outputs": [],
   "source": [
    "X_train = X_train / 255.0\n",
    "X_test = X_test / 255.0"
   ]
  },
  {
   "cell_type": "code",
   "execution_count": 97,
   "id": "fad1939d-7630-4c1c-8178-524cad62dc73",
   "metadata": {},
   "outputs": [
    {
     "data": {
      "image/png": "[encoded data removed]",
      "text/plain": [
       "<Figure size 640x480 with 1 Axes>"
      ]
     },
     "metadata": {},
     "output_type": "display_data"
    }
   ],
   "source": [
    "plt.imshow(X_train[0], cmap = 'gray')\n",
    "plt.show()"
   ]
  },
  {
   "cell_type": "markdown",
   "id": "abd0a2e8-c70b-463d-9281-3fd855bc4c05",
   "metadata": {},
   "source": [
    "```\n",
    "Conv2D(\n",
    "    filters,\n",
    "    kernel_size,\n",
    "    strides=(1, 1),\n",
    "    padding='valid',\n",
    "    data_format=None,\n",
    "    dilation_rate=(1, 1),\n",
    "    groups=1,\n",
    "    activation=None,\n",
    "    use_bias=True,\n",
    "    kernel_initializer='glorot_uniform',\n",
    "    bias_initializer='zeros',\n",
    "    kernel_regularizer=None,\n",
    "    bias_regularizer=None,\n",
    "    activity_regularizer=None,\n",
    "    kernel_constraint=None,\n",
    "    bias_constraint=None,\n",
    "    **kwargs,\n",
    ")\n",
    "```"
   ]
  },
  {
   "cell_type": "code",
   "execution_count": 92,
   "id": "67157225-8144-4477-b0a2-f51f3f5a04d4",
   "metadata": {},
   "outputs": [
    {
     "name": "stdout",
     "output_type": "stream",
     "text": [
      "Model: \"sequential_10\"\n",
      "_________________________________________________________________\n",
      " Layer (type)                Output Shape              Param #   \n",
      "=================================================================\n",
      " conv2d_23 (Conv2D)          (None, 28, 28, 16)        272       \n",
      "                                                                 \n",
      " max_pooling2d_12 (MaxPooli  (None, 14, 14, 16)        0         \n",
      " ng2D)                                                           \n",
      "                                                                 \n",
      " conv2d_24 (Conv2D)          (None, 11, 11, 32)        8224      \n",
      "                                                                 \n",
      " max_pooling2d_13 (MaxPooli  (None, 5, 5, 32)          0         \n",
      " ng2D)                                                           \n",
      "                                                                 \n",
      " flatten_10 (Flatten)        (None, 800)               0         \n",
      "                                                                 \n",
      " dropout_1 (Dropout)         (None, 800)               0         \n",
      "                                                                 \n",
      " dense_21 (Dense)            (None, 32)                25632     \n",
      "                                                                 \n",
      " dense_22 (Dense)            (None, 10)                330       \n",
      "                                                                 \n",
      "=================================================================\n",
      "Total params: 34458 (134.60 KB)\n",
      "Trainable params: 34458 (134.60 KB)\n",
      "Non-trainable params: 0 (0.00 Byte)\n",
      "_________________________________________________________________\n"
     ]
    }
   ],
   "source": [
    "model = Sequential()\n",
    "model.add(Conv2D(16, kernel_size = (4,4), strides = 1, input_shape = (28,28,1), activation = 'relu', padding = 'same'))\n",
    "model.add(MaxPool2D(pool_size = (2,2)))\n",
    "model.add(Conv2D(32, kernel_size = (4,4), activation = 'relu'))\n",
    "model.add(MaxPool2D(pool_size = (2,2)))\n",
    "model.add(Flatten()) # 데이터를 모두 펴주고\n",
    "model.add(Dropout(0.3))\n",
    "model.add(Dense(units = 32, activation = 'relu')) # 전형적인 딥러닝 방식으로 복귀\n",
    "model.add(Dense(units = 10, activation = 'softmax')) # 다중 분류 문제임\n",
    "model.compile(loss = 'sparse_categorical_crossentropy', optimizer = 'adam', metrics = ['acc'])\n",
    "model.summary() # 모델 확인"
   ]
  },
  {
   "cell_type": "code",
   "execution_count": 93,
   "id": "9621bc36-82a3-4b06-b06d-acfe563557b4",
   "metadata": {},
   "outputs": [
    {
     "name": "stdout",
     "output_type": "stream",
     "text": [
      "Epoch 1/10\n",
      "1875/1875 [==============================] - 18s 10ms/step - loss: 0.5466 - acc: 0.8020\n",
      "Epoch 2/10\n",
      "1875/1875 [==============================] - 18s 10ms/step - loss: 0.3710 - acc: 0.8655\n",
      "Epoch 3/10\n",
      "1875/1875 [==============================] - 18s 10ms/step - loss: 0.3269 - acc: 0.8816\n",
      "Epoch 4/10\n",
      "1875/1875 [==============================] - 18s 10ms/step - loss: 0.3008 - acc: 0.8895\n",
      "Epoch 5/10\n",
      "1875/1875 [==============================] - 18s 10ms/step - loss: 0.2819 - acc: 0.8967\n",
      "Epoch 6/10\n",
      "1875/1875 [==============================] - 22s 12ms/step - loss: 0.2679 - acc: 0.9013\n",
      "Epoch 7/10\n",
      "1875/1875 [==============================] - 19s 10ms/step - loss: 0.2593 - acc: 0.9050\n",
      "Epoch 8/10\n",
      "1875/1875 [==============================] - 19s 10ms/step - loss: 0.2500 - acc: 0.9083\n",
      "Epoch 9/10\n",
      "1875/1875 [==============================] - 19s 10ms/step - loss: 0.2395 - acc: 0.9118\n",
      "Epoch 10/10\n",
      "1875/1875 [==============================] - 20s 11ms/step - loss: 0.2343 - acc: 0.9130\n"
     ]
    },
    {
     "data": {
      "text/plain": [
       "<keras.src.callbacks.History at 0x2238f3207c0>"
      ]
     },
     "execution_count": 93,
     "metadata": {},
     "output_type": "execute_result"
    }
   ],
   "source": [
    "model.fit(X_train.reshape(-1,28,28,1), y_train, epochs = 10)"
   ]
  },
  {
   "cell_type": "code",
   "execution_count": 94,
   "id": "d984cd28-f12d-45e5-9e07-05f6f0a7a4ac",
   "metadata": {},
   "outputs": [],
   "source": [
    "from sklearn.metrics import classification_report, accuracy_score, confusion_matrix\n",
    "import seaborn as sns"
   ]
  },
  {
   "cell_type": "code",
   "execution_count": 95,
   "id": "1ea3ca66-262b-4dae-b292-bba8ebd6f957",
   "metadata": {},
   "outputs": [
    {
     "name": "stdout",
     "output_type": "stream",
     "text": [
      "1875/1875 [==============================] - 7s 4ms/step\n",
      "              precision    recall  f1-score   support\n",
      "\n",
      "           0  0.9089495508 0.8768333333 0.8926026468      6000\n",
      "           1  0.9971404542 0.9880000000 0.9925491838      6000\n",
      "           2  0.8956798392 0.8915000000 0.8935850317      6000\n",
      "           3  0.9185505852 0.9548333333 0.9363406064      6000\n",
      "           4  0.8717324241 0.8948333333 0.8831318365      6000\n",
      "           5  0.9972895138 0.9811666667 0.9891623960      6000\n",
      "           6  0.8112823988 0.7981666667 0.8046710913      6000\n",
      "           7  0.9511139606 0.9890000000 0.9696870659      6000\n",
      "           8  0.9913333333 0.9913333333 0.9913333333      6000\n",
      "           9  0.9878715408 0.9638333333 0.9757044036      6000\n",
      "\n",
      "    accuracy                      0.9329500000     60000\n",
      "   macro avg  0.9330943601 0.9329500000 0.9328767595     60000\n",
      "weighted avg  0.9330943601 0.9329500000 0.9328767595     60000\n",
      "\n"
     ]
    }
   ],
   "source": [
    "print(classification_report(y_train, model.predict(X_train).argmax(axis = 1), digits = 10))"
   ]
  },
  {
   "cell_type": "code",
   "execution_count": 96,
   "id": "a1f4ff68-23a9-4997-ae88-8446c2ac113a",
   "metadata": {},
   "outputs": [
    {
     "name": "stdout",
     "output_type": "stream",
     "text": [
      "313/313 [==============================] - 1s 4ms/step\n",
      "              precision    recall  f1-score   support\n",
      "\n",
      "           0  0.8734567901 0.8490000000 0.8610547667      1000\n",
      "           1  0.9928716904 0.9750000000 0.9838546922      1000\n",
      "           2  0.8679435484 0.8610000000 0.8644578313      1000\n",
      "           3  0.8885714286 0.9330000000 0.9102439024      1000\n",
      "           4  0.8578528827 0.8630000000 0.8604187438      1000\n",
      "           5  0.9898063201 0.9710000000 0.9803129732      1000\n",
      "           6  0.7487335360 0.7390000000 0.7438349270      1000\n",
      "           7  0.9294449671 0.9880000000 0.9578284052      1000\n",
      "           8  0.9751243781 0.9800000000 0.9775561097      1000\n",
      "           9  0.9823284823 0.9450000000 0.9633027523      1000\n",
      "\n",
      "    accuracy                      0.9104000000     10000\n",
      "   macro avg  0.9106134024 0.9104000000 0.9102865104     10000\n",
      "weighted avg  0.9106134024 0.9104000000 0.9102865104     10000\n",
      "\n"
     ]
    }
   ],
   "source": [
    "print(classification_report(y_test, model.predict(X_test).argmax(axis = 1), digits = 10))"
   ]
  }
 ],
 "metadata": {
  "kernelspec": {
   "display_name": "Python 3 (ipykernel)",
   "language": "python",
   "name": "python3"
  },
  "language_info": {
   "codemirror_mode": {
    "name": "ipython",
    "version": 3
   },
   "file_extension": ".py",
   "mimetype": "text/x-python",
   "name": "python",
   "nbconvert_exporter": "python",
   "pygments_lexer": "ipython3",
   "version": "3.10.11"
  }
 },
 "nbformat": 4,
 "nbformat_minor": 5
}
